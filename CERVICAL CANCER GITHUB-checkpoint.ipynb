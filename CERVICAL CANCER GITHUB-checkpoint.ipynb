{
 "cells": [
  {
   "cell_type": "markdown",
   "metadata": {},
   "source": [
    "# INSPIRED FROM KAGGLE"
   ]
  },
  {
   "cell_type": "markdown",
   "metadata": {},
   "source": [
    "SOURCE : https://www.kaggle.com/naveenram/ml-models-for-prediction-of-cervical-cancer"
   ]
  },
  {
   "cell_type": "code",
   "execution_count": 105,
   "metadata": {},
   "outputs": [],
   "source": [
    "import pandas as pd\n",
    "import numpy as np\n",
    "import seaborn as sns\n",
    "\n",
    "import matplotlib.pyplot as plt\n",
    "\n",
    "%matplotlib inline"
   ]
  },
  {
   "cell_type": "code",
   "execution_count": 106,
   "metadata": {},
   "outputs": [],
   "source": [
    "from sklearn.model_selection import train_test_split\n",
    "from sklearn.preprocessing import StandardScaler\n",
    "from sklearn.decomposition import PCA"
   ]
  },
  {
   "cell_type": "code",
   "execution_count": 107,
   "metadata": {},
   "outputs": [
    {
     "data": {
      "text/html": [
       "<div>\n",
       "<style scoped>\n",
       "    .dataframe tbody tr th:only-of-type {\n",
       "        vertical-align: middle;\n",
       "    }\n",
       "\n",
       "    .dataframe tbody tr th {\n",
       "        vertical-align: top;\n",
       "    }\n",
       "\n",
       "    .dataframe thead th {\n",
       "        text-align: right;\n",
       "    }\n",
       "</style>\n",
       "<table border=\"1\" class=\"dataframe\">\n",
       "  <thead>\n",
       "    <tr style=\"text-align: right;\">\n",
       "      <th></th>\n",
       "      <th>Age</th>\n",
       "      <th>Number of sexual partners</th>\n",
       "      <th>First sexual intercourse</th>\n",
       "      <th>Num of pregnancies</th>\n",
       "      <th>Smokes</th>\n",
       "      <th>Smokes (years)</th>\n",
       "      <th>Smokes (packs/year)</th>\n",
       "      <th>Hormonal Contraceptives</th>\n",
       "      <th>Hormonal Contraceptives (years)</th>\n",
       "      <th>IUD</th>\n",
       "      <th>...</th>\n",
       "      <th>STDs: Time since first diagnosis</th>\n",
       "      <th>STDs: Time since last diagnosis</th>\n",
       "      <th>Dx:Cancer</th>\n",
       "      <th>Dx:CIN</th>\n",
       "      <th>Dx:HPV</th>\n",
       "      <th>Dx</th>\n",
       "      <th>Hinselmann</th>\n",
       "      <th>Schiller</th>\n",
       "      <th>Citology</th>\n",
       "      <th>Biopsy</th>\n",
       "    </tr>\n",
       "  </thead>\n",
       "  <tbody>\n",
       "    <tr>\n",
       "      <th>0</th>\n",
       "      <td>18</td>\n",
       "      <td>4.0</td>\n",
       "      <td>15.0</td>\n",
       "      <td>1.0</td>\n",
       "      <td>0.0</td>\n",
       "      <td>0.0</td>\n",
       "      <td>0.0</td>\n",
       "      <td>0.0</td>\n",
       "      <td>0.0</td>\n",
       "      <td>0.0</td>\n",
       "      <td>...</td>\n",
       "      <td>?</td>\n",
       "      <td>?</td>\n",
       "      <td>0</td>\n",
       "      <td>0</td>\n",
       "      <td>0</td>\n",
       "      <td>0</td>\n",
       "      <td>0</td>\n",
       "      <td>0</td>\n",
       "      <td>0</td>\n",
       "      <td>0</td>\n",
       "    </tr>\n",
       "    <tr>\n",
       "      <th>1</th>\n",
       "      <td>15</td>\n",
       "      <td>1.0</td>\n",
       "      <td>14.0</td>\n",
       "      <td>1.0</td>\n",
       "      <td>0.0</td>\n",
       "      <td>0.0</td>\n",
       "      <td>0.0</td>\n",
       "      <td>0.0</td>\n",
       "      <td>0.0</td>\n",
       "      <td>0.0</td>\n",
       "      <td>...</td>\n",
       "      <td>?</td>\n",
       "      <td>?</td>\n",
       "      <td>0</td>\n",
       "      <td>0</td>\n",
       "      <td>0</td>\n",
       "      <td>0</td>\n",
       "      <td>0</td>\n",
       "      <td>0</td>\n",
       "      <td>0</td>\n",
       "      <td>0</td>\n",
       "    </tr>\n",
       "    <tr>\n",
       "      <th>2</th>\n",
       "      <td>34</td>\n",
       "      <td>1.0</td>\n",
       "      <td>?</td>\n",
       "      <td>1.0</td>\n",
       "      <td>0.0</td>\n",
       "      <td>0.0</td>\n",
       "      <td>0.0</td>\n",
       "      <td>0.0</td>\n",
       "      <td>0.0</td>\n",
       "      <td>0.0</td>\n",
       "      <td>...</td>\n",
       "      <td>?</td>\n",
       "      <td>?</td>\n",
       "      <td>0</td>\n",
       "      <td>0</td>\n",
       "      <td>0</td>\n",
       "      <td>0</td>\n",
       "      <td>0</td>\n",
       "      <td>0</td>\n",
       "      <td>0</td>\n",
       "      <td>0</td>\n",
       "    </tr>\n",
       "    <tr>\n",
       "      <th>3</th>\n",
       "      <td>52</td>\n",
       "      <td>5.0</td>\n",
       "      <td>16.0</td>\n",
       "      <td>4.0</td>\n",
       "      <td>1.0</td>\n",
       "      <td>37.0</td>\n",
       "      <td>37.0</td>\n",
       "      <td>1.0</td>\n",
       "      <td>3.0</td>\n",
       "      <td>0.0</td>\n",
       "      <td>...</td>\n",
       "      <td>?</td>\n",
       "      <td>?</td>\n",
       "      <td>1</td>\n",
       "      <td>0</td>\n",
       "      <td>1</td>\n",
       "      <td>0</td>\n",
       "      <td>0</td>\n",
       "      <td>0</td>\n",
       "      <td>0</td>\n",
       "      <td>0</td>\n",
       "    </tr>\n",
       "    <tr>\n",
       "      <th>4</th>\n",
       "      <td>46</td>\n",
       "      <td>3.0</td>\n",
       "      <td>21.0</td>\n",
       "      <td>4.0</td>\n",
       "      <td>0.0</td>\n",
       "      <td>0.0</td>\n",
       "      <td>0.0</td>\n",
       "      <td>1.0</td>\n",
       "      <td>15.0</td>\n",
       "      <td>0.0</td>\n",
       "      <td>...</td>\n",
       "      <td>?</td>\n",
       "      <td>?</td>\n",
       "      <td>0</td>\n",
       "      <td>0</td>\n",
       "      <td>0</td>\n",
       "      <td>0</td>\n",
       "      <td>0</td>\n",
       "      <td>0</td>\n",
       "      <td>0</td>\n",
       "      <td>0</td>\n",
       "    </tr>\n",
       "  </tbody>\n",
       "</table>\n",
       "<p>5 rows × 36 columns</p>\n",
       "</div>"
      ],
      "text/plain": [
       "   Age Number of sexual partners First sexual intercourse Num of pregnancies  \\\n",
       "0   18                       4.0                     15.0                1.0   \n",
       "1   15                       1.0                     14.0                1.0   \n",
       "2   34                       1.0                        ?                1.0   \n",
       "3   52                       5.0                     16.0                4.0   \n",
       "4   46                       3.0                     21.0                4.0   \n",
       "\n",
       "  Smokes Smokes (years) Smokes (packs/year) Hormonal Contraceptives  \\\n",
       "0    0.0            0.0                 0.0                     0.0   \n",
       "1    0.0            0.0                 0.0                     0.0   \n",
       "2    0.0            0.0                 0.0                     0.0   \n",
       "3    1.0           37.0                37.0                     1.0   \n",
       "4    0.0            0.0                 0.0                     1.0   \n",
       "\n",
       "  Hormonal Contraceptives (years)  IUD  ... STDs: Time since first diagnosis  \\\n",
       "0                             0.0  0.0  ...                                ?   \n",
       "1                             0.0  0.0  ...                                ?   \n",
       "2                             0.0  0.0  ...                                ?   \n",
       "3                             3.0  0.0  ...                                ?   \n",
       "4                            15.0  0.0  ...                                ?   \n",
       "\n",
       "  STDs: Time since last diagnosis Dx:Cancer Dx:CIN Dx:HPV Dx Hinselmann  \\\n",
       "0                               ?         0      0      0  0          0   \n",
       "1                               ?         0      0      0  0          0   \n",
       "2                               ?         0      0      0  0          0   \n",
       "3                               ?         1      0      1  0          0   \n",
       "4                               ?         0      0      0  0          0   \n",
       "\n",
       "  Schiller Citology Biopsy  \n",
       "0        0        0      0  \n",
       "1        0        0      0  \n",
       "2        0        0      0  \n",
       "3        0        0      0  \n",
       "4        0        0      0  \n",
       "\n",
       "[5 rows x 36 columns]"
      ]
     },
     "execution_count": 107,
     "metadata": {},
     "output_type": "execute_result"
    }
   ],
   "source": [
    "df=pd.read_csv(\"risk_factors_cervical_cancer.csv\")\n",
    "df.head()"
   ]
  },
  {
   "cell_type": "code",
   "execution_count": 108,
   "metadata": {},
   "outputs": [
    {
     "data": {
      "text/html": [
       "<div>\n",
       "<style scoped>\n",
       "    .dataframe tbody tr th:only-of-type {\n",
       "        vertical-align: middle;\n",
       "    }\n",
       "\n",
       "    .dataframe tbody tr th {\n",
       "        vertical-align: top;\n",
       "    }\n",
       "\n",
       "    .dataframe thead th {\n",
       "        text-align: right;\n",
       "    }\n",
       "</style>\n",
       "<table border=\"1\" class=\"dataframe\">\n",
       "  <thead>\n",
       "    <tr style=\"text-align: right;\">\n",
       "      <th></th>\n",
       "      <th>Age</th>\n",
       "      <th>STDs: Number of diagnosis</th>\n",
       "      <th>Dx:Cancer</th>\n",
       "      <th>Dx:CIN</th>\n",
       "      <th>Dx:HPV</th>\n",
       "      <th>Dx</th>\n",
       "      <th>Hinselmann</th>\n",
       "      <th>Schiller</th>\n",
       "      <th>Citology</th>\n",
       "      <th>Biopsy</th>\n",
       "    </tr>\n",
       "  </thead>\n",
       "  <tbody>\n",
       "    <tr>\n",
       "      <th>count</th>\n",
       "      <td>858.000000</td>\n",
       "      <td>858.000000</td>\n",
       "      <td>858.000000</td>\n",
       "      <td>858.000000</td>\n",
       "      <td>858.000000</td>\n",
       "      <td>858.000000</td>\n",
       "      <td>858.000000</td>\n",
       "      <td>858.000000</td>\n",
       "      <td>858.000000</td>\n",
       "      <td>858.000000</td>\n",
       "    </tr>\n",
       "    <tr>\n",
       "      <th>mean</th>\n",
       "      <td>26.820513</td>\n",
       "      <td>0.087413</td>\n",
       "      <td>0.020979</td>\n",
       "      <td>0.010490</td>\n",
       "      <td>0.020979</td>\n",
       "      <td>0.027972</td>\n",
       "      <td>0.040793</td>\n",
       "      <td>0.086247</td>\n",
       "      <td>0.051282</td>\n",
       "      <td>0.064103</td>\n",
       "    </tr>\n",
       "    <tr>\n",
       "      <th>std</th>\n",
       "      <td>8.497948</td>\n",
       "      <td>0.302545</td>\n",
       "      <td>0.143398</td>\n",
       "      <td>0.101939</td>\n",
       "      <td>0.143398</td>\n",
       "      <td>0.164989</td>\n",
       "      <td>0.197925</td>\n",
       "      <td>0.280892</td>\n",
       "      <td>0.220701</td>\n",
       "      <td>0.245078</td>\n",
       "    </tr>\n",
       "    <tr>\n",
       "      <th>min</th>\n",
       "      <td>13.000000</td>\n",
       "      <td>0.000000</td>\n",
       "      <td>0.000000</td>\n",
       "      <td>0.000000</td>\n",
       "      <td>0.000000</td>\n",
       "      <td>0.000000</td>\n",
       "      <td>0.000000</td>\n",
       "      <td>0.000000</td>\n",
       "      <td>0.000000</td>\n",
       "      <td>0.000000</td>\n",
       "    </tr>\n",
       "    <tr>\n",
       "      <th>25%</th>\n",
       "      <td>20.000000</td>\n",
       "      <td>0.000000</td>\n",
       "      <td>0.000000</td>\n",
       "      <td>0.000000</td>\n",
       "      <td>0.000000</td>\n",
       "      <td>0.000000</td>\n",
       "      <td>0.000000</td>\n",
       "      <td>0.000000</td>\n",
       "      <td>0.000000</td>\n",
       "      <td>0.000000</td>\n",
       "    </tr>\n",
       "    <tr>\n",
       "      <th>50%</th>\n",
       "      <td>25.000000</td>\n",
       "      <td>0.000000</td>\n",
       "      <td>0.000000</td>\n",
       "      <td>0.000000</td>\n",
       "      <td>0.000000</td>\n",
       "      <td>0.000000</td>\n",
       "      <td>0.000000</td>\n",
       "      <td>0.000000</td>\n",
       "      <td>0.000000</td>\n",
       "      <td>0.000000</td>\n",
       "    </tr>\n",
       "    <tr>\n",
       "      <th>75%</th>\n",
       "      <td>32.000000</td>\n",
       "      <td>0.000000</td>\n",
       "      <td>0.000000</td>\n",
       "      <td>0.000000</td>\n",
       "      <td>0.000000</td>\n",
       "      <td>0.000000</td>\n",
       "      <td>0.000000</td>\n",
       "      <td>0.000000</td>\n",
       "      <td>0.000000</td>\n",
       "      <td>0.000000</td>\n",
       "    </tr>\n",
       "    <tr>\n",
       "      <th>max</th>\n",
       "      <td>84.000000</td>\n",
       "      <td>3.000000</td>\n",
       "      <td>1.000000</td>\n",
       "      <td>1.000000</td>\n",
       "      <td>1.000000</td>\n",
       "      <td>1.000000</td>\n",
       "      <td>1.000000</td>\n",
       "      <td>1.000000</td>\n",
       "      <td>1.000000</td>\n",
       "      <td>1.000000</td>\n",
       "    </tr>\n",
       "  </tbody>\n",
       "</table>\n",
       "</div>"
      ],
      "text/plain": [
       "              Age  STDs: Number of diagnosis   Dx:Cancer      Dx:CIN  \\\n",
       "count  858.000000                 858.000000  858.000000  858.000000   \n",
       "mean    26.820513                   0.087413    0.020979    0.010490   \n",
       "std      8.497948                   0.302545    0.143398    0.101939   \n",
       "min     13.000000                   0.000000    0.000000    0.000000   \n",
       "25%     20.000000                   0.000000    0.000000    0.000000   \n",
       "50%     25.000000                   0.000000    0.000000    0.000000   \n",
       "75%     32.000000                   0.000000    0.000000    0.000000   \n",
       "max     84.000000                   3.000000    1.000000    1.000000   \n",
       "\n",
       "           Dx:HPV          Dx  Hinselmann    Schiller    Citology      Biopsy  \n",
       "count  858.000000  858.000000  858.000000  858.000000  858.000000  858.000000  \n",
       "mean     0.020979    0.027972    0.040793    0.086247    0.051282    0.064103  \n",
       "std      0.143398    0.164989    0.197925    0.280892    0.220701    0.245078  \n",
       "min      0.000000    0.000000    0.000000    0.000000    0.000000    0.000000  \n",
       "25%      0.000000    0.000000    0.000000    0.000000    0.000000    0.000000  \n",
       "50%      0.000000    0.000000    0.000000    0.000000    0.000000    0.000000  \n",
       "75%      0.000000    0.000000    0.000000    0.000000    0.000000    0.000000  \n",
       "max      1.000000    1.000000    1.000000    1.000000    1.000000    1.000000  "
      ]
     },
     "execution_count": 108,
     "metadata": {},
     "output_type": "execute_result"
    }
   ],
   "source": [
    "df.describe()"
   ]
  },
  {
   "cell_type": "code",
   "execution_count": 109,
   "metadata": {
    "scrolled": true
   },
   "outputs": [
    {
     "name": "stdout",
     "output_type": "stream",
     "text": [
      "<class 'pandas.core.frame.DataFrame'>\n",
      "RangeIndex: 858 entries, 0 to 857\n",
      "Data columns (total 36 columns):\n",
      " #   Column                              Non-Null Count  Dtype \n",
      "---  ------                              --------------  ----- \n",
      " 0   Age                                 858 non-null    int64 \n",
      " 1   Number of sexual partners           858 non-null    object\n",
      " 2   First sexual intercourse            858 non-null    object\n",
      " 3   Num of pregnancies                  858 non-null    object\n",
      " 4   Smokes                              858 non-null    object\n",
      " 5   Smokes (years)                      858 non-null    object\n",
      " 6   Smokes (packs/year)                 858 non-null    object\n",
      " 7   Hormonal Contraceptives             858 non-null    object\n",
      " 8   Hormonal Contraceptives (years)     858 non-null    object\n",
      " 9   IUD                                 858 non-null    object\n",
      " 10  IUD (years)                         858 non-null    object\n",
      " 11  STDs                                858 non-null    object\n",
      " 12  STDs (number)                       858 non-null    object\n",
      " 13  STDs:condylomatosis                 858 non-null    object\n",
      " 14  STDs:cervical condylomatosis        858 non-null    object\n",
      " 15  STDs:vaginal condylomatosis         858 non-null    object\n",
      " 16  STDs:vulvo-perineal condylomatosis  858 non-null    object\n",
      " 17  STDs:syphilis                       858 non-null    object\n",
      " 18  STDs:pelvic inflammatory disease    858 non-null    object\n",
      " 19  STDs:genital herpes                 858 non-null    object\n",
      " 20  STDs:molluscum contagiosum          858 non-null    object\n",
      " 21  STDs:AIDS                           858 non-null    object\n",
      " 22  STDs:HIV                            858 non-null    object\n",
      " 23  STDs:Hepatitis B                    858 non-null    object\n",
      " 24  STDs:HPV                            858 non-null    object\n",
      " 25  STDs: Number of diagnosis           858 non-null    int64 \n",
      " 26  STDs: Time since first diagnosis    858 non-null    object\n",
      " 27  STDs: Time since last diagnosis     858 non-null    object\n",
      " 28  Dx:Cancer                           858 non-null    int64 \n",
      " 29  Dx:CIN                              858 non-null    int64 \n",
      " 30  Dx:HPV                              858 non-null    int64 \n",
      " 31  Dx                                  858 non-null    int64 \n",
      " 32  Hinselmann                          858 non-null    int64 \n",
      " 33  Schiller                            858 non-null    int64 \n",
      " 34  Citology                            858 non-null    int64 \n",
      " 35  Biopsy                              858 non-null    int64 \n",
      "dtypes: int64(10), object(26)\n",
      "memory usage: 241.4+ KB\n"
     ]
    }
   ],
   "source": [
    "df.info()"
   ]
  },
  {
   "cell_type": "markdown",
   "metadata": {},
   "source": [
    "# ಠ╭╮ಠ  So many OBJECT dtype  , We have to change them  into numeric"
   ]
  },
  {
   "cell_type": "code",
   "execution_count": 110,
   "metadata": {},
   "outputs": [
    {
     "data": {
      "text/plain": [
       "Age                                   0\n",
       "Number of sexual partners             0\n",
       "First sexual intercourse              0\n",
       "Num of pregnancies                    0\n",
       "Smokes                                0\n",
       "Smokes (years)                        0\n",
       "Smokes (packs/year)                   0\n",
       "Hormonal Contraceptives               0\n",
       "Hormonal Contraceptives (years)       0\n",
       "IUD                                   0\n",
       "IUD (years)                           0\n",
       "STDs                                  0\n",
       "STDs (number)                         0\n",
       "STDs:condylomatosis                   0\n",
       "STDs:cervical condylomatosis          0\n",
       "STDs:vaginal condylomatosis           0\n",
       "STDs:vulvo-perineal condylomatosis    0\n",
       "STDs:syphilis                         0\n",
       "STDs:pelvic inflammatory disease      0\n",
       "STDs:genital herpes                   0\n",
       "STDs:molluscum contagiosum            0\n",
       "STDs:AIDS                             0\n",
       "STDs:HIV                              0\n",
       "STDs:Hepatitis B                      0\n",
       "STDs:HPV                              0\n",
       "STDs: Number of diagnosis             0\n",
       "STDs: Time since first diagnosis      0\n",
       "STDs: Time since last diagnosis       0\n",
       "Dx:Cancer                             0\n",
       "Dx:CIN                                0\n",
       "Dx:HPV                                0\n",
       "Dx                                    0\n",
       "Hinselmann                            0\n",
       "Schiller                              0\n",
       "Citology                              0\n",
       "Biopsy                                0\n",
       "dtype: int64"
      ]
     },
     "execution_count": 110,
     "metadata": {},
     "output_type": "execute_result"
    }
   ],
   "source": [
    "df.isnull().sum()"
   ]
  },
  {
   "cell_type": "markdown",
   "metadata": {},
   "source": [
    "## NOW IT MIGHT SEEM THAT, EVENTHING IS NORMAL :)..BUT!!"
   ]
  },
  {
   "cell_type": "markdown",
   "metadata": {},
   "source": [
    "# THERE'S A BIG ISSUE ...THE CSV is filled with '?' values"
   ]
  },
  {
   "cell_type": "code",
   "execution_count": 111,
   "metadata": {},
   "outputs": [],
   "source": [
    "df_raw=df"
   ]
  },
  {
   "cell_type": "markdown",
   "metadata": {},
   "source": [
    "### Seems like we are having some missing values which we will replace by Numpy's NaN for now."
   ]
  },
  {
   "cell_type": "code",
   "execution_count": 112,
   "metadata": {},
   "outputs": [],
   "source": [
    "df_nan = df_raw.replace('?', np.nan) \n"
   ]
  },
  {
   "cell_type": "code",
   "execution_count": 113,
   "metadata": {},
   "outputs": [
    {
     "data": {
      "text/plain": [
       "Age                                     0\n",
       "Number of sexual partners              26\n",
       "First sexual intercourse                7\n",
       "Num of pregnancies                     56\n",
       "Smokes                                 13\n",
       "Smokes (years)                         13\n",
       "Smokes (packs/year)                    13\n",
       "Hormonal Contraceptives               108\n",
       "Hormonal Contraceptives (years)       108\n",
       "IUD                                   117\n",
       "IUD (years)                           117\n",
       "STDs                                  105\n",
       "STDs (number)                         105\n",
       "STDs:condylomatosis                   105\n",
       "STDs:cervical condylomatosis          105\n",
       "STDs:vaginal condylomatosis           105\n",
       "STDs:vulvo-perineal condylomatosis    105\n",
       "STDs:syphilis                         105\n",
       "STDs:pelvic inflammatory disease      105\n",
       "STDs:genital herpes                   105\n",
       "STDs:molluscum contagiosum            105\n",
       "STDs:AIDS                             105\n",
       "STDs:HIV                              105\n",
       "STDs:Hepatitis B                      105\n",
       "STDs:HPV                              105\n",
       "STDs: Number of diagnosis               0\n",
       "STDs: Time since first diagnosis      787\n",
       "STDs: Time since last diagnosis       787\n",
       "Dx:Cancer                               0\n",
       "Dx:CIN                                  0\n",
       "Dx:HPV                                  0\n",
       "Dx                                      0\n",
       "Hinselmann                              0\n",
       "Schiller                                0\n",
       "Citology                                0\n",
       "Biopsy                                  0\n",
       "dtype: int64"
      ]
     },
     "execution_count": 113,
     "metadata": {},
     "output_type": "execute_result"
    }
   ],
   "source": [
    "df_nan.isnull().sum() ### check for null values in every column.\n"
   ]
  },
  {
   "cell_type": "markdown",
   "metadata": {},
   "source": [
    "# (╥_╥)     So many nan values "
   ]
  },
  {
   "cell_type": "markdown",
   "metadata": {},
   "source": [
    "# (╥_╥) (⋟﹏⋞)"
   ]
  },
  {
   "cell_type": "code",
   "execution_count": 114,
   "metadata": {},
   "outputs": [],
   "source": [
    "\n",
    "\n",
    "df = df_nan #temporary save\n"
   ]
  },
  {
   "cell_type": "markdown",
   "metadata": {},
   "source": [
    "## LOGIC AND PARADIGM"
   ]
  },
  {
   "cell_type": "markdown",
   "metadata": {},
   "source": [
    "### 1. We cant distinguish between '?' and object/float/int64 . Convert '?' into NaN </b>\n",
    "### 2. Converitng the object type into Float/int64 numeric dtype\n",
    "### 3. Now if we see the INFO we fill find the columns which lack the float/int ; OR the values which we couldnt detect in first place \n",
    "\n",
    "### 4.  Filling those columns which have low values than the max. no. of values in a particular columns"
   ]
  },
  {
   "cell_type": "code",
   "execution_count": 115,
   "metadata": {},
   "outputs": [
    {
     "name": "stdout",
     "output_type": "stream",
     "text": [
      "<class 'pandas.core.frame.DataFrame'>\n",
      "RangeIndex: 858 entries, 0 to 857\n",
      "Data columns (total 36 columns):\n",
      " #   Column                              Non-Null Count  Dtype \n",
      "---  ------                              --------------  ----- \n",
      " 0   Age                                 858 non-null    int64 \n",
      " 1   Number of sexual partners           832 non-null    object\n",
      " 2   First sexual intercourse            851 non-null    object\n",
      " 3   Num of pregnancies                  802 non-null    object\n",
      " 4   Smokes                              845 non-null    object\n",
      " 5   Smokes (years)                      845 non-null    object\n",
      " 6   Smokes (packs/year)                 845 non-null    object\n",
      " 7   Hormonal Contraceptives             750 non-null    object\n",
      " 8   Hormonal Contraceptives (years)     750 non-null    object\n",
      " 9   IUD                                 741 non-null    object\n",
      " 10  IUD (years)                         741 non-null    object\n",
      " 11  STDs                                753 non-null    object\n",
      " 12  STDs (number)                       753 non-null    object\n",
      " 13  STDs:condylomatosis                 753 non-null    object\n",
      " 14  STDs:cervical condylomatosis        753 non-null    object\n",
      " 15  STDs:vaginal condylomatosis         753 non-null    object\n",
      " 16  STDs:vulvo-perineal condylomatosis  753 non-null    object\n",
      " 17  STDs:syphilis                       753 non-null    object\n",
      " 18  STDs:pelvic inflammatory disease    753 non-null    object\n",
      " 19  STDs:genital herpes                 753 non-null    object\n",
      " 20  STDs:molluscum contagiosum          753 non-null    object\n",
      " 21  STDs:AIDS                           753 non-null    object\n",
      " 22  STDs:HIV                            753 non-null    object\n",
      " 23  STDs:Hepatitis B                    753 non-null    object\n",
      " 24  STDs:HPV                            753 non-null    object\n",
      " 25  STDs: Number of diagnosis           858 non-null    int64 \n",
      " 26  STDs: Time since first diagnosis    71 non-null     object\n",
      " 27  STDs: Time since last diagnosis     71 non-null     object\n",
      " 28  Dx:Cancer                           858 non-null    int64 \n",
      " 29  Dx:CIN                              858 non-null    int64 \n",
      " 30  Dx:HPV                              858 non-null    int64 \n",
      " 31  Dx                                  858 non-null    int64 \n",
      " 32  Hinselmann                          858 non-null    int64 \n",
      " 33  Schiller                            858 non-null    int64 \n",
      " 34  Citology                            858 non-null    int64 \n",
      " 35  Biopsy                              858 non-null    int64 \n",
      "dtypes: int64(10), object(26)\n",
      "memory usage: 241.4+ KB\n"
     ]
    }
   ],
   "source": [
    "df.info()"
   ]
  },
  {
   "cell_type": "markdown",
   "metadata": {},
   "source": [
    "As we can see from the info above, there are few columns which were of 'object' type. So we will convert them to numeric type. Converting doesn't hurt hurt us as long as the columns are integer type or float type.\n",
    "\n"
   ]
  },
  {
   "cell_type": "markdown",
   "metadata": {},
   "source": [
    "## DTYPE CONVERSION"
   ]
  },
  {
   "cell_type": "code",
   "execution_count": 116,
   "metadata": {},
   "outputs": [],
   "source": [
    "df1 = df.apply(pd.to_numeric)\n"
   ]
  },
  {
   "cell_type": "markdown",
   "metadata": {},
   "source": [
    "Check for the info again. Now you will notice all the columns are either integer type or float type unlike previously where we also had object type variables.\n",
    "\n",
    "\n",
    "### Rechecking"
   ]
  },
  {
   "cell_type": "code",
   "execution_count": 117,
   "metadata": {},
   "outputs": [
    {
     "name": "stdout",
     "output_type": "stream",
     "text": [
      "<class 'pandas.core.frame.DataFrame'>\n",
      "RangeIndex: 858 entries, 0 to 857\n",
      "Data columns (total 36 columns):\n",
      " #   Column                              Non-Null Count  Dtype  \n",
      "---  ------                              --------------  -----  \n",
      " 0   Age                                 858 non-null    int64  \n",
      " 1   Number of sexual partners           832 non-null    float64\n",
      " 2   First sexual intercourse            851 non-null    float64\n",
      " 3   Num of pregnancies                  802 non-null    float64\n",
      " 4   Smokes                              845 non-null    float64\n",
      " 5   Smokes (years)                      845 non-null    float64\n",
      " 6   Smokes (packs/year)                 845 non-null    float64\n",
      " 7   Hormonal Contraceptives             750 non-null    float64\n",
      " 8   Hormonal Contraceptives (years)     750 non-null    float64\n",
      " 9   IUD                                 741 non-null    float64\n",
      " 10  IUD (years)                         741 non-null    float64\n",
      " 11  STDs                                753 non-null    float64\n",
      " 12  STDs (number)                       753 non-null    float64\n",
      " 13  STDs:condylomatosis                 753 non-null    float64\n",
      " 14  STDs:cervical condylomatosis        753 non-null    float64\n",
      " 15  STDs:vaginal condylomatosis         753 non-null    float64\n",
      " 16  STDs:vulvo-perineal condylomatosis  753 non-null    float64\n",
      " 17  STDs:syphilis                       753 non-null    float64\n",
      " 18  STDs:pelvic inflammatory disease    753 non-null    float64\n",
      " 19  STDs:genital herpes                 753 non-null    float64\n",
      " 20  STDs:molluscum contagiosum          753 non-null    float64\n",
      " 21  STDs:AIDS                           753 non-null    float64\n",
      " 22  STDs:HIV                            753 non-null    float64\n",
      " 23  STDs:Hepatitis B                    753 non-null    float64\n",
      " 24  STDs:HPV                            753 non-null    float64\n",
      " 25  STDs: Number of diagnosis           858 non-null    int64  \n",
      " 26  STDs: Time since first diagnosis    71 non-null     float64\n",
      " 27  STDs: Time since last diagnosis     71 non-null     float64\n",
      " 28  Dx:Cancer                           858 non-null    int64  \n",
      " 29  Dx:CIN                              858 non-null    int64  \n",
      " 30  Dx:HPV                              858 non-null    int64  \n",
      " 31  Dx                                  858 non-null    int64  \n",
      " 32  Hinselmann                          858 non-null    int64  \n",
      " 33  Schiller                            858 non-null    int64  \n",
      " 34  Citology                            858 non-null    int64  \n",
      " 35  Biopsy                              858 non-null    int64  \n",
      "dtypes: float64(26), int64(10)\n",
      "memory usage: 241.4 KB\n"
     ]
    }
   ],
   "source": [
    "df1.info()"
   ]
  },
  {
   "cell_type": "code",
   "execution_count": 118,
   "metadata": {},
   "outputs": [
    {
     "data": {
      "text/plain": [
       "Index(['Age', 'Number of sexual partners', 'First sexual intercourse',\n",
       "       'Num of pregnancies', 'Smokes', 'Smokes (years)', 'Smokes (packs/year)',\n",
       "       'Hormonal Contraceptives', 'Hormonal Contraceptives (years)', 'IUD',\n",
       "       'IUD (years)', 'STDs', 'STDs (number)', 'STDs:condylomatosis',\n",
       "       'STDs:cervical condylomatosis', 'STDs:vaginal condylomatosis',\n",
       "       'STDs:vulvo-perineal condylomatosis', 'STDs:syphilis',\n",
       "       'STDs:pelvic inflammatory disease', 'STDs:genital herpes',\n",
       "       'STDs:molluscum contagiosum', 'STDs:AIDS', 'STDs:HIV',\n",
       "       'STDs:Hepatitis B', 'STDs:HPV', 'STDs: Number of diagnosis',\n",
       "       'STDs: Time since first diagnosis', 'STDs: Time since last diagnosis',\n",
       "       'Dx:Cancer', 'Dx:CIN', 'Dx:HPV', 'Dx', 'Hinselmann', 'Schiller',\n",
       "       'Citology', 'Biopsy'],\n",
       "      dtype='object')"
      ]
     },
     "execution_count": 118,
     "metadata": {},
     "output_type": "execute_result"
    }
   ],
   "source": [
    "df1.columns"
   ]
  },
  {
   "cell_type": "markdown",
   "metadata": {},
   "source": [
    "##   DF1   has no Object type datapoints."
   ]
  },
  {
   "cell_type": "code",
   "execution_count": null,
   "metadata": {},
   "outputs": [],
   "source": []
  },
  {
   "cell_type": "markdown",
   "metadata": {},
   "source": [
    "## \\ (•◡•) / NEXT STEP  : Removal of NaN values"
   ]
  },
  {
   "cell_type": "markdown",
   "metadata": {},
   "source": [
    "### Columns with NaN  (or Less than 858 non-NaN values)"
   ]
  },
  {
   "cell_type": "markdown",
   "metadata": {},
   "source": [
    "It's high time that we remove all the NaN values we introduced earlier and add something more robust in place of them. So for the continous variables we will filling in with the median of that particular column and for the discrete variables we will be using either 0 or 1."
   ]
  },
  {
   "cell_type": "code",
   "execution_count": 119,
   "metadata": {},
   "outputs": [],
   "source": [
    "####filling NaN values with median for continous variables and 0/1 for discrete variables.\n",
    "\n",
    "df['Number of sexual partners'] = df['Number of sexual partners'].fillna(df['Number of sexual partners'].median())\n",
    "df['First sexual intercourse'] = df['First sexual intercourse'].fillna(df['First sexual intercourse'].median())\n",
    "df['Num of pregnancies'] = df['Num of pregnancies'].fillna(df['Num of pregnancies'].median())\n",
    "df['Smokes'] = df['Smokes'].fillna(1)\n",
    "df['Smokes (years)'] = df['Smokes (years)'].fillna(df['Smokes (years)'].median())\n",
    "df['Smokes (packs/year)'] = df['Smokes (packs/year)'].fillna(df['Smokes (packs/year)'].median())\n",
    "df['Hormonal Contraceptives'] = df['Hormonal Contraceptives'].fillna(1)\n",
    "df['Hormonal Contraceptives (years)'] = df['Hormonal Contraceptives (years)'].fillna(df['Hormonal Contraceptives (years)'].median())\n",
    "df['IUD'] = df['IUD'].fillna(0)\n",
    "df['IUD (years)'] = df['IUD (years)'].fillna(0)\n",
    "df['STDs'] = df['STDs'].fillna(1)\n",
    "df['STDs (number)'] = df['STDs (number)'].fillna(df['STDs (number)'].median())\n",
    "df['STDs:condylomatosis'] = df['STDs:condylomatosis'].fillna(df['STDs:condylomatosis'].median())\n",
    "df['STDs:cervical condylomatosis'] = df['STDs:cervical condylomatosis'].fillna(df['STDs:cervical condylomatosis'].median())\n",
    "df['STDs:vaginal condylomatosis'] = df['STDs:vaginal condylomatosis'].fillna(df['STDs:vaginal condylomatosis'].median())\n",
    "df['STDs:vulvo-perineal condylomatosis'] = df['STDs:vulvo-perineal condylomatosis'].fillna(df['STDs:vulvo-perineal condylomatosis'].median())\n",
    "df['STDs:syphilis'] = df['STDs:syphilis'].fillna(df['STDs:syphilis'].median())\n",
    "df['STDs:pelvic inflammatory disease'] = df['STDs:pelvic inflammatory disease'].fillna(df['STDs:pelvic inflammatory disease'].median())\n",
    "df['STDs:genital herpes'] = df['STDs:genital herpes'].fillna(df['STDs:genital herpes'].median())\n",
    "df['STDs:molluscum contagiosum'] = df['STDs:molluscum contagiosum'].fillna(df['STDs:molluscum contagiosum'].median())\n",
    "df['STDs:AIDS'] = df['STDs:AIDS'].fillna(df['STDs:AIDS'].median())\n",
    "df['STDs:HIV'] = df['STDs:HIV'].fillna(df['STDs:HIV'].median())\n",
    "df['STDs:Hepatitis B'] = df['STDs:Hepatitis B'].fillna(df['STDs:Hepatitis B'].median())\n",
    "df['STDs:HPV'] = df['STDs:HPV'].fillna(df['STDs:HPV'].median())\n",
    "df['STDs: Time since first diagnosis'] = df['STDs: Time since first diagnosis'].fillna(df['STDs: Time since first diagnosis'].median())\n",
    "df['STDs: Time since last diagnosis'] = df['STDs: Time since last diagnosis'].fillna(df['STDs: Time since last diagnosis'].median())"
   ]
  },
  {
   "cell_type": "code",
   "execution_count": 120,
   "metadata": {},
   "outputs": [],
   "source": [
    "####filling NaN values with dummy values for categorical variables.\n",
    "\n",
    "df = pd.get_dummies(data=df, columns=['Smokes','Hormonal Contraceptives','IUD','STDs',\n",
    "                                      'Dx:Cancer','Dx:CIN','Dx:HPV','Dx','Hinselmann','Citology','Schiller'])"
   ]
  },
  {
   "cell_type": "markdown",
   "metadata": {},
   "source": [
    "### Now check for any null or NaN values. As we can see there are no anomalies with the work done so far so we can move ahead."
   ]
  },
  {
   "cell_type": "code",
   "execution_count": 121,
   "metadata": {},
   "outputs": [
    {
     "data": {
      "text/plain": [
       "Age                                   0\n",
       "Number of sexual partners             0\n",
       "First sexual intercourse              0\n",
       "Num of pregnancies                    0\n",
       "Smokes (years)                        0\n",
       "Smokes (packs/year)                   0\n",
       "Hormonal Contraceptives (years)       0\n",
       "IUD (years)                           0\n",
       "STDs (number)                         0\n",
       "STDs:condylomatosis                   0\n",
       "STDs:cervical condylomatosis          0\n",
       "STDs:vaginal condylomatosis           0\n",
       "STDs:vulvo-perineal condylomatosis    0\n",
       "STDs:syphilis                         0\n",
       "STDs:pelvic inflammatory disease      0\n",
       "STDs:genital herpes                   0\n",
       "STDs:molluscum contagiosum            0\n",
       "STDs:AIDS                             0\n",
       "STDs:HIV                              0\n",
       "STDs:Hepatitis B                      0\n",
       "STDs:HPV                              0\n",
       "STDs: Number of diagnosis             0\n",
       "STDs: Time since first diagnosis      0\n",
       "STDs: Time since last diagnosis       0\n",
       "Biopsy                                0\n",
       "Smokes_1                              0\n",
       "Smokes_0.0                            0\n",
       "Smokes_1.0                            0\n",
       "Hormonal Contraceptives_1             0\n",
       "Hormonal Contraceptives_0.0           0\n",
       "Hormonal Contraceptives_1.0           0\n",
       "IUD_0                                 0\n",
       "IUD_0.0                               0\n",
       "IUD_1.0                               0\n",
       "STDs_1                                0\n",
       "STDs_0.0                              0\n",
       "STDs_1.0                              0\n",
       "Dx:Cancer_0                           0\n",
       "Dx:Cancer_1                           0\n",
       "Dx:CIN_0                              0\n",
       "Dx:CIN_1                              0\n",
       "Dx:HPV_0                              0\n",
       "Dx:HPV_1                              0\n",
       "Dx_0                                  0\n",
       "Dx_1                                  0\n",
       "Hinselmann_0                          0\n",
       "Hinselmann_1                          0\n",
       "Citology_0                            0\n",
       "Citology_1                            0\n",
       "Schiller_0                            0\n",
       "Schiller_1                            0\n",
       "dtype: int64"
      ]
     },
     "execution_count": 121,
     "metadata": {},
     "output_type": "execute_result"
    }
   ],
   "source": [
    "df.isnull().sum()"
   ]
  },
  {
   "cell_type": "markdown",
   "metadata": {},
   "source": [
    "## Here our final dataset is preapared (｡◕‿◕｡)"
   ]
  },
  {
   "cell_type": "code",
   "execution_count": 122,
   "metadata": {},
   "outputs": [],
   "source": [
    "df_final = df #temporary save\n"
   ]
  },
  {
   "cell_type": "code",
   "execution_count": 123,
   "metadata": {},
   "outputs": [
    {
     "data": {
      "text/html": [
       "<div>\n",
       "<style scoped>\n",
       "    .dataframe tbody tr th:only-of-type {\n",
       "        vertical-align: middle;\n",
       "    }\n",
       "\n",
       "    .dataframe tbody tr th {\n",
       "        vertical-align: top;\n",
       "    }\n",
       "\n",
       "    .dataframe thead th {\n",
       "        text-align: right;\n",
       "    }\n",
       "</style>\n",
       "<table border=\"1\" class=\"dataframe\">\n",
       "  <thead>\n",
       "    <tr style=\"text-align: right;\">\n",
       "      <th></th>\n",
       "      <th>Age</th>\n",
       "      <th>Number of sexual partners</th>\n",
       "      <th>First sexual intercourse</th>\n",
       "      <th>Num of pregnancies</th>\n",
       "      <th>Smokes (years)</th>\n",
       "      <th>Smokes (packs/year)</th>\n",
       "      <th>Hormonal Contraceptives (years)</th>\n",
       "      <th>IUD (years)</th>\n",
       "      <th>STDs (number)</th>\n",
       "      <th>STDs:condylomatosis</th>\n",
       "      <th>...</th>\n",
       "      <th>Dx:HPV_0</th>\n",
       "      <th>Dx:HPV_1</th>\n",
       "      <th>Dx_0</th>\n",
       "      <th>Dx_1</th>\n",
       "      <th>Hinselmann_0</th>\n",
       "      <th>Hinselmann_1</th>\n",
       "      <th>Citology_0</th>\n",
       "      <th>Citology_1</th>\n",
       "      <th>Schiller_0</th>\n",
       "      <th>Schiller_1</th>\n",
       "    </tr>\n",
       "  </thead>\n",
       "  <tbody>\n",
       "    <tr>\n",
       "      <th>0</th>\n",
       "      <td>18</td>\n",
       "      <td>4.0</td>\n",
       "      <td>15.0</td>\n",
       "      <td>1.0</td>\n",
       "      <td>0.0</td>\n",
       "      <td>0.0</td>\n",
       "      <td>0.0</td>\n",
       "      <td>0.0</td>\n",
       "      <td>0.0</td>\n",
       "      <td>0.0</td>\n",
       "      <td>...</td>\n",
       "      <td>1</td>\n",
       "      <td>0</td>\n",
       "      <td>1</td>\n",
       "      <td>0</td>\n",
       "      <td>1</td>\n",
       "      <td>0</td>\n",
       "      <td>1</td>\n",
       "      <td>0</td>\n",
       "      <td>1</td>\n",
       "      <td>0</td>\n",
       "    </tr>\n",
       "    <tr>\n",
       "      <th>1</th>\n",
       "      <td>15</td>\n",
       "      <td>1.0</td>\n",
       "      <td>14.0</td>\n",
       "      <td>1.0</td>\n",
       "      <td>0.0</td>\n",
       "      <td>0.0</td>\n",
       "      <td>0.0</td>\n",
       "      <td>0.0</td>\n",
       "      <td>0.0</td>\n",
       "      <td>0.0</td>\n",
       "      <td>...</td>\n",
       "      <td>1</td>\n",
       "      <td>0</td>\n",
       "      <td>1</td>\n",
       "      <td>0</td>\n",
       "      <td>1</td>\n",
       "      <td>0</td>\n",
       "      <td>1</td>\n",
       "      <td>0</td>\n",
       "      <td>1</td>\n",
       "      <td>0</td>\n",
       "    </tr>\n",
       "    <tr>\n",
       "      <th>2</th>\n",
       "      <td>34</td>\n",
       "      <td>1.0</td>\n",
       "      <td>17</td>\n",
       "      <td>1.0</td>\n",
       "      <td>0.0</td>\n",
       "      <td>0.0</td>\n",
       "      <td>0.0</td>\n",
       "      <td>0.0</td>\n",
       "      <td>0.0</td>\n",
       "      <td>0.0</td>\n",
       "      <td>...</td>\n",
       "      <td>1</td>\n",
       "      <td>0</td>\n",
       "      <td>1</td>\n",
       "      <td>0</td>\n",
       "      <td>1</td>\n",
       "      <td>0</td>\n",
       "      <td>1</td>\n",
       "      <td>0</td>\n",
       "      <td>1</td>\n",
       "      <td>0</td>\n",
       "    </tr>\n",
       "    <tr>\n",
       "      <th>3</th>\n",
       "      <td>52</td>\n",
       "      <td>5.0</td>\n",
       "      <td>16.0</td>\n",
       "      <td>4.0</td>\n",
       "      <td>37.0</td>\n",
       "      <td>37.0</td>\n",
       "      <td>3.0</td>\n",
       "      <td>0.0</td>\n",
       "      <td>0.0</td>\n",
       "      <td>0.0</td>\n",
       "      <td>...</td>\n",
       "      <td>0</td>\n",
       "      <td>1</td>\n",
       "      <td>1</td>\n",
       "      <td>0</td>\n",
       "      <td>1</td>\n",
       "      <td>0</td>\n",
       "      <td>1</td>\n",
       "      <td>0</td>\n",
       "      <td>1</td>\n",
       "      <td>0</td>\n",
       "    </tr>\n",
       "    <tr>\n",
       "      <th>4</th>\n",
       "      <td>46</td>\n",
       "      <td>3.0</td>\n",
       "      <td>21.0</td>\n",
       "      <td>4.0</td>\n",
       "      <td>0.0</td>\n",
       "      <td>0.0</td>\n",
       "      <td>15.0</td>\n",
       "      <td>0.0</td>\n",
       "      <td>0.0</td>\n",
       "      <td>0.0</td>\n",
       "      <td>...</td>\n",
       "      <td>1</td>\n",
       "      <td>0</td>\n",
       "      <td>1</td>\n",
       "      <td>0</td>\n",
       "      <td>1</td>\n",
       "      <td>0</td>\n",
       "      <td>1</td>\n",
       "      <td>0</td>\n",
       "      <td>1</td>\n",
       "      <td>0</td>\n",
       "    </tr>\n",
       "    <tr>\n",
       "      <th>...</th>\n",
       "      <td>...</td>\n",
       "      <td>...</td>\n",
       "      <td>...</td>\n",
       "      <td>...</td>\n",
       "      <td>...</td>\n",
       "      <td>...</td>\n",
       "      <td>...</td>\n",
       "      <td>...</td>\n",
       "      <td>...</td>\n",
       "      <td>...</td>\n",
       "      <td>...</td>\n",
       "      <td>...</td>\n",
       "      <td>...</td>\n",
       "      <td>...</td>\n",
       "      <td>...</td>\n",
       "      <td>...</td>\n",
       "      <td>...</td>\n",
       "      <td>...</td>\n",
       "      <td>...</td>\n",
       "      <td>...</td>\n",
       "      <td>...</td>\n",
       "    </tr>\n",
       "    <tr>\n",
       "      <th>853</th>\n",
       "      <td>34</td>\n",
       "      <td>3.0</td>\n",
       "      <td>18.0</td>\n",
       "      <td>0.0</td>\n",
       "      <td>0.0</td>\n",
       "      <td>0.0</td>\n",
       "      <td>0.0</td>\n",
       "      <td>0.0</td>\n",
       "      <td>0.0</td>\n",
       "      <td>0.0</td>\n",
       "      <td>...</td>\n",
       "      <td>1</td>\n",
       "      <td>0</td>\n",
       "      <td>1</td>\n",
       "      <td>0</td>\n",
       "      <td>1</td>\n",
       "      <td>0</td>\n",
       "      <td>1</td>\n",
       "      <td>0</td>\n",
       "      <td>1</td>\n",
       "      <td>0</td>\n",
       "    </tr>\n",
       "    <tr>\n",
       "      <th>854</th>\n",
       "      <td>32</td>\n",
       "      <td>2.0</td>\n",
       "      <td>19.0</td>\n",
       "      <td>1.0</td>\n",
       "      <td>0.0</td>\n",
       "      <td>0.0</td>\n",
       "      <td>8.0</td>\n",
       "      <td>0.0</td>\n",
       "      <td>0.0</td>\n",
       "      <td>0.0</td>\n",
       "      <td>...</td>\n",
       "      <td>1</td>\n",
       "      <td>0</td>\n",
       "      <td>1</td>\n",
       "      <td>0</td>\n",
       "      <td>1</td>\n",
       "      <td>0</td>\n",
       "      <td>1</td>\n",
       "      <td>0</td>\n",
       "      <td>1</td>\n",
       "      <td>0</td>\n",
       "    </tr>\n",
       "    <tr>\n",
       "      <th>855</th>\n",
       "      <td>25</td>\n",
       "      <td>2.0</td>\n",
       "      <td>17.0</td>\n",
       "      <td>0.0</td>\n",
       "      <td>0.0</td>\n",
       "      <td>0.0</td>\n",
       "      <td>0.08</td>\n",
       "      <td>0.0</td>\n",
       "      <td>0.0</td>\n",
       "      <td>0.0</td>\n",
       "      <td>...</td>\n",
       "      <td>1</td>\n",
       "      <td>0</td>\n",
       "      <td>1</td>\n",
       "      <td>0</td>\n",
       "      <td>1</td>\n",
       "      <td>0</td>\n",
       "      <td>0</td>\n",
       "      <td>1</td>\n",
       "      <td>1</td>\n",
       "      <td>0</td>\n",
       "    </tr>\n",
       "    <tr>\n",
       "      <th>856</th>\n",
       "      <td>33</td>\n",
       "      <td>2.0</td>\n",
       "      <td>24.0</td>\n",
       "      <td>2.0</td>\n",
       "      <td>0.0</td>\n",
       "      <td>0.0</td>\n",
       "      <td>0.08</td>\n",
       "      <td>0.0</td>\n",
       "      <td>0.0</td>\n",
       "      <td>0.0</td>\n",
       "      <td>...</td>\n",
       "      <td>1</td>\n",
       "      <td>0</td>\n",
       "      <td>1</td>\n",
       "      <td>0</td>\n",
       "      <td>1</td>\n",
       "      <td>0</td>\n",
       "      <td>1</td>\n",
       "      <td>0</td>\n",
       "      <td>1</td>\n",
       "      <td>0</td>\n",
       "    </tr>\n",
       "    <tr>\n",
       "      <th>857</th>\n",
       "      <td>29</td>\n",
       "      <td>2.0</td>\n",
       "      <td>20.0</td>\n",
       "      <td>1.0</td>\n",
       "      <td>0.0</td>\n",
       "      <td>0.0</td>\n",
       "      <td>0.5</td>\n",
       "      <td>0.0</td>\n",
       "      <td>0.0</td>\n",
       "      <td>0.0</td>\n",
       "      <td>...</td>\n",
       "      <td>1</td>\n",
       "      <td>0</td>\n",
       "      <td>1</td>\n",
       "      <td>0</td>\n",
       "      <td>1</td>\n",
       "      <td>0</td>\n",
       "      <td>1</td>\n",
       "      <td>0</td>\n",
       "      <td>1</td>\n",
       "      <td>0</td>\n",
       "    </tr>\n",
       "  </tbody>\n",
       "</table>\n",
       "<p>858 rows × 51 columns</p>\n",
       "</div>"
      ],
      "text/plain": [
       "     Age Number of sexual partners First sexual intercourse  \\\n",
       "0     18                       4.0                     15.0   \n",
       "1     15                       1.0                     14.0   \n",
       "2     34                       1.0                       17   \n",
       "3     52                       5.0                     16.0   \n",
       "4     46                       3.0                     21.0   \n",
       "..   ...                       ...                      ...   \n",
       "853   34                       3.0                     18.0   \n",
       "854   32                       2.0                     19.0   \n",
       "855   25                       2.0                     17.0   \n",
       "856   33                       2.0                     24.0   \n",
       "857   29                       2.0                     20.0   \n",
       "\n",
       "    Num of pregnancies Smokes (years) Smokes (packs/year)  \\\n",
       "0                  1.0            0.0                 0.0   \n",
       "1                  1.0            0.0                 0.0   \n",
       "2                  1.0            0.0                 0.0   \n",
       "3                  4.0           37.0                37.0   \n",
       "4                  4.0            0.0                 0.0   \n",
       "..                 ...            ...                 ...   \n",
       "853                0.0            0.0                 0.0   \n",
       "854                1.0            0.0                 0.0   \n",
       "855                0.0            0.0                 0.0   \n",
       "856                2.0            0.0                 0.0   \n",
       "857                1.0            0.0                 0.0   \n",
       "\n",
       "    Hormonal Contraceptives (years) IUD (years) STDs (number)  \\\n",
       "0                               0.0         0.0           0.0   \n",
       "1                               0.0         0.0           0.0   \n",
       "2                               0.0         0.0           0.0   \n",
       "3                               3.0         0.0           0.0   \n",
       "4                              15.0         0.0           0.0   \n",
       "..                              ...         ...           ...   \n",
       "853                             0.0         0.0           0.0   \n",
       "854                             8.0         0.0           0.0   \n",
       "855                            0.08         0.0           0.0   \n",
       "856                            0.08         0.0           0.0   \n",
       "857                             0.5         0.0           0.0   \n",
       "\n",
       "    STDs:condylomatosis  ... Dx:HPV_0 Dx:HPV_1 Dx_0 Dx_1 Hinselmann_0  \\\n",
       "0                   0.0  ...        1        0    1    0            1   \n",
       "1                   0.0  ...        1        0    1    0            1   \n",
       "2                   0.0  ...        1        0    1    0            1   \n",
       "3                   0.0  ...        0        1    1    0            1   \n",
       "4                   0.0  ...        1        0    1    0            1   \n",
       "..                  ...  ...      ...      ...  ...  ...          ...   \n",
       "853                 0.0  ...        1        0    1    0            1   \n",
       "854                 0.0  ...        1        0    1    0            1   \n",
       "855                 0.0  ...        1        0    1    0            1   \n",
       "856                 0.0  ...        1        0    1    0            1   \n",
       "857                 0.0  ...        1        0    1    0            1   \n",
       "\n",
       "    Hinselmann_1 Citology_0 Citology_1 Schiller_0 Schiller_1  \n",
       "0              0          1          0          1          0  \n",
       "1              0          1          0          1          0  \n",
       "2              0          1          0          1          0  \n",
       "3              0          1          0          1          0  \n",
       "4              0          1          0          1          0  \n",
       "..           ...        ...        ...        ...        ...  \n",
       "853            0          1          0          1          0  \n",
       "854            0          1          0          1          0  \n",
       "855            0          0          1          1          0  \n",
       "856            0          1          0          1          0  \n",
       "857            0          1          0          1          0  \n",
       "\n",
       "[858 rows x 51 columns]"
      ]
     },
     "execution_count": 123,
     "metadata": {},
     "output_type": "execute_result"
    }
   ],
   "source": [
    "df"
   ]
  },
  {
   "cell_type": "code",
   "execution_count": 124,
   "metadata": {
    "scrolled": false
   },
   "outputs": [
    {
     "data": {
      "text/html": [
       "<div>\n",
       "<style scoped>\n",
       "    .dataframe tbody tr th:only-of-type {\n",
       "        vertical-align: middle;\n",
       "    }\n",
       "\n",
       "    .dataframe tbody tr th {\n",
       "        vertical-align: top;\n",
       "    }\n",
       "\n",
       "    .dataframe thead th {\n",
       "        text-align: right;\n",
       "    }\n",
       "</style>\n",
       "<table border=\"1\" class=\"dataframe\">\n",
       "  <thead>\n",
       "    <tr style=\"text-align: right;\">\n",
       "      <th></th>\n",
       "      <th>Age</th>\n",
       "      <th>STDs: Number of diagnosis</th>\n",
       "      <th>Biopsy</th>\n",
       "      <th>Smokes_1</th>\n",
       "      <th>Smokes_0.0</th>\n",
       "      <th>Smokes_1.0</th>\n",
       "      <th>Hormonal Contraceptives_1</th>\n",
       "      <th>Hormonal Contraceptives_0.0</th>\n",
       "      <th>Hormonal Contraceptives_1.0</th>\n",
       "      <th>IUD_0</th>\n",
       "      <th>...</th>\n",
       "      <th>Dx:HPV_0</th>\n",
       "      <th>Dx:HPV_1</th>\n",
       "      <th>Dx_0</th>\n",
       "      <th>Dx_1</th>\n",
       "      <th>Hinselmann_0</th>\n",
       "      <th>Hinselmann_1</th>\n",
       "      <th>Citology_0</th>\n",
       "      <th>Citology_1</th>\n",
       "      <th>Schiller_0</th>\n",
       "      <th>Schiller_1</th>\n",
       "    </tr>\n",
       "  </thead>\n",
       "  <tbody>\n",
       "    <tr>\n",
       "      <th>count</th>\n",
       "      <td>858.000000</td>\n",
       "      <td>858.000000</td>\n",
       "      <td>858.000000</td>\n",
       "      <td>858.000000</td>\n",
       "      <td>858.000000</td>\n",
       "      <td>858.000000</td>\n",
       "      <td>858.000000</td>\n",
       "      <td>858.000000</td>\n",
       "      <td>858.000000</td>\n",
       "      <td>858.000000</td>\n",
       "      <td>...</td>\n",
       "      <td>858.000000</td>\n",
       "      <td>858.000000</td>\n",
       "      <td>858.000000</td>\n",
       "      <td>858.000000</td>\n",
       "      <td>858.000000</td>\n",
       "      <td>858.000000</td>\n",
       "      <td>858.000000</td>\n",
       "      <td>858.000000</td>\n",
       "      <td>858.000000</td>\n",
       "      <td>858.000000</td>\n",
       "    </tr>\n",
       "    <tr>\n",
       "      <th>mean</th>\n",
       "      <td>26.820513</td>\n",
       "      <td>0.087413</td>\n",
       "      <td>0.064103</td>\n",
       "      <td>0.015152</td>\n",
       "      <td>0.841492</td>\n",
       "      <td>0.143357</td>\n",
       "      <td>0.125874</td>\n",
       "      <td>0.313520</td>\n",
       "      <td>0.560606</td>\n",
       "      <td>0.136364</td>\n",
       "      <td>...</td>\n",
       "      <td>0.979021</td>\n",
       "      <td>0.020979</td>\n",
       "      <td>0.972028</td>\n",
       "      <td>0.027972</td>\n",
       "      <td>0.959207</td>\n",
       "      <td>0.040793</td>\n",
       "      <td>0.948718</td>\n",
       "      <td>0.051282</td>\n",
       "      <td>0.913753</td>\n",
       "      <td>0.086247</td>\n",
       "    </tr>\n",
       "    <tr>\n",
       "      <th>std</th>\n",
       "      <td>8.497948</td>\n",
       "      <td>0.302545</td>\n",
       "      <td>0.245078</td>\n",
       "      <td>0.122227</td>\n",
       "      <td>0.365430</td>\n",
       "      <td>0.350641</td>\n",
       "      <td>0.331901</td>\n",
       "      <td>0.464194</td>\n",
       "      <td>0.496603</td>\n",
       "      <td>0.343374</td>\n",
       "      <td>...</td>\n",
       "      <td>0.143398</td>\n",
       "      <td>0.143398</td>\n",
       "      <td>0.164989</td>\n",
       "      <td>0.164989</td>\n",
       "      <td>0.197925</td>\n",
       "      <td>0.197925</td>\n",
       "      <td>0.220701</td>\n",
       "      <td>0.220701</td>\n",
       "      <td>0.280892</td>\n",
       "      <td>0.280892</td>\n",
       "    </tr>\n",
       "    <tr>\n",
       "      <th>min</th>\n",
       "      <td>13.000000</td>\n",
       "      <td>0.000000</td>\n",
       "      <td>0.000000</td>\n",
       "      <td>0.000000</td>\n",
       "      <td>0.000000</td>\n",
       "      <td>0.000000</td>\n",
       "      <td>0.000000</td>\n",
       "      <td>0.000000</td>\n",
       "      <td>0.000000</td>\n",
       "      <td>0.000000</td>\n",
       "      <td>...</td>\n",
       "      <td>0.000000</td>\n",
       "      <td>0.000000</td>\n",
       "      <td>0.000000</td>\n",
       "      <td>0.000000</td>\n",
       "      <td>0.000000</td>\n",
       "      <td>0.000000</td>\n",
       "      <td>0.000000</td>\n",
       "      <td>0.000000</td>\n",
       "      <td>0.000000</td>\n",
       "      <td>0.000000</td>\n",
       "    </tr>\n",
       "    <tr>\n",
       "      <th>25%</th>\n",
       "      <td>20.000000</td>\n",
       "      <td>0.000000</td>\n",
       "      <td>0.000000</td>\n",
       "      <td>0.000000</td>\n",
       "      <td>1.000000</td>\n",
       "      <td>0.000000</td>\n",
       "      <td>0.000000</td>\n",
       "      <td>0.000000</td>\n",
       "      <td>0.000000</td>\n",
       "      <td>0.000000</td>\n",
       "      <td>...</td>\n",
       "      <td>1.000000</td>\n",
       "      <td>0.000000</td>\n",
       "      <td>1.000000</td>\n",
       "      <td>0.000000</td>\n",
       "      <td>1.000000</td>\n",
       "      <td>0.000000</td>\n",
       "      <td>1.000000</td>\n",
       "      <td>0.000000</td>\n",
       "      <td>1.000000</td>\n",
       "      <td>0.000000</td>\n",
       "    </tr>\n",
       "    <tr>\n",
       "      <th>50%</th>\n",
       "      <td>25.000000</td>\n",
       "      <td>0.000000</td>\n",
       "      <td>0.000000</td>\n",
       "      <td>0.000000</td>\n",
       "      <td>1.000000</td>\n",
       "      <td>0.000000</td>\n",
       "      <td>0.000000</td>\n",
       "      <td>0.000000</td>\n",
       "      <td>1.000000</td>\n",
       "      <td>0.000000</td>\n",
       "      <td>...</td>\n",
       "      <td>1.000000</td>\n",
       "      <td>0.000000</td>\n",
       "      <td>1.000000</td>\n",
       "      <td>0.000000</td>\n",
       "      <td>1.000000</td>\n",
       "      <td>0.000000</td>\n",
       "      <td>1.000000</td>\n",
       "      <td>0.000000</td>\n",
       "      <td>1.000000</td>\n",
       "      <td>0.000000</td>\n",
       "    </tr>\n",
       "    <tr>\n",
       "      <th>75%</th>\n",
       "      <td>32.000000</td>\n",
       "      <td>0.000000</td>\n",
       "      <td>0.000000</td>\n",
       "      <td>0.000000</td>\n",
       "      <td>1.000000</td>\n",
       "      <td>0.000000</td>\n",
       "      <td>0.000000</td>\n",
       "      <td>1.000000</td>\n",
       "      <td>1.000000</td>\n",
       "      <td>0.000000</td>\n",
       "      <td>...</td>\n",
       "      <td>1.000000</td>\n",
       "      <td>0.000000</td>\n",
       "      <td>1.000000</td>\n",
       "      <td>0.000000</td>\n",
       "      <td>1.000000</td>\n",
       "      <td>0.000000</td>\n",
       "      <td>1.000000</td>\n",
       "      <td>0.000000</td>\n",
       "      <td>1.000000</td>\n",
       "      <td>0.000000</td>\n",
       "    </tr>\n",
       "    <tr>\n",
       "      <th>max</th>\n",
       "      <td>84.000000</td>\n",
       "      <td>3.000000</td>\n",
       "      <td>1.000000</td>\n",
       "      <td>1.000000</td>\n",
       "      <td>1.000000</td>\n",
       "      <td>1.000000</td>\n",
       "      <td>1.000000</td>\n",
       "      <td>1.000000</td>\n",
       "      <td>1.000000</td>\n",
       "      <td>1.000000</td>\n",
       "      <td>...</td>\n",
       "      <td>1.000000</td>\n",
       "      <td>1.000000</td>\n",
       "      <td>1.000000</td>\n",
       "      <td>1.000000</td>\n",
       "      <td>1.000000</td>\n",
       "      <td>1.000000</td>\n",
       "      <td>1.000000</td>\n",
       "      <td>1.000000</td>\n",
       "      <td>1.000000</td>\n",
       "      <td>1.000000</td>\n",
       "    </tr>\n",
       "  </tbody>\n",
       "</table>\n",
       "<p>8 rows × 29 columns</p>\n",
       "</div>"
      ],
      "text/plain": [
       "              Age  STDs: Number of diagnosis      Biopsy    Smokes_1  \\\n",
       "count  858.000000                 858.000000  858.000000  858.000000   \n",
       "mean    26.820513                   0.087413    0.064103    0.015152   \n",
       "std      8.497948                   0.302545    0.245078    0.122227   \n",
       "min     13.000000                   0.000000    0.000000    0.000000   \n",
       "25%     20.000000                   0.000000    0.000000    0.000000   \n",
       "50%     25.000000                   0.000000    0.000000    0.000000   \n",
       "75%     32.000000                   0.000000    0.000000    0.000000   \n",
       "max     84.000000                   3.000000    1.000000    1.000000   \n",
       "\n",
       "       Smokes_0.0  Smokes_1.0  Hormonal Contraceptives_1  \\\n",
       "count  858.000000  858.000000                 858.000000   \n",
       "mean     0.841492    0.143357                   0.125874   \n",
       "std      0.365430    0.350641                   0.331901   \n",
       "min      0.000000    0.000000                   0.000000   \n",
       "25%      1.000000    0.000000                   0.000000   \n",
       "50%      1.000000    0.000000                   0.000000   \n",
       "75%      1.000000    0.000000                   0.000000   \n",
       "max      1.000000    1.000000                   1.000000   \n",
       "\n",
       "       Hormonal Contraceptives_0.0  Hormonal Contraceptives_1.0       IUD_0  \\\n",
       "count                   858.000000                   858.000000  858.000000   \n",
       "mean                      0.313520                     0.560606    0.136364   \n",
       "std                       0.464194                     0.496603    0.343374   \n",
       "min                       0.000000                     0.000000    0.000000   \n",
       "25%                       0.000000                     0.000000    0.000000   \n",
       "50%                       0.000000                     1.000000    0.000000   \n",
       "75%                       1.000000                     1.000000    0.000000   \n",
       "max                       1.000000                     1.000000    1.000000   \n",
       "\n",
       "       ...    Dx:HPV_0    Dx:HPV_1        Dx_0        Dx_1  Hinselmann_0  \\\n",
       "count  ...  858.000000  858.000000  858.000000  858.000000    858.000000   \n",
       "mean   ...    0.979021    0.020979    0.972028    0.027972      0.959207   \n",
       "std    ...    0.143398    0.143398    0.164989    0.164989      0.197925   \n",
       "min    ...    0.000000    0.000000    0.000000    0.000000      0.000000   \n",
       "25%    ...    1.000000    0.000000    1.000000    0.000000      1.000000   \n",
       "50%    ...    1.000000    0.000000    1.000000    0.000000      1.000000   \n",
       "75%    ...    1.000000    0.000000    1.000000    0.000000      1.000000   \n",
       "max    ...    1.000000    1.000000    1.000000    1.000000      1.000000   \n",
       "\n",
       "       Hinselmann_1  Citology_0  Citology_1  Schiller_0  Schiller_1  \n",
       "count    858.000000  858.000000  858.000000  858.000000  858.000000  \n",
       "mean       0.040793    0.948718    0.051282    0.913753    0.086247  \n",
       "std        0.197925    0.220701    0.220701    0.280892    0.280892  \n",
       "min        0.000000    0.000000    0.000000    0.000000    0.000000  \n",
       "25%        0.000000    1.000000    0.000000    1.000000    0.000000  \n",
       "50%        0.000000    1.000000    0.000000    1.000000    0.000000  \n",
       "75%        0.000000    1.000000    0.000000    1.000000    0.000000  \n",
       "max        1.000000    1.000000    1.000000    1.000000    1.000000  \n",
       "\n",
       "[8 rows x 29 columns]"
      ]
     },
     "execution_count": 124,
     "metadata": {},
     "output_type": "execute_result"
    }
   ],
   "source": [
    "df.describe()"
   ]
  },
  {
   "cell_type": "code",
   "execution_count": null,
   "metadata": {},
   "outputs": [],
   "source": []
  },
  {
   "cell_type": "markdown",
   "metadata": {},
   "source": [
    "# UNIQUE VALUES IN EACH COLUMNS\n"
   ]
  },
  {
   "cell_type": "code",
   "execution_count": 125,
   "metadata": {
    "scrolled": true
   },
   "outputs": [
    {
     "name": "stdout",
     "output_type": "stream",
     "text": [
      "Age\n",
      "[18 15 34 52 46 42 51 26 45 44 27 43 40 41 39 37 38 36 35 33 31 32 30 23\n",
      " 28 29 20 25 21 24 22 48 19 17 16 14 59 79 84 47 13 70 50 49]\n",
      " \n",
      "------------------------------------------------\n",
      "Number of sexual partners\n",
      "['4.0' '1.0' '5.0' '3.0' '2.0' '6.0' 2.0 '7.0' '15.0' '8.0' '10.0' '28.0'\n",
      " '9.0']\n",
      " \n",
      "------------------------------------------------\n",
      "First sexual intercourse\n",
      "['15.0' '14.0' 17.0 '16.0' '21.0' '23.0' '17.0' '26.0' '20.0' '25.0'\n",
      " '18.0' '27.0' '19.0' '24.0' '32.0' '13.0' '29.0' '11.0' '12.0' '22.0'\n",
      " '28.0' '10.0']\n",
      " \n",
      "------------------------------------------------\n",
      "Num of pregnancies\n",
      "['1.0' '4.0' '2.0' '6.0' '3.0' '5.0' 2.0 '8.0' '7.0' '0.0' '11.0' '10.0']\n",
      " \n",
      "------------------------------------------------\n",
      "Smokes (years)\n",
      "['0.0' '37.0' '34.0' '1.266972909' '3.0' '12.0' 0.0 '18.0' '7.0' '19.0'\n",
      " '21.0' '15.0' '13.0' '16.0' '8.0' '4.0' '10.0' '22.0' '14.0' '0.5' '11.0'\n",
      " '9.0' '2.0' '5.0' '6.0' '1.0' '32.0' '24.0' '28.0' '20.0' '0.16']\n",
      " \n",
      "------------------------------------------------\n",
      "Smokes (packs/year)\n",
      "['0.0' '37.0' '3.4' '2.8' '0.04' '0.5132021277' '2.4' '6.0' 0.0 '9.0'\n",
      " '1.6' '19.0' '21.0' '0.32' '2.6' '0.8' '15.0' '2.0' '5.7' '1.0' '3.3'\n",
      " '3.5' '12.0' '0.025' '2.75' '0.2' '1.4' '5.0' '2.1' '0.7' '1.2' '7.5'\n",
      " '1.25' '3.0' '0.75' '0.1' '8.0' '2.25' '0.003' '7.0' '0.45' '0.15' '0.05'\n",
      " '0.25' '4.8' '4.5' '0.4' '0.37' '2.2' '0.16' '0.9' '22.0' '1.35' '0.5'\n",
      " '2.5' '4.0' '1.3' '1.65' '2.7' '0.001' '7.6' '5.5' '0.3']\n",
      " \n",
      "------------------------------------------------\n",
      "Hormonal Contraceptives (years)\n",
      "['0.0' '3.0' '15.0' '2.0' '8.0' '10.0' '5.0' '0.25' '7.0' '22.0' '19.0'\n",
      " '0.5' '1.0' '0.58' '9.0' '13.0' '11.0' '4.0' '12.0' '16.0' '0.33' 0.5\n",
      " '0.16' '14.0' '0.08' '2.282200521' '0.66' '6.0' '1.5' '0.42' '0.67'\n",
      " '0.75' '2.5' '4.5' '6.5' '0.17' '20.0' '3.5' '0.41' '30.0' '17.0']\n",
      " \n",
      "------------------------------------------------\n",
      "IUD (years)\n",
      "['0.0' '7.0' 0 '5.0' '8.0' '6.0' '1.0' '0.58' '2.0' '19.0' '0.5' '17.0'\n",
      " '0.08' '0.25' '10.0' '11.0' '3.0' '15.0' '12.0' '9.0' '1.5' '0.91' '4.0'\n",
      " '0.33' '0.41' '0.16' '0.17']\n",
      " \n",
      "------------------------------------------------\n",
      "STDs (number)\n",
      "['0.0' '2.0' '1.0' 0.0 '3.0' '4.0']\n",
      " \n",
      "------------------------------------------------\n",
      "STDs:condylomatosis\n",
      "['0.0' '1.0' 0.0]\n",
      " \n",
      "------------------------------------------------\n",
      "STDs:cervical condylomatosis\n",
      "['0.0' 0.0]\n",
      " \n",
      "------------------------------------------------\n",
      "STDs:vaginal condylomatosis\n",
      "['0.0' 0.0 '1.0']\n",
      " \n",
      "------------------------------------------------\n",
      "STDs:vulvo-perineal condylomatosis\n",
      "['0.0' '1.0' 0.0]\n",
      " \n",
      "------------------------------------------------\n",
      "STDs:syphilis\n",
      "['0.0' '1.0' 0.0]\n",
      " \n",
      "------------------------------------------------\n",
      "STDs:pelvic inflammatory disease\n",
      "['0.0' 0.0 '1.0']\n",
      " \n",
      "------------------------------------------------\n",
      "STDs:genital herpes\n",
      "['0.0' 0.0 '1.0']\n",
      " \n",
      "------------------------------------------------\n",
      "STDs:molluscum contagiosum\n",
      "['0.0' 0.0 '1.0']\n",
      " \n",
      "------------------------------------------------\n",
      "STDs:AIDS\n",
      "['0.0' 0.0]\n",
      " \n",
      "------------------------------------------------\n",
      "STDs:HIV\n",
      "['0.0' '1.0' 0.0]\n",
      " \n",
      "------------------------------------------------\n",
      "STDs:Hepatitis B\n",
      "['0.0' 0.0 '1.0']\n",
      " \n",
      "------------------------------------------------\n",
      "STDs:HPV\n",
      "['0.0' 0.0 '1.0']\n",
      " \n",
      "------------------------------------------------\n",
      "STDs: Number of diagnosis\n",
      "[0 1 3 2]\n",
      " \n",
      "------------------------------------------------\n",
      "STDs: Time since first diagnosis\n",
      "[4.0 '21.0' '2.0' '15.0' '19.0' '3.0' '12.0' '1.0' '11.0' '9.0' '7.0'\n",
      " '8.0' '16.0' '6.0' '5.0' '10.0' '4.0' '22.0' '18.0']\n",
      " \n",
      "------------------------------------------------\n",
      "STDs: Time since last diagnosis\n",
      "[3.0 '21.0' '2.0' '15.0' '19.0' '3.0' '12.0' '1.0' '11.0' '9.0' '7.0'\n",
      " '8.0' '16.0' '6.0' '5.0' '10.0' '4.0' '22.0' '18.0']\n",
      " \n",
      "------------------------------------------------\n",
      "Biopsy\n",
      "[0 1]\n",
      " \n",
      "------------------------------------------------\n",
      "Smokes_1\n",
      "[0 1]\n",
      " \n",
      "------------------------------------------------\n",
      "Smokes_0.0\n",
      "[1 0]\n",
      " \n",
      "------------------------------------------------\n",
      "Smokes_1.0\n",
      "[0 1]\n",
      " \n",
      "------------------------------------------------\n",
      "Hormonal Contraceptives_1\n",
      "[0 1]\n",
      " \n",
      "------------------------------------------------\n",
      "Hormonal Contraceptives_0.0\n",
      "[1 0]\n",
      " \n",
      "------------------------------------------------\n",
      "Hormonal Contraceptives_1.0\n",
      "[0 1]\n",
      " \n",
      "------------------------------------------------\n",
      "IUD_0\n",
      "[0 1]\n",
      " \n",
      "------------------------------------------------\n",
      "IUD_0.0\n",
      "[1 0]\n",
      " \n",
      "------------------------------------------------\n",
      "IUD_1.0\n",
      "[0 1]\n",
      " \n",
      "------------------------------------------------\n",
      "STDs_1\n",
      "[0 1]\n",
      " \n",
      "------------------------------------------------\n",
      "STDs_0.0\n",
      "[1 0]\n",
      " \n",
      "------------------------------------------------\n",
      "STDs_1.0\n",
      "[0 1]\n",
      " \n",
      "------------------------------------------------\n",
      "Dx:Cancer_0\n",
      "[1 0]\n",
      " \n",
      "------------------------------------------------\n",
      "Dx:Cancer_1\n",
      "[0 1]\n",
      " \n",
      "------------------------------------------------\n",
      "Dx:CIN_0\n",
      "[1 0]\n",
      " \n",
      "------------------------------------------------\n",
      "Dx:CIN_1\n",
      "[0 1]\n",
      " \n",
      "------------------------------------------------\n",
      "Dx:HPV_0\n",
      "[1 0]\n",
      " \n",
      "------------------------------------------------\n",
      "Dx:HPV_1\n",
      "[0 1]\n",
      " \n",
      "------------------------------------------------\n",
      "Dx_0\n",
      "[1 0]\n",
      " \n",
      "------------------------------------------------\n",
      "Dx_1\n",
      "[0 1]\n",
      " \n",
      "------------------------------------------------\n",
      "Hinselmann_0\n",
      "[1 0]\n",
      " \n",
      "------------------------------------------------\n",
      "Hinselmann_1\n",
      "[0 1]\n",
      " \n",
      "------------------------------------------------\n",
      "Citology_0\n",
      "[1 0]\n",
      " \n",
      "------------------------------------------------\n",
      "Citology_1\n",
      "[0 1]\n",
      " \n",
      "------------------------------------------------\n",
      "Schiller_0\n",
      "[1 0]\n",
      " \n",
      "------------------------------------------------\n",
      "Schiller_1\n",
      "[0 1]\n",
      " \n",
      "------------------------------------------------\n"
     ]
    }
   ],
   "source": [
    "for col in df.columns:\n",
    "    print(col)\n",
    "    print(df[col].unique())\n",
    "    print(\" \")\n",
    "    print(\"------------------------------------------------\")"
   ]
  },
  {
   "cell_type": "markdown",
   "metadata": {},
   "source": [
    "# Assigning X and Y"
   ]
  },
  {
   "cell_type": "code",
   "execution_count": 126,
   "metadata": {},
   "outputs": [],
   "source": [
    "\n",
    "y=df['Biopsy']\n",
    "x=df.drop('Biopsy',axis=1)"
   ]
  },
  {
   "cell_type": "code",
   "execution_count": 127,
   "metadata": {},
   "outputs": [
    {
     "name": "stdout",
     "output_type": "stream",
     "text": [
      "0    803\n",
      "1     55\n",
      "Name: Biopsy, dtype: int64\n"
     ]
    },
    {
     "data": {
      "image/png": "[encoded data removed]",
      "text/plain": [
       "<Figure size 432x288 with 1 Axes>"
      ]
     },
     "metadata": {
      "needs_background": "light"
     },
     "output_type": "display_data"
    }
   ],
   "source": [
    "sns.countplot(y,label=\"count\")\n",
    "print(y.value_counts())\n"
   ]
  },
  {
   "cell_type": "code",
   "execution_count": 128,
   "metadata": {},
   "outputs": [
    {
     "data": {
      "text/html": [
       "<div>\n",
       "<style scoped>\n",
       "    .dataframe tbody tr th:only-of-type {\n",
       "        vertical-align: middle;\n",
       "    }\n",
       "\n",
       "    .dataframe tbody tr th {\n",
       "        vertical-align: top;\n",
       "    }\n",
       "\n",
       "    .dataframe thead th {\n",
       "        text-align: right;\n",
       "    }\n",
       "</style>\n",
       "<table border=\"1\" class=\"dataframe\">\n",
       "  <thead>\n",
       "    <tr style=\"text-align: right;\">\n",
       "      <th></th>\n",
       "      <th>Age</th>\n",
       "      <th>Number of sexual partners</th>\n",
       "      <th>First sexual intercourse</th>\n",
       "      <th>Num of pregnancies</th>\n",
       "      <th>Smokes (years)</th>\n",
       "      <th>Smokes (packs/year)</th>\n",
       "      <th>Hormonal Contraceptives (years)</th>\n",
       "      <th>IUD (years)</th>\n",
       "      <th>STDs (number)</th>\n",
       "      <th>STDs:condylomatosis</th>\n",
       "      <th>...</th>\n",
       "      <th>Dx:HPV_0</th>\n",
       "      <th>Dx:HPV_1</th>\n",
       "      <th>Dx_0</th>\n",
       "      <th>Dx_1</th>\n",
       "      <th>Hinselmann_0</th>\n",
       "      <th>Hinselmann_1</th>\n",
       "      <th>Citology_0</th>\n",
       "      <th>Citology_1</th>\n",
       "      <th>Schiller_0</th>\n",
       "      <th>Schiller_1</th>\n",
       "    </tr>\n",
       "  </thead>\n",
       "  <tbody>\n",
       "    <tr>\n",
       "      <th>0</th>\n",
       "      <td>18</td>\n",
       "      <td>4.0</td>\n",
       "      <td>15.0</td>\n",
       "      <td>1.0</td>\n",
       "      <td>0.0</td>\n",
       "      <td>0.0</td>\n",
       "      <td>0.0</td>\n",
       "      <td>0.0</td>\n",
       "      <td>0.0</td>\n",
       "      <td>0.0</td>\n",
       "      <td>...</td>\n",
       "      <td>1</td>\n",
       "      <td>0</td>\n",
       "      <td>1</td>\n",
       "      <td>0</td>\n",
       "      <td>1</td>\n",
       "      <td>0</td>\n",
       "      <td>1</td>\n",
       "      <td>0</td>\n",
       "      <td>1</td>\n",
       "      <td>0</td>\n",
       "    </tr>\n",
       "    <tr>\n",
       "      <th>1</th>\n",
       "      <td>15</td>\n",
       "      <td>1.0</td>\n",
       "      <td>14.0</td>\n",
       "      <td>1.0</td>\n",
       "      <td>0.0</td>\n",
       "      <td>0.0</td>\n",
       "      <td>0.0</td>\n",
       "      <td>0.0</td>\n",
       "      <td>0.0</td>\n",
       "      <td>0.0</td>\n",
       "      <td>...</td>\n",
       "      <td>1</td>\n",
       "      <td>0</td>\n",
       "      <td>1</td>\n",
       "      <td>0</td>\n",
       "      <td>1</td>\n",
       "      <td>0</td>\n",
       "      <td>1</td>\n",
       "      <td>0</td>\n",
       "      <td>1</td>\n",
       "      <td>0</td>\n",
       "    </tr>\n",
       "    <tr>\n",
       "      <th>2</th>\n",
       "      <td>34</td>\n",
       "      <td>1.0</td>\n",
       "      <td>17</td>\n",
       "      <td>1.0</td>\n",
       "      <td>0.0</td>\n",
       "      <td>0.0</td>\n",
       "      <td>0.0</td>\n",
       "      <td>0.0</td>\n",
       "      <td>0.0</td>\n",
       "      <td>0.0</td>\n",
       "      <td>...</td>\n",
       "      <td>1</td>\n",
       "      <td>0</td>\n",
       "      <td>1</td>\n",
       "      <td>0</td>\n",
       "      <td>1</td>\n",
       "      <td>0</td>\n",
       "      <td>1</td>\n",
       "      <td>0</td>\n",
       "      <td>1</td>\n",
       "      <td>0</td>\n",
       "    </tr>\n",
       "    <tr>\n",
       "      <th>3</th>\n",
       "      <td>52</td>\n",
       "      <td>5.0</td>\n",
       "      <td>16.0</td>\n",
       "      <td>4.0</td>\n",
       "      <td>37.0</td>\n",
       "      <td>37.0</td>\n",
       "      <td>3.0</td>\n",
       "      <td>0.0</td>\n",
       "      <td>0.0</td>\n",
       "      <td>0.0</td>\n",
       "      <td>...</td>\n",
       "      <td>0</td>\n",
       "      <td>1</td>\n",
       "      <td>1</td>\n",
       "      <td>0</td>\n",
       "      <td>1</td>\n",
       "      <td>0</td>\n",
       "      <td>1</td>\n",
       "      <td>0</td>\n",
       "      <td>1</td>\n",
       "      <td>0</td>\n",
       "    </tr>\n",
       "    <tr>\n",
       "      <th>4</th>\n",
       "      <td>46</td>\n",
       "      <td>3.0</td>\n",
       "      <td>21.0</td>\n",
       "      <td>4.0</td>\n",
       "      <td>0.0</td>\n",
       "      <td>0.0</td>\n",
       "      <td>15.0</td>\n",
       "      <td>0.0</td>\n",
       "      <td>0.0</td>\n",
       "      <td>0.0</td>\n",
       "      <td>...</td>\n",
       "      <td>1</td>\n",
       "      <td>0</td>\n",
       "      <td>1</td>\n",
       "      <td>0</td>\n",
       "      <td>1</td>\n",
       "      <td>0</td>\n",
       "      <td>1</td>\n",
       "      <td>0</td>\n",
       "      <td>1</td>\n",
       "      <td>0</td>\n",
       "    </tr>\n",
       "    <tr>\n",
       "      <th>...</th>\n",
       "      <td>...</td>\n",
       "      <td>...</td>\n",
       "      <td>...</td>\n",
       "      <td>...</td>\n",
       "      <td>...</td>\n",
       "      <td>...</td>\n",
       "      <td>...</td>\n",
       "      <td>...</td>\n",
       "      <td>...</td>\n",
       "      <td>...</td>\n",
       "      <td>...</td>\n",
       "      <td>...</td>\n",
       "      <td>...</td>\n",
       "      <td>...</td>\n",
       "      <td>...</td>\n",
       "      <td>...</td>\n",
       "      <td>...</td>\n",
       "      <td>...</td>\n",
       "      <td>...</td>\n",
       "      <td>...</td>\n",
       "      <td>...</td>\n",
       "    </tr>\n",
       "    <tr>\n",
       "      <th>853</th>\n",
       "      <td>34</td>\n",
       "      <td>3.0</td>\n",
       "      <td>18.0</td>\n",
       "      <td>0.0</td>\n",
       "      <td>0.0</td>\n",
       "      <td>0.0</td>\n",
       "      <td>0.0</td>\n",
       "      <td>0.0</td>\n",
       "      <td>0.0</td>\n",
       "      <td>0.0</td>\n",
       "      <td>...</td>\n",
       "      <td>1</td>\n",
       "      <td>0</td>\n",
       "      <td>1</td>\n",
       "      <td>0</td>\n",
       "      <td>1</td>\n",
       "      <td>0</td>\n",
       "      <td>1</td>\n",
       "      <td>0</td>\n",
       "      <td>1</td>\n",
       "      <td>0</td>\n",
       "    </tr>\n",
       "    <tr>\n",
       "      <th>854</th>\n",
       "      <td>32</td>\n",
       "      <td>2.0</td>\n",
       "      <td>19.0</td>\n",
       "      <td>1.0</td>\n",
       "      <td>0.0</td>\n",
       "      <td>0.0</td>\n",
       "      <td>8.0</td>\n",
       "      <td>0.0</td>\n",
       "      <td>0.0</td>\n",
       "      <td>0.0</td>\n",
       "      <td>...</td>\n",
       "      <td>1</td>\n",
       "      <td>0</td>\n",
       "      <td>1</td>\n",
       "      <td>0</td>\n",
       "      <td>1</td>\n",
       "      <td>0</td>\n",
       "      <td>1</td>\n",
       "      <td>0</td>\n",
       "      <td>1</td>\n",
       "      <td>0</td>\n",
       "    </tr>\n",
       "    <tr>\n",
       "      <th>855</th>\n",
       "      <td>25</td>\n",
       "      <td>2.0</td>\n",
       "      <td>17.0</td>\n",
       "      <td>0.0</td>\n",
       "      <td>0.0</td>\n",
       "      <td>0.0</td>\n",
       "      <td>0.08</td>\n",
       "      <td>0.0</td>\n",
       "      <td>0.0</td>\n",
       "      <td>0.0</td>\n",
       "      <td>...</td>\n",
       "      <td>1</td>\n",
       "      <td>0</td>\n",
       "      <td>1</td>\n",
       "      <td>0</td>\n",
       "      <td>1</td>\n",
       "      <td>0</td>\n",
       "      <td>0</td>\n",
       "      <td>1</td>\n",
       "      <td>1</td>\n",
       "      <td>0</td>\n",
       "    </tr>\n",
       "    <tr>\n",
       "      <th>856</th>\n",
       "      <td>33</td>\n",
       "      <td>2.0</td>\n",
       "      <td>24.0</td>\n",
       "      <td>2.0</td>\n",
       "      <td>0.0</td>\n",
       "      <td>0.0</td>\n",
       "      <td>0.08</td>\n",
       "      <td>0.0</td>\n",
       "      <td>0.0</td>\n",
       "      <td>0.0</td>\n",
       "      <td>...</td>\n",
       "      <td>1</td>\n",
       "      <td>0</td>\n",
       "      <td>1</td>\n",
       "      <td>0</td>\n",
       "      <td>1</td>\n",
       "      <td>0</td>\n",
       "      <td>1</td>\n",
       "      <td>0</td>\n",
       "      <td>1</td>\n",
       "      <td>0</td>\n",
       "    </tr>\n",
       "    <tr>\n",
       "      <th>857</th>\n",
       "      <td>29</td>\n",
       "      <td>2.0</td>\n",
       "      <td>20.0</td>\n",
       "      <td>1.0</td>\n",
       "      <td>0.0</td>\n",
       "      <td>0.0</td>\n",
       "      <td>0.5</td>\n",
       "      <td>0.0</td>\n",
       "      <td>0.0</td>\n",
       "      <td>0.0</td>\n",
       "      <td>...</td>\n",
       "      <td>1</td>\n",
       "      <td>0</td>\n",
       "      <td>1</td>\n",
       "      <td>0</td>\n",
       "      <td>1</td>\n",
       "      <td>0</td>\n",
       "      <td>1</td>\n",
       "      <td>0</td>\n",
       "      <td>1</td>\n",
       "      <td>0</td>\n",
       "    </tr>\n",
       "  </tbody>\n",
       "</table>\n",
       "<p>858 rows × 50 columns</p>\n",
       "</div>"
      ],
      "text/plain": [
       "     Age Number of sexual partners First sexual intercourse  \\\n",
       "0     18                       4.0                     15.0   \n",
       "1     15                       1.0                     14.0   \n",
       "2     34                       1.0                       17   \n",
       "3     52                       5.0                     16.0   \n",
       "4     46                       3.0                     21.0   \n",
       "..   ...                       ...                      ...   \n",
       "853   34                       3.0                     18.0   \n",
       "854   32                       2.0                     19.0   \n",
       "855   25                       2.0                     17.0   \n",
       "856   33                       2.0                     24.0   \n",
       "857   29                       2.0                     20.0   \n",
       "\n",
       "    Num of pregnancies Smokes (years) Smokes (packs/year)  \\\n",
       "0                  1.0            0.0                 0.0   \n",
       "1                  1.0            0.0                 0.0   \n",
       "2                  1.0            0.0                 0.0   \n",
       "3                  4.0           37.0                37.0   \n",
       "4                  4.0            0.0                 0.0   \n",
       "..                 ...            ...                 ...   \n",
       "853                0.0            0.0                 0.0   \n",
       "854                1.0            0.0                 0.0   \n",
       "855                0.0            0.0                 0.0   \n",
       "856                2.0            0.0                 0.0   \n",
       "857                1.0            0.0                 0.0   \n",
       "\n",
       "    Hormonal Contraceptives (years) IUD (years) STDs (number)  \\\n",
       "0                               0.0         0.0           0.0   \n",
       "1                               0.0         0.0           0.0   \n",
       "2                               0.0         0.0           0.0   \n",
       "3                               3.0         0.0           0.0   \n",
       "4                              15.0         0.0           0.0   \n",
       "..                              ...         ...           ...   \n",
       "853                             0.0         0.0           0.0   \n",
       "854                             8.0         0.0           0.0   \n",
       "855                            0.08         0.0           0.0   \n",
       "856                            0.08         0.0           0.0   \n",
       "857                             0.5         0.0           0.0   \n",
       "\n",
       "    STDs:condylomatosis  ... Dx:HPV_0 Dx:HPV_1 Dx_0 Dx_1 Hinselmann_0  \\\n",
       "0                   0.0  ...        1        0    1    0            1   \n",
       "1                   0.0  ...        1        0    1    0            1   \n",
       "2                   0.0  ...        1        0    1    0            1   \n",
       "3                   0.0  ...        0        1    1    0            1   \n",
       "4                   0.0  ...        1        0    1    0            1   \n",
       "..                  ...  ...      ...      ...  ...  ...          ...   \n",
       "853                 0.0  ...        1        0    1    0            1   \n",
       "854                 0.0  ...        1        0    1    0            1   \n",
       "855                 0.0  ...        1        0    1    0            1   \n",
       "856                 0.0  ...        1        0    1    0            1   \n",
       "857                 0.0  ...        1        0    1    0            1   \n",
       "\n",
       "    Hinselmann_1 Citology_0 Citology_1 Schiller_0 Schiller_1  \n",
       "0              0          1          0          1          0  \n",
       "1              0          1          0          1          0  \n",
       "2              0          1          0          1          0  \n",
       "3              0          1          0          1          0  \n",
       "4              0          1          0          1          0  \n",
       "..           ...        ...        ...        ...        ...  \n",
       "853            0          1          0          1          0  \n",
       "854            0          1          0          1          0  \n",
       "855            0          0          1          1          0  \n",
       "856            0          1          0          1          0  \n",
       "857            0          1          0          1          0  \n",
       "\n",
       "[858 rows x 50 columns]"
      ]
     },
     "execution_count": 128,
     "metadata": {},
     "output_type": "execute_result"
    }
   ],
   "source": [
    "x"
   ]
  },
  {
   "cell_type": "markdown",
   "metadata": {},
   "source": [
    "# FEATURE SELECTION : Boruta"
   ]
  },
  {
   "cell_type": "markdown",
   "metadata": {},
   "source": [
    "SOURCE  : https://medium.com/@indreshbhattacharyya/feature-selection-categorical-feature-selection-boruta-light-gbm-chi-square-bf47e94e2558"
   ]
  },
  {
   "cell_type": "code",
   "execution_count": 129,
   "metadata": {},
   "outputs": [
    {
     "name": "stdout",
     "output_type": "stream",
     "text": [
      "Requirement already satisfied: Boruta in d:\\anaconda\\lib\\site-packages (0.3)\n",
      "Requirement already satisfied: scikit-learn>=0.17.1 in d:\\anaconda\\lib\\site-packages (from Boruta) (0.22.1)\n",
      "Requirement already satisfied: numpy>=1.10.4 in d:\\anaconda\\lib\\site-packages (from Boruta) (1.18.1)\n",
      "Requirement already satisfied: scipy>=0.17.0 in d:\\anaconda\\lib\\site-packages (from Boruta) (1.4.1)\n",
      "Requirement already satisfied: joblib>=0.11 in d:\\anaconda\\lib\\site-packages (from scikit-learn>=0.17.1->Boruta) (0.14.1)\n",
      "Note: you may need to restart the kernel to use updated packages.\n"
     ]
    }
   ],
   "source": [
    "pip install Boruta\n"
   ]
  },
  {
   "cell_type": "code",
   "execution_count": 130,
   "metadata": {},
   "outputs": [],
   "source": [
    "from sklearn.ensemble import RandomForestClassifier\n",
    "from boruta import BorutaPy"
   ]
  },
  {
   "cell_type": "markdown",
   "metadata": {},
   "source": [
    "# (╥_╥) (⋟﹏⋞)\n",
    "WARNING : BORUTA did'nt work out. "
   ]
  },
  {
   "cell_type": "markdown",
   "metadata": {},
   "source": [
    "# DETECTING HIGHLY CORRELATED FEATURES"
   ]
  },
  {
   "cell_type": "code",
   "execution_count": 131,
   "metadata": {},
   "outputs": [
    {
     "data": {
      "text/plain": [
       "<matplotlib.axes._subplots.AxesSubplot at 0x17b85828608>"
      ]
     },
     "execution_count": 131,
     "metadata": {},
     "output_type": "execute_result"
    },
    {
     "data": {
      "image/png": "[encoded data removed]",
      "text/plain": [
       "<Figure size 1080x720 with 2 Axes>"
      ]
     },
     "metadata": {},
     "output_type": "display_data"
    }
   ],
   "source": [
    "sns.set(rc={'figure.figsize':(15,10)})\n",
    "corr_mat=df.corr().round(1)\n",
    "sns.heatmap(corr_mat,annot=True)"
   ]
  },
  {
   "cell_type": "code",
   "execution_count": 132,
   "metadata": {},
   "outputs": [],
   "source": [
    "# creating a new set \n",
    "correlated_features=set()\n",
    "correl_matrix=x.corr()\n",
    "\n",
    "for i in range(len(correl_matrix.columns)):\n",
    "    for j in range(i):\n",
    "         if abs(correl_matrix.iloc[i, j]) > 0.7:\n",
    "            colname = correl_matrix.columns[i]\n",
    "            correlated_features.add(colname)\n"
   ]
  },
  {
   "cell_type": "code",
   "execution_count": 133,
   "metadata": {},
   "outputs": [
    {
     "name": "stdout",
     "output_type": "stream",
     "text": [
      "{'STDs_0.0', 'STDs_1', 'Dx:HPV_0', 'Dx:CIN_1', 'Hinselmann_1', 'Dx:Cancer_1', 'Smokes_1.0', 'Dx_1', 'Citology_1', 'Schiller_1', 'Hormonal Contraceptives_1.0', 'STDs_1.0', 'IUD_0', 'Dx:HPV_1', 'IUD_0.0'}\n"
     ]
    }
   ],
   "source": [
    "print(correlated_features)\n",
    "\n",
    "# set() means the set is empty"
   ]
  },
  {
   "cell_type": "markdown",
   "metadata": {},
   "source": [
    "# RFE_CV"
   ]
  },
  {
   "cell_type": "code",
   "execution_count": 134,
   "metadata": {},
   "outputs": [],
   "source": [
    "from sklearn.ensemble import RandomForestClassifier\n",
    "from sklearn.model_selection import StratifiedKFold\n",
    "from sklearn.feature_selection import RFECV\n"
   ]
  },
  {
   "cell_type": "code",
   "execution_count": 135,
   "metadata": {},
   "outputs": [
    {
     "data": {
      "text/plain": [
       "RFECV(cv=StratifiedKFold(n_splits=10, random_state=None, shuffle=False),\n",
       "      estimator=RandomForestClassifier(bootstrap=True, ccp_alpha=0.0,\n",
       "                                       class_weight=None, criterion='gini',\n",
       "                                       max_depth=None, max_features='auto',\n",
       "                                       max_leaf_nodes=None, max_samples=None,\n",
       "                                       min_impurity_decrease=0.0,\n",
       "                                       min_impurity_split=None,\n",
       "                                       min_samples_leaf=1, min_samples_split=2,\n",
       "                                       min_weight_fraction_leaf=0.0,\n",
       "                                       n_estimators=100, n_jobs=None,\n",
       "                                       oob_score=False, random_state=101,\n",
       "                                       verbose=0, warm_start=False),\n",
       "      min_features_to_select=1, n_jobs=None, scoring='accuracy', step=1,\n",
       "      verbose=0)"
      ]
     },
     "execution_count": 135,
     "metadata": {},
     "output_type": "execute_result"
    }
   ],
   "source": [
    "rfc=RandomForestClassifier(random_state=101)\n",
    "rfecv=RFECV(estimator=rfc,step=1,cv=StratifiedKFold(10),scoring='accuracy')\n",
    "rfecv.fit(x,y)"
   ]
  },
  {
   "cell_type": "code",
   "execution_count": 136,
   "metadata": {},
   "outputs": [
    {
     "name": "stdout",
     "output_type": "stream",
     "text": [
      "Optimal number of features: 1\n"
     ]
    }
   ],
   "source": [
    "print('Optimal number of features: {}'.format(rfecv.n_features_))\n"
   ]
  },
  {
   "cell_type": "code",
   "execution_count": 142,
   "metadata": {},
   "outputs": [
    {
     "data": {
      "image/png": "[encoded data removed]",
      "text/plain": [
       "<Figure size 1152x648 with 1 Axes>"
      ]
     },
     "metadata": {},
     "output_type": "display_data"
    }
   ],
   "source": [
    "plt.figure(figsize=(16, 9))\n",
    "plt.title('Recursive Feature Elimination with Cross-Validation', fontsize=18, fontweight='bold', pad=20)\n",
    "plt.xlabel('Number of features selected', fontsize=14, labelpad=20)\n",
    "plt.ylabel('% Correct Classification', fontsize=14, labelpad=20)\n",
    "plt.plot(range(1, len(rfecv.grid_scores_) + 1), rfecv.grid_scores_, color='#303F9F', linewidth=3)\n",
    "\n",
    "plt.show()"
   ]
  },
  {
   "cell_type": "markdown",
   "metadata": {},
   "source": [
    "# RFE_CV WITH SVC"
   ]
  },
  {
   "cell_type": "code",
   "execution_count": 143,
   "metadata": {},
   "outputs": [],
   "source": [
    "from sklearn.svm import SVC\n",
    "from sklearn.model_selection import StratifiedKFold\n",
    "from sklearn.feature_selection import RFECV"
   ]
  },
  {
   "cell_type": "code",
   "execution_count": 144,
   "metadata": {},
   "outputs": [
    {
     "name": "stdout",
     "output_type": "stream",
     "text": [
      "Optimal number of features : 1\n"
     ]
    },
    {
     "data": {
      "image/png": "[encoded data removed]",
      "text/plain": [
       "<Figure size 1080x720 with 1 Axes>"
      ]
     },
     "metadata": {},
     "output_type": "display_data"
    }
   ],
   "source": [
    "svc = SVC(kernel=\"linear\")\n",
    "# The \"accuracy\" scoring is proportional to the number of correct\n",
    "# classifications\n",
    "rfecv = RFECV(estimator=svc, step=1, cv=StratifiedKFold(5),\n",
    "              scoring='accuracy')\n",
    "rfecv.fit(x, y)\n",
    "\n",
    "print(\"Optimal number of features : %d\" % rfecv.n_features_)\n",
    "\n",
    "# Plot number of features VS. cross-validation scores\n",
    "plt.figure()\n",
    "plt.title('RFE_CV with SVC LINEAR ', fontsize=18, fontweight='bold', pad=20)\n",
    "plt.xlabel(\"Number of features selected\")\n",
    "plt.ylabel(\"Cross validation score (nb of correct classifications)\")\n",
    "plt.plot(range(1, len(rfecv.grid_scores_) + 1), rfecv.grid_scores_)\n",
    "plt.show()"
   ]
  },
  {
   "cell_type": "markdown",
   "metadata": {},
   "source": [
    "# CONCLUSION :\n",
    "## RFE_CV doesnt make any sense here. You better look CHi_2"
   ]
  },
  {
   "cell_type": "code",
   "execution_count": null,
   "metadata": {},
   "outputs": [],
   "source": []
  },
  {
   "cell_type": "code",
   "execution_count": null,
   "metadata": {},
   "outputs": [],
   "source": []
  },
  {
   "cell_type": "markdown",
   "metadata": {},
   "source": [
    "# FEATURE_SELECTION USIGN SelectKBest"
   ]
  },
  {
   "cell_type": "code",
   "execution_count": 145,
   "metadata": {},
   "outputs": [],
   "source": [
    "from sklearn.feature_selection import SelectKBest\n",
    "from sklearn.feature_selection import chi2, f_classif\n",
    " "
   ]
  },
  {
   "cell_type": "code",
   "execution_count": 146,
   "metadata": {},
   "outputs": [
    {
     "name": "stdout",
     "output_type": "stream",
     "text": [
      "                              Specs       Score\n",
      "49                       Schiller_1  421.468937\n",
      "45                     Hinselmann_1  246.624266\n",
      "47                       Citology_1   87.288667\n",
      "6   Hormonal Contraceptives (years)   47.503779\n",
      "4                    Smokes (years)   44.065515\n",
      "48                       Schiller_0   39.781507\n",
      "37                      Dx:Cancer_1   21.747945\n",
      "41                         Dx:HPV_1   21.747945\n",
      "43                             Dx_1   20.716438\n",
      "8                     STDs (number)   16.500669\n",
      "-----------------------------------------------\n",
      " \n"
     ]
    }
   ],
   "source": [
    "bestfeatures = SelectKBest(score_func=chi2, k=5)\n",
    "fit = bestfeatures.fit(x,y)\n",
    "dfscores=pd.DataFrame(fit.scores_)\n",
    "dfcols=pd.DataFrame(x.columns)\n",
    "featscores=pd.concat([dfcols,dfscores],axis=1)\n",
    "featscores.columns=['Specs','Score']\n",
    "print(featscores.nlargest(10,'Score'))\n",
    "print(\"-----------------------------------------------\")\n",
    "print(\" \")\n",
    "   "
   ]
  },
  {
   "cell_type": "markdown",
   "metadata": {},
   "source": [
    "# Feature_importances"
   ]
  },
  {
   "cell_type": "code",
   "execution_count": 147,
   "metadata": {},
   "outputs": [
    {
     "name": "stdout",
     "output_type": "stream",
     "text": [
      "[6.06316594e-02 4.95523853e-02 6.22275492e-02 4.13964275e-02\n",
      " 1.13806211e-02 1.08867332e-02 4.63430697e-02 1.31985141e-02\n",
      " 3.80658974e-03 2.26818299e-03 0.00000000e+00 2.55254915e-05\n",
      " 1.71775534e-03 7.30868997e-03 1.51734020e-05 1.34842411e-02\n",
      " 3.45542162e-06 0.00000000e+00 3.43398001e-03 0.00000000e+00\n",
      " 1.22848143e-04 5.37837753e-03 4.74143008e-03 3.52938989e-03\n",
      " 2.65005966e-03 8.41814167e-03 6.52833620e-03 1.78496162e-03\n",
      " 1.11515532e-02 1.23326397e-02 5.69835155e-03 8.22000931e-03\n",
      " 7.78043938e-03 5.00651045e-03 4.77029978e-03 4.79699387e-03\n",
      " 3.44469293e-03 4.40995985e-03 5.59061689e-03 3.38055943e-03\n",
      " 4.14892873e-03 4.02613235e-03 3.38625858e-03 5.06408114e-03\n",
      " 7.93533663e-02 5.57881140e-02 2.75729736e-02 2.41298089e-02\n",
      " 1.95060205e-01 1.64053407e-01]\n",
      "[6.06036411e-02 4.93558715e-02 5.83322740e-02 4.42291957e-02\n",
      " 1.16610764e-02 1.20822760e-02 4.38620905e-02 1.37730313e-02\n",
      " 4.75593755e-03 1.45279588e-03 0.00000000e+00 1.44218145e-04\n",
      " 2.48727209e-03 6.16987327e-03 2.15857202e-06 1.34328241e-02\n",
      " 1.24957874e-06 0.00000000e+00 4.36752991e-03 0.00000000e+00\n",
      " 4.85678705e-06 5.24481787e-03 5.13171796e-03 4.55222305e-03\n",
      " 2.76480930e-03 7.01370336e-03 5.37464333e-03 2.00101935e-03\n",
      " 1.15653854e-02 1.23489864e-02 4.78588906e-03 9.42031080e-03\n",
      " 6.99537615e-03 4.67265387e-03 6.27841112e-03 3.02224868e-03\n",
      " 4.62245683e-03 4.49054279e-03 3.28354482e-03 4.40824807e-03\n",
      " 3.79064864e-03 3.96116366e-03 3.19758414e-03 4.32273909e-03\n",
      " 6.03759690e-02 7.61842089e-02 3.01514224e-02 2.29925644e-02\n",
      " 1.72848219e-01 1.87480320e-01]\n"
     ]
    }
   ],
   "source": [
    "from sklearn.ensemble import RandomForestClassifier\n",
    "from sklearn.ensemble import ExtraTreesClassifier\n",
    "model = ExtraTreesClassifier()\n",
    "model.fit(x,y)\n",
    "print(model.feature_importances_)\n",
    "model=ExtraTreesClassifier()  # model is object of fn ExtraTressClassifier\n",
    "model.fit(x,y)\n",
    "print(model.feature_importances_)\n"
   ]
  },
  {
   "cell_type": "code",
   "execution_count": 148,
   "metadata": {},
   "outputs": [
    {
     "data": {
      "image/png": "[encoded data removed]",
      "text/plain": [
       "<Figure size 1080x720 with 1 Axes>"
      ]
     },
     "metadata": {},
     "output_type": "display_data"
    }
   ],
   "source": [
    "feat_importances = pd.Series(model.feature_importances_, index=x.columns)\n",
    "feat_importances.nlargest(10).plot(kind='barh')\n",
    "plt.show()"
   ]
  },
  {
   "cell_type": "markdown",
   "metadata": {},
   "source": [
    "# ANOVA"
   ]
  },
  {
   "cell_type": "code",
   "execution_count": 149,
   "metadata": {},
   "outputs": [
    {
     "data": {
      "text/plain": [
       "SelectKBest(k='all', score_func=<function f_classif at 0x0000017BF5246EE8>)"
      ]
     },
     "execution_count": 149,
     "metadata": {},
     "output_type": "execute_result"
    }
   ],
   "source": [
    "from sklearn.feature_selection import SelectKBest, chi2, f_classif, mutual_info_classif\n",
    "# k='all' , so that we are taking all the features into consideration\n",
    "\n",
    "skb=SelectKBest(f_classif,k='all')\n",
    "x_new=skb.fit(x,y)\n",
    "x_new"
   ]
  },
  {
   "cell_type": "code",
   "execution_count": 150,
   "metadata": {},
   "outputs": [
    {
     "data": {
      "text/plain": [
       "array([2.68857081e+00, 1.42657230e-04, 4.51042445e-02, 1.38661021e+00,\n",
       "       3.21859647e+00, 5.13571250e-01, 7.65787399e+00, 1.24937019e+00,\n",
       "       9.20621226e+00, 7.01591077e+00,            nan, 2.74702352e-01,\n",
       "       7.39514444e+00, 1.25820676e+00, 6.84186968e-02, 1.48357075e+01,\n",
       "       6.84186968e-02,            nan, 1.41909814e+01, 6.84186968e-02,\n",
       "       1.37008227e-01, 8.20675990e+00, 6.45744350e-02, 7.33647390e-01,\n",
       "       3.60816051e-02, 7.57406280e-01, 7.06829721e-01, 8.52684007e+00,\n",
       "       2.77904406e-01, 2.10557893e+00, 3.34568616e+00, 7.29998544e-02,\n",
       "       3.01363876e+00, 4.05791823e+00, 5.59814322e-01, 1.13007387e+01,\n",
       "       2.27512305e+01, 2.27512305e+01, 1.11058722e+01, 1.11058722e+01,\n",
       "       2.27512305e+01, 2.27512305e+01, 2.18045367e+01, 2.18045367e+01,\n",
       "       3.66272137e+02, 3.66272137e+02, 1.02818129e+02, 1.02818129e+02,\n",
       "       9.95162753e+02, 9.95162753e+02])"
      ]
     },
     "execution_count": 150,
     "metadata": {},
     "output_type": "execute_result"
    }
   ],
   "source": [
    "x_new.scores_"
   ]
  },
  {
   "cell_type": "code",
   "execution_count": 151,
   "metadata": {},
   "outputs": [
    {
     "data": {
      "image/png": "[encoded data removed]",
      "text/plain": [
       "<Figure size 1440x720 with 1 Axes>"
      ]
     },
     "metadata": {},
     "output_type": "display_data"
    }
   ],
   "source": [
    "indices = np.argsort(x_new.scores_)[::-1]\n",
    "\n",
    "# To get your top 10 feature names\n",
    "features = []\n",
    "for i in range(7):\n",
    "    features.append(x.columns[indices[i]])\n",
    "\n",
    "# Now plot\n",
    "plt.figure(figsize=(20,10))\n",
    "plt.bar(features, x_new.scores_[indices[range(7)]], color='b', align='center')\n",
    "plt.show()"
   ]
  },
  {
   "cell_type": "markdown",
   "metadata": {},
   "source": [
    "# MIC Multual info Classifier"
   ]
  },
  {
   "cell_type": "code",
   "execution_count": 152,
   "metadata": {},
   "outputs": [
    {
     "data": {
      "image/png": "[encoded data removed]",
      "text/plain": [
       "<Figure size 1440x720 with 1 Axes>"
      ]
     },
     "metadata": {},
     "output_type": "display_data"
    }
   ],
   "source": [
    "skb2=SelectKBest(mutual_info_classif,k='all')\n",
    "x1_new=skb2.fit(x,y)\n",
    "x1_new\n",
    "\n",
    "\n",
    "x1_new.scores_\n",
    "\n",
    "\n",
    "indices = np.argsort(x1_new.scores_)[::-1]\n",
    "\n",
    "# To get your top 10 feature names\n",
    "features = []\n",
    "for i in range(7):\n",
    "    features.append(x.columns[indices[i]])\n",
    "\n",
    "# Now plot\n",
    "plt.figure(figsize=(20,10))\n",
    "plt.bar(features, x1_new.scores_[indices[range(7)]], color='r', align='center')\n",
    "plt.show()"
   ]
  },
  {
   "cell_type": "markdown",
   "metadata": {},
   "source": [
    "# Chi2"
   ]
  },
  {
   "cell_type": "code",
   "execution_count": 153,
   "metadata": {},
   "outputs": [
    {
     "name": "stdout",
     "output_type": "stream",
     "text": [
      "[7.22483088e+00 1.53831485e-04 2.07093377e-02 1.20498299e+00\n",
      " 4.40655153e+01 5.62554109e+00 4.75037794e+01 9.24635538e+00\n",
      " 1.65006695e+01 6.61743462e+00            nan 2.73972603e-01\n",
      " 6.98063077e+00 1.23287671e+00 6.84931507e-02 1.46000000e+01\n",
      " 6.84931507e-02            nan 1.36986301e+01 6.84931507e-02\n",
      " 1.36986301e-01 8.52197260e+00 4.93181262e-02 7.50989126e-01\n",
      " 3.56164384e-02 1.20229196e-01 6.06414968e-01 7.39726027e+00\n",
      " 1.91159546e-01 9.25064791e-01 2.88493151e+00 1.70545863e-02\n",
      " 2.71889751e+00 3.55279843e+00 1.20255274e-01 1.01501994e+01\n",
      " 4.66027397e-01 2.17479452e+01 1.15271794e-01 1.08739726e+01\n",
      " 4.66027397e-01 2.17479452e+01 5.96156499e-01 2.07164384e+01\n",
      " 1.04882738e+01 2.46624266e+02 4.71830635e+00 8.72886675e+01\n",
      " 3.97815068e+01 4.21468937e+02]\n"
     ]
    },
    {
     "data": {
      "image/png": "[encoded data removed]",
      "text/plain": [
       "<Figure size 1440x720 with 1 Axes>"
      ]
     },
     "metadata": {},
     "output_type": "display_data"
    }
   ],
   "source": [
    "skb3=SelectKBest(chi2,k='all')\n",
    "x2_new=skb3.fit(x,y)\n",
    "x2_new\n",
    "\n",
    "\n",
    "print(x2_new.scores_)\n",
    "\n",
    "indices = np.argsort(x2_new.scores_)[::-1]\n",
    "\n",
    "# To get your top 10 feature names\n",
    "features = []\n",
    "for i in range(7):\n",
    "    features.append(x.columns[indices[i]])\n",
    "\n",
    "# Now plot\n",
    "plt.figure(figsize=(20,10))\n",
    "plt.bar(features, x2_new.scores_[indices[range(7)]], color='r', align='center')\n",
    "plt.show()"
   ]
  },
  {
   "cell_type": "markdown",
   "metadata": {},
   "source": [
    "# RANDOM SEARCH"
   ]
  },
  {
   "cell_type": "code",
   "execution_count": 154,
   "metadata": {},
   "outputs": [],
   "source": [
    "from sklearn.linear_model import LogisticRegression \n",
    "from sklearn.metrics import accuracy_score\n",
    "from sklearn.tree import DecisionTreeClassifier, DecisionTreeRegressor \n",
    "from sklearn.ensemble import RandomForestClassifier, RandomForestRegressor, BaggingClassifier,AdaBoostClassifier,GradientBoostingClassifier\n",
    "from sklearn.linear_model import LinearRegression,LogisticRegression\n",
    "from sklearn.neighbors import KNeighborsClassifier\n",
    "from sklearn.naive_bayes import GaussianNB\n",
    "from sklearn import metrics\n",
    "from sklearn.preprocessing import StandardScaler\n",
    "from sklearn.feature_selection import RFE\n",
    "from collections import Counter"
   ]
  },
  {
   "cell_type": "code",
   "execution_count": 155,
   "metadata": {},
   "outputs": [
    {
     "name": "stdout",
     "output_type": "stream",
     "text": [
      "{'max_depth': [1, 23, 45],\n",
      " 'max_features': ['auto', 'sqrt'],\n",
      " 'min_samples_split': [5, 10],\n",
      " 'n_estimators': [20, 65, 110, 155, 200]}\n"
     ]
    }
   ],
   "source": [
    "\n",
    "from sklearn.model_selection import RandomizedSearchCV\n",
    "from pprint import pprint\n",
    "\n",
    "# Number of trees in random forest\n",
    "n_estimators = [int(x) for x in np.linspace(start = 20, stop = 200, num = 5)]\n",
    "# Number of features to consider at every split\n",
    "max_features = ['auto', 'sqrt']\n",
    "# Maximum number of levels in tree\n",
    "max_depth = [int(x) for x in np.linspace(1, 45, num = 3)]\n",
    "# Minimum number of samples required to split a node\n",
    "min_samples_split = [5, 10]\n",
    "\n",
    "\n",
    "\n",
    "# Create the random grid\n",
    "random_grid = {'n_estimators': n_estimators,\n",
    "               'max_features': max_features,\n",
    "               'max_depth': max_depth,\n",
    "               'min_samples_split': min_samples_split}\n",
    "\n",
    "pprint(random_grid)"
   ]
  },
  {
   "cell_type": "code",
   "execution_count": 156,
   "metadata": {},
   "outputs": [],
   "source": [
    "from tqdm import tqdm_notebook as tqdm\n",
    "from sklearn.model_selection import RandomizedSearchCV\n",
    "import warnings"
   ]
  },
  {
   "cell_type": "markdown",
   "metadata": {},
   "source": [
    "# Accuracy RCV_RANDOM SEARCH ORGINAL DATASET"
   ]
  },
  {
   "cell_type": "code",
   "execution_count": 157,
   "metadata": {
    "scrolled": false
   },
   "outputs": [
    {
     "name": "stdout",
     "output_type": "stream",
     "text": [
      "Start Fitting Training Data\n"
     ]
    },
    {
     "data": {
      "application/vnd.jupyter.widget-view+json": {
       "model_id": "c71b29db7a424e689be94dd71b9219e8",
       "version_major": 2,
       "version_minor": 0
      },
      "text/plain": [
       "HBox(children=(FloatProgress(value=0.0, max=6.0), HTML(value='')))"
      ]
     },
     "metadata": {},
     "output_type": "display_data"
    },
    {
     "name": "stdout",
     "output_type": "stream",
     "text": [
      "Fitting 5 folds for each of 10 candidates, totalling 50 fits\n"
     ]
    },
    {
     "name": "stderr",
     "output_type": "stream",
     "text": [
      "[Parallel(n_jobs=-1)]: Using backend LokyBackend with 12 concurrent workers.\n",
      "[Parallel(n_jobs=-1)]: Done  17 tasks      | elapsed:    2.2s\n",
      "[Parallel(n_jobs=-1)]: Done  50 out of  50 | elapsed:    3.2s finished\n",
      "[Parallel(n_jobs=-1)]: Using backend LokyBackend with 12 concurrent workers.\n"
     ]
    },
    {
     "name": "stdout",
     "output_type": "stream",
     "text": [
      "Accuracy for 5 fold CV = 0.98\n",
      "!!!!!!!! Best-Fit Parameters From Training Data !!!!!!!!!!!!!!\n",
      "{'n_estimators': 20, 'min_samples_split': 10, 'max_features': 'auto', 'max_depth': 45}\n",
      " \n",
      " \n",
      "Fitting 6 folds for each of 10 candidates, totalling 60 fits\n"
     ]
    },
    {
     "name": "stderr",
     "output_type": "stream",
     "text": [
      "[Parallel(n_jobs=-1)]: Done  17 tasks      | elapsed:    0.2s\n",
      "[Parallel(n_jobs=-1)]: Done  60 out of  60 | elapsed:    1.4s finished\n"
     ]
    },
    {
     "name": "stdout",
     "output_type": "stream",
     "text": [
      "Accuracy for 6 fold CV = 0.98\n",
      "!!!!!!!! Best-Fit Parameters From Training Data !!!!!!!!!!!!!!\n",
      "{'n_estimators': 155, 'min_samples_split': 10, 'max_features': 'auto', 'max_depth': 45}\n",
      " \n",
      " \n",
      "Fitting 7 folds for each of 10 candidates, totalling 70 fits\n"
     ]
    },
    {
     "name": "stderr",
     "output_type": "stream",
     "text": [
      "[Parallel(n_jobs=-1)]: Using backend LokyBackend with 12 concurrent workers.\n",
      "[Parallel(n_jobs=-1)]: Done  17 tasks      | elapsed:    0.2s\n",
      "[Parallel(n_jobs=-1)]: Done  70 out of  70 | elapsed:    1.6s finished\n"
     ]
    },
    {
     "name": "stdout",
     "output_type": "stream",
     "text": [
      "Accuracy for 7 fold CV = 0.98\n",
      "!!!!!!!! Best-Fit Parameters From Training Data !!!!!!!!!!!!!!\n",
      "{'n_estimators': 110, 'min_samples_split': 10, 'max_features': 'sqrt', 'max_depth': 45}\n",
      " \n",
      " \n",
      "Fitting 8 folds for each of 10 candidates, totalling 80 fits\n"
     ]
    },
    {
     "name": "stderr",
     "output_type": "stream",
     "text": [
      "[Parallel(n_jobs=-1)]: Using backend LokyBackend with 12 concurrent workers.\n",
      "[Parallel(n_jobs=-1)]: Done  18 tasks      | elapsed:    0.2s\n",
      "[Parallel(n_jobs=-1)]: Done  57 out of  80 | elapsed:    1.6s remaining:    0.6s\n",
      "[Parallel(n_jobs=-1)]: Done  80 out of  80 | elapsed:    1.8s finished\n"
     ]
    },
    {
     "name": "stdout",
     "output_type": "stream",
     "text": [
      "Accuracy for 8 fold CV = 0.98\n",
      "!!!!!!!! Best-Fit Parameters From Training Data !!!!!!!!!!!!!!\n",
      "{'n_estimators': 110, 'min_samples_split': 10, 'max_features': 'sqrt', 'max_depth': 45}\n",
      " \n",
      " \n",
      "Fitting 9 folds for each of 10 candidates, totalling 90 fits\n"
     ]
    },
    {
     "name": "stderr",
     "output_type": "stream",
     "text": [
      "[Parallel(n_jobs=-1)]: Using backend LokyBackend with 12 concurrent workers.\n",
      "[Parallel(n_jobs=-1)]: Done  17 tasks      | elapsed:    0.1s\n",
      "[Parallel(n_jobs=-1)]: Done  90 out of  90 | elapsed:    2.1s finished\n",
      "[Parallel(n_jobs=-1)]: Using backend LokyBackend with 12 concurrent workers.\n"
     ]
    },
    {
     "name": "stdout",
     "output_type": "stream",
     "text": [
      "Accuracy for 9 fold CV = 0.98\n",
      "!!!!!!!! Best-Fit Parameters From Training Data !!!!!!!!!!!!!!\n",
      "{'n_estimators': 20, 'min_samples_split': 10, 'max_features': 'auto', 'max_depth': 45}\n",
      " \n",
      " \n",
      "Fitting 10 folds for each of 10 candidates, totalling 100 fits\n"
     ]
    },
    {
     "name": "stderr",
     "output_type": "stream",
     "text": [
      "[Parallel(n_jobs=-1)]: Done  17 tasks      | elapsed:    0.1s\n",
      "[Parallel(n_jobs=-1)]: Done 100 out of 100 | elapsed:    2.5s finished\n"
     ]
    },
    {
     "name": "stdout",
     "output_type": "stream",
     "text": [
      "Accuracy for 10 fold CV = 0.98\n",
      "!!!!!!!! Best-Fit Parameters From Training Data !!!!!!!!!!!!!!\n",
      "{'n_estimators': 155, 'min_samples_split': 10, 'max_features': 'auto', 'max_depth': 45}\n",
      " \n",
      " \n",
      "\n",
      "Out of Loop\n"
     ]
    }
   ],
   "source": [
    "#from sklearn.pipeline import Pipeline\n",
    "\n",
    "#pipeline = Pipeline(pipe_steps)\n",
    "# I love You So Much \n",
    "from tqdm import tqdm_notebook as tqdm\n",
    "from sklearn.model_selection import RandomizedSearchCV\n",
    "import warnings\n",
    "warnings.filterwarnings(\"ignore\")\n",
    "rf=RandomForestClassifier(random_state=0)\n",
    "print(\"Start Fitting Training Data\")\n",
    "for cvx in tqdm(range(5,11)):\n",
    "    rf_random = RandomizedSearchCV(estimator = rf, param_distributions = random_grid, n_iter = 10, cv = cvx, verbose=2, random_state=42, n_jobs = -1, scoring='accuracy')\n",
    "   \n",
    "    rf_random.fit(x,y)\n",
    "    \n",
    "    print(\"Accuracy for %d fold CV = %3.2f\"%(cvx,rf_random.score(x,y)))\n",
    "    print (\"!!!!!!!! Best-Fit Parameters From Training Data !!!!!!!!!!!!!!\")\n",
    "    print (rf_random.best_params_)\n",
    "    print(\" \")\n",
    "    print(\" \")\n",
    "    \n",
    "print(\"Out of Loop\")\n"
   ]
  },
  {
   "cell_type": "markdown",
   "metadata": {},
   "source": [
    "# RECALL rcv_RANDOM SEARCH ORGINAL DATASET"
   ]
  },
  {
   "cell_type": "code",
   "execution_count": 158,
   "metadata": {
    "scrolled": false
   },
   "outputs": [
    {
     "name": "stdout",
     "output_type": "stream",
     "text": [
      "Start Fitting Training Data\n"
     ]
    },
    {
     "data": {
      "application/vnd.jupyter.widget-view+json": {
       "model_id": "4f637d42b0244364ad941322c324b867",
       "version_major": 2,
       "version_minor": 0
      },
      "text/plain": [
       "HBox(children=(FloatProgress(value=0.0, max=6.0), HTML(value='')))"
      ]
     },
     "metadata": {},
     "output_type": "display_data"
    },
    {
     "name": "stdout",
     "output_type": "stream",
     "text": [
      "Fitting 5 folds for each of 10 candidates, totalling 50 fits\n"
     ]
    },
    {
     "name": "stderr",
     "output_type": "stream",
     "text": [
      "[Parallel(n_jobs=-1)]: Using backend LokyBackend with 12 concurrent workers.\n",
      "[Parallel(n_jobs=-1)]: Done  50 out of  50 | elapsed:    1.2s finished\n",
      "[Parallel(n_jobs=-1)]: Using backend LokyBackend with 12 concurrent workers.\n"
     ]
    },
    {
     "name": "stdout",
     "output_type": "stream",
     "text": [
      "Recall for 5 fold CV = 0.87\n",
      "!!!!!!!! Best-Fit Parameters From Training Data !!!!!!!!!!!!!!\n",
      "{'n_estimators': 65, 'min_samples_split': 10, 'max_features': 'sqrt', 'max_depth': 23}\n",
      " \n",
      " \n",
      "Fitting 6 folds for each of 10 candidates, totalling 60 fits\n"
     ]
    },
    {
     "name": "stderr",
     "output_type": "stream",
     "text": [
      "[Parallel(n_jobs=-1)]: Done  17 tasks      | elapsed:    0.1s\n",
      "[Parallel(n_jobs=-1)]: Done  60 out of  60 | elapsed:    1.4s finished\n"
     ]
    },
    {
     "name": "stdout",
     "output_type": "stream",
     "text": [
      "Recall for 6 fold CV = 0.85\n",
      "!!!!!!!! Best-Fit Parameters From Training Data !!!!!!!!!!!!!!\n",
      "{'n_estimators': 155, 'min_samples_split': 10, 'max_features': 'auto', 'max_depth': 45}\n",
      " \n",
      " \n",
      "Fitting 7 folds for each of 10 candidates, totalling 70 fits\n"
     ]
    },
    {
     "name": "stderr",
     "output_type": "stream",
     "text": [
      "[Parallel(n_jobs=-1)]: Using backend LokyBackend with 12 concurrent workers.\n",
      "[Parallel(n_jobs=-1)]: Done  17 tasks      | elapsed:    0.1s\n",
      "[Parallel(n_jobs=-1)]: Done  70 out of  70 | elapsed:    1.6s finished\n"
     ]
    },
    {
     "name": "stdout",
     "output_type": "stream",
     "text": [
      "Recall for 7 fold CV = 0.87\n",
      "!!!!!!!! Best-Fit Parameters From Training Data !!!!!!!!!!!!!!\n",
      "{'n_estimators': 110, 'min_samples_split': 10, 'max_features': 'sqrt', 'max_depth': 45}\n",
      " \n",
      " \n",
      "Fitting 8 folds for each of 10 candidates, totalling 80 fits\n"
     ]
    },
    {
     "name": "stderr",
     "output_type": "stream",
     "text": [
      "[Parallel(n_jobs=-1)]: Using backend LokyBackend with 12 concurrent workers.\n",
      "[Parallel(n_jobs=-1)]: Done  18 tasks      | elapsed:    0.2s\n",
      "[Parallel(n_jobs=-1)]: Done  57 out of  80 | elapsed:    1.6s remaining:    0.6s\n",
      "[Parallel(n_jobs=-1)]: Done  80 out of  80 | elapsed:    1.9s finished\n",
      "[Parallel(n_jobs=-1)]: Using backend LokyBackend with 12 concurrent workers.\n"
     ]
    },
    {
     "name": "stdout",
     "output_type": "stream",
     "text": [
      "Recall for 8 fold CV = 0.87\n",
      "!!!!!!!! Best-Fit Parameters From Training Data !!!!!!!!!!!!!!\n",
      "{'n_estimators': 65, 'min_samples_split': 10, 'max_features': 'sqrt', 'max_depth': 23}\n",
      " \n",
      " \n",
      "Fitting 9 folds for each of 10 candidates, totalling 90 fits\n"
     ]
    },
    {
     "name": "stderr",
     "output_type": "stream",
     "text": [
      "[Parallel(n_jobs=-1)]: Done  17 tasks      | elapsed:    0.1s\n",
      "[Parallel(n_jobs=-1)]: Done  67 out of  90 | elapsed:    1.8s remaining:    0.5s\n",
      "[Parallel(n_jobs=-1)]: Done  90 out of  90 | elapsed:    2.1s finished\n",
      "[Parallel(n_jobs=-1)]: Using backend LokyBackend with 12 concurrent workers.\n"
     ]
    },
    {
     "name": "stdout",
     "output_type": "stream",
     "text": [
      "Recall for 9 fold CV = 0.87\n",
      "!!!!!!!! Best-Fit Parameters From Training Data !!!!!!!!!!!!!!\n",
      "{'n_estimators': 20, 'min_samples_split': 10, 'max_features': 'auto', 'max_depth': 45}\n",
      " \n",
      " \n",
      "Fitting 10 folds for each of 10 candidates, totalling 100 fits\n"
     ]
    },
    {
     "name": "stderr",
     "output_type": "stream",
     "text": [
      "[Parallel(n_jobs=-1)]: Done  17 tasks      | elapsed:    0.1s\n",
      "[Parallel(n_jobs=-1)]: Done 100 out of 100 | elapsed:    2.4s finished\n"
     ]
    },
    {
     "name": "stdout",
     "output_type": "stream",
     "text": [
      "Recall for 10 fold CV = 0.85\n",
      "!!!!!!!! Best-Fit Parameters From Training Data !!!!!!!!!!!!!!\n",
      "{'n_estimators': 155, 'min_samples_split': 10, 'max_features': 'auto', 'max_depth': 45}\n",
      " \n",
      " \n",
      "\n",
      "Out of Loop\n"
     ]
    }
   ],
   "source": [
    "#from sklearn.pipeline import Pipeline\n",
    "\n",
    "#pipeline = Pipeline(pipe_steps)\n",
    "# I love You So Much \n",
    "from tqdm import tqdm_notebook as tqdm\n",
    "from sklearn.model_selection import RandomizedSearchCV\n",
    "import warnings\n",
    "warnings.filterwarnings(\"ignore\")\n",
    "rf=RandomForestClassifier(random_state=0)\n",
    "print(\"Start Fitting Training Data\")\n",
    "for cvx in tqdm(range(5,11)):\n",
    "    rf_random = RandomizedSearchCV(estimator = rf, param_distributions = random_grid, n_iter = 10, cv = cvx, verbose=2, random_state=42, n_jobs = -1, scoring='recall')\n",
    "   \n",
    "    rf_random.fit(x,y)\n",
    "    \n",
    "    print(\"Recall for %d fold CV = %3.2f\"%(cvx,rf_random.score(x,y)))\n",
    "    print (\"!!!!!!!! Best-Fit Parameters From Training Data !!!!!!!!!!!!!!\")\n",
    "    print (rf_random.best_params_)\n",
    "    print(\" \")\n",
    "    print(\" \")\n",
    "    \n",
    "print(\"Out of Loop\")\n"
   ]
  },
  {
   "cell_type": "markdown",
   "metadata": {},
   "source": [
    "# PRECISION "
   ]
  },
  {
   "cell_type": "code",
   "execution_count": 159,
   "metadata": {},
   "outputs": [
    {
     "name": "stdout",
     "output_type": "stream",
     "text": [
      "Start Fitting Training Data\n"
     ]
    },
    {
     "data": {
      "application/vnd.jupyter.widget-view+json": {
       "model_id": "6d283f9b4f714946b5b9e3c3b92d8e77",
       "version_major": 2,
       "version_minor": 0
      },
      "text/plain": [
       "HBox(children=(FloatProgress(value=0.0, max=6.0), HTML(value='')))"
      ]
     },
     "metadata": {},
     "output_type": "display_data"
    },
    {
     "name": "stdout",
     "output_type": "stream",
     "text": [
      "Fitting 5 folds for each of 10 candidates, totalling 50 fits\n"
     ]
    },
    {
     "name": "stderr",
     "output_type": "stream",
     "text": [
      "[Parallel(n_jobs=-1)]: Using backend LokyBackend with 12 concurrent workers.\n",
      "[Parallel(n_jobs=-1)]: Done  50 out of  50 | elapsed:    1.2s finished\n",
      "[Parallel(n_jobs=-1)]: Using backend LokyBackend with 12 concurrent workers.\n"
     ]
    },
    {
     "name": "stdout",
     "output_type": "stream",
     "text": [
      "Precision for 5 fold CV = 0.84\n",
      "!!!!!!!! Best-Fit Parameters From Training Data !!!!!!!!!!!!!!\n",
      "{'n_estimators': 20, 'min_samples_split': 10, 'max_features': 'auto', 'max_depth': 45}\n",
      " \n",
      " \n",
      "Fitting 6 folds for each of 10 candidates, totalling 60 fits\n"
     ]
    },
    {
     "name": "stderr",
     "output_type": "stream",
     "text": [
      "[Parallel(n_jobs=-1)]: Done  17 tasks      | elapsed:    0.1s\n",
      "[Parallel(n_jobs=-1)]: Done  60 out of  60 | elapsed:    1.4s finished\n",
      "[Parallel(n_jobs=-1)]: Using backend LokyBackend with 12 concurrent workers.\n"
     ]
    },
    {
     "name": "stdout",
     "output_type": "stream",
     "text": [
      "Precision for 6 fold CV = 0.84\n",
      "!!!!!!!! Best-Fit Parameters From Training Data !!!!!!!!!!!!!!\n",
      "{'n_estimators': 20, 'min_samples_split': 10, 'max_features': 'auto', 'max_depth': 45}\n",
      " \n",
      " \n",
      "Fitting 7 folds for each of 10 candidates, totalling 70 fits\n"
     ]
    },
    {
     "name": "stderr",
     "output_type": "stream",
     "text": [
      "[Parallel(n_jobs=-1)]: Done  17 tasks      | elapsed:    0.1s\n",
      "[Parallel(n_jobs=-1)]: Done  70 out of  70 | elapsed:    1.7s finished\n"
     ]
    },
    {
     "name": "stdout",
     "output_type": "stream",
     "text": [
      "Precision for 7 fold CV = 0.87\n",
      "!!!!!!!! Best-Fit Parameters From Training Data !!!!!!!!!!!!!!\n",
      "{'n_estimators': 110, 'min_samples_split': 10, 'max_features': 'sqrt', 'max_depth': 45}\n",
      " \n",
      " \n",
      "Fitting 8 folds for each of 10 candidates, totalling 80 fits\n"
     ]
    },
    {
     "name": "stderr",
     "output_type": "stream",
     "text": [
      "[Parallel(n_jobs=-1)]: Using backend LokyBackend with 12 concurrent workers.\n",
      "[Parallel(n_jobs=-1)]: Done  17 tasks      | elapsed:    0.2s\n",
      "[Parallel(n_jobs=-1)]: Done  57 out of  80 | elapsed:    1.8s remaining:    0.7s\n",
      "[Parallel(n_jobs=-1)]: Done  80 out of  80 | elapsed:    2.2s finished\n"
     ]
    },
    {
     "name": "stdout",
     "output_type": "stream",
     "text": [
      "Precision for 8 fold CV = 0.87\n",
      "!!!!!!!! Best-Fit Parameters From Training Data !!!!!!!!!!!!!!\n",
      "{'n_estimators': 110, 'min_samples_split': 10, 'max_features': 'sqrt', 'max_depth': 45}\n",
      " \n",
      " \n",
      "Fitting 9 folds for each of 10 candidates, totalling 90 fits\n"
     ]
    },
    {
     "name": "stderr",
     "output_type": "stream",
     "text": [
      "[Parallel(n_jobs=-1)]: Using backend LokyBackend with 12 concurrent workers.\n",
      "[Parallel(n_jobs=-1)]: Done  17 tasks      | elapsed:    0.1s\n",
      "[Parallel(n_jobs=-1)]: Done  90 out of  90 | elapsed:    2.1s finished\n",
      "[Parallel(n_jobs=-1)]: Using backend LokyBackend with 12 concurrent workers.\n"
     ]
    },
    {
     "name": "stdout",
     "output_type": "stream",
     "text": [
      "Precision for 9 fold CV = 0.84\n",
      "!!!!!!!! Best-Fit Parameters From Training Data !!!!!!!!!!!!!!\n",
      "{'n_estimators': 20, 'min_samples_split': 10, 'max_features': 'auto', 'max_depth': 45}\n",
      " \n",
      " \n",
      "Fitting 10 folds for each of 10 candidates, totalling 100 fits\n"
     ]
    },
    {
     "name": "stderr",
     "output_type": "stream",
     "text": [
      "[Parallel(n_jobs=-1)]: Done  17 tasks      | elapsed:    0.1s\n",
      "[Parallel(n_jobs=-1)]: Done 100 out of 100 | elapsed:    2.4s finished\n"
     ]
    },
    {
     "name": "stdout",
     "output_type": "stream",
     "text": [
      "Precision for 10 fold CV = 0.87\n",
      "!!!!!!!! Best-Fit Parameters From Training Data !!!!!!!!!!!!!!\n",
      "{'n_estimators': 155, 'min_samples_split': 10, 'max_features': 'auto', 'max_depth': 45}\n",
      " \n",
      " \n",
      "\n",
      "Out of Loop\n"
     ]
    }
   ],
   "source": [
    "#from sklearn.pipeline import Pipeline\n",
    "\n",
    "#pipeline = Pipeline(pipe_steps)\n",
    "# I love You So Much \n",
    "from tqdm import tqdm_notebook as tqdm\n",
    "from sklearn.model_selection import RandomizedSearchCV\n",
    "import warnings\n",
    "warnings.filterwarnings(\"ignore\")\n",
    "rf=RandomForestClassifier(random_state=0)\n",
    "print(\"Start Fitting Training Data\")\n",
    "for cvx in tqdm(range(5,11)):\n",
    "    rf_random = RandomizedSearchCV(estimator = rf, param_distributions = random_grid, n_iter = 10, cv = cvx, verbose=2, random_state=42, n_jobs = -1, scoring='precision')\n",
    "   \n",
    "    rf_random.fit(x,y)\n",
    "    \n",
    "    print(\"Precision for %d fold CV = %3.2f\"%(cvx,rf_random.score(x,y)))\n",
    "    print (\"!!!!!!!! Best-Fit Parameters From Training Data !!!!!!!!!!!!!!\")\n",
    "    print (rf_random.best_params_)\n",
    "    print(\" \")\n",
    "    print(\" \")\n",
    "    \n",
    "print(\"Out of Loop\")"
   ]
  },
  {
   "cell_type": "markdown",
   "metadata": {},
   "source": [
    "# Conjugated  BASE MODEL"
   ]
  },
  {
   "cell_type": "code",
   "execution_count": 168,
   "metadata": {},
   "outputs": [],
   "source": [
    "SS = StandardScaler()\n",
    "df_scaled = pd.DataFrame(SS.fit_transform(x), columns = x.columns) # as scaling mandotory for KNN model "
   ]
  },
  {
   "cell_type": "code",
   "execution_count": 169,
   "metadata": {},
   "outputs": [],
   "source": [
    "x_train,x_test,y_train,y_test = train_test_split(x,y, test_size = 0.3, random_state = 1)\n",
    "x_train1,x_test1,y_train,y_test = train_test_split(df_scaled,y, test_size = 0.3, random_state = 1)"
   ]
  },
  {
   "cell_type": "code",
   "execution_count": 162,
   "metadata": {},
   "outputs": [],
   "source": [
    "l= []  #List to store the various model metrics \n"
   ]
  },
  {
   "cell_type": "code",
   "execution_count": 163,
   "metadata": {},
   "outputs": [],
   "source": [
    "from sklearn.linear_model import LogisticRegression \n",
    "from sklearn.metrics import accuracy_score\n",
    "from sklearn.tree import DecisionTreeClassifier, DecisionTreeRegressor \n",
    "from sklearn.ensemble import RandomForestClassifier, RandomForestRegressor, BaggingClassifier,AdaBoostClassifier,GradientBoostingClassifier\n",
    "from sklearn.linear_model import LinearRegression,LogisticRegression\n",
    "from sklearn.neighbors import KNeighborsClassifier\n",
    "from sklearn.naive_bayes import GaussianNB\n",
    "from sklearn import metrics\n",
    "from sklearn.preprocessing import StandardScaler\n",
    "from sklearn.feature_selection import RFE\n",
    "from collections import Counter"
   ]
  },
  {
   "cell_type": "code",
   "execution_count": 164,
   "metadata": {},
   "outputs": [],
   "source": [
    "def models_lr(x,y):\n",
    "    mod = {}\n",
    "    model = LogisticRegression().fit(x,y)\n",
    "    ypred = model.predict(x_test)\n",
    "    mod['Model'] = 'LogisticRegression'\n",
    "    mod['Train_Score'] = model.score(x_train,y_train)\n",
    "    mod['Test_accuracy'] = metrics.accuracy_score(y_test,ypred)\n",
    "    mod['f1score'] = metrics.f1_score(y_test,ypred)\n",
    "    mod['recall'] = metrics.recall_score(y_test, ypred)\n",
    "    mod['precision'] = metrics.precision_score(y_test, ypred)\n",
    "    model.predict_proba(x_test)\n",
    "    mod['roc_auc'] = metrics.roc_auc_score(y_test,ypred)\n",
    "    return mod\n",
    "l.append(models_lr(x_train,y_train))\n",
    "\n",
    "def models_dt(x,y):\n",
    "    mod = {}\n",
    "    model = DecisionTreeClassifier().fit(x,y)\n",
    "    ypred = model.predict(x_test)\n",
    "    mod['Model'] = 'Decision Tree'\n",
    "    mod['Train_Score'] = model.score(x_train,y_train)\n",
    "    mod['Test_accuracy'] = metrics.accuracy_score(y_test,ypred)\n",
    "    mod['f1score'] = metrics.f1_score(y_test,ypred)\n",
    "    mod['recall'] = metrics.recall_score(y_test, ypred)\n",
    "    mod['precision'] = metrics.precision_score(y_test, ypred)\n",
    "    model.predict_proba(x_test)\n",
    "    mod['roc_auc'] = metrics.roc_auc_score(y_test,ypred)\n",
    "    return mod\n",
    "l.append(models_dt(x_train,y_train))\n",
    "\n",
    "def models_rf(x,y):\n",
    "    mod = {}\n",
    "    model = RandomForestClassifier().fit(x,y)\n",
    "    ypred = model.predict(x_test)\n",
    "    mod['Model'] = 'Random Forest'\n",
    "    mod['Train_Score'] = model.score(x_train,y_train)\n",
    "    mod['Test_accuracy'] = metrics.accuracy_score(y_test,ypred)\n",
    "    mod['f1score'] = metrics.f1_score(y_test,ypred)\n",
    "    mod['recall'] = metrics.recall_score(y_test, ypred)\n",
    "    mod['precision'] = metrics.precision_score(y_test, ypred)\n",
    "    model.predict_proba(x_test)\n",
    "    mod['roc_auc'] = metrics.roc_auc_score(y_test,ypred)\n",
    "    return mod\n",
    "l.append(models_rf(x_train,y_train))\n",
    "\n",
    "def models_nb(x,y):\n",
    "    mod = {}\n",
    "    model = GaussianNB().fit(x,y)\n",
    "    ypred = model.predict(x_test)\n",
    "    mod['Model'] = 'GaussianNB'\n",
    "    mod['Train_Score'] = model.score(x_train,y_train)\n",
    "    mod['Test_accuracy'] = metrics.accuracy_score(y_test,ypred)\n",
    "    mod['f1score'] = metrics.f1_score(y_test,ypred)\n",
    "    mod['recall'] = metrics.recall_score(y_test, ypred)\n",
    "    mod['precision'] = metrics.precision_score(y_test, ypred)\n",
    "    model.predict_proba(x_test)\n",
    "    mod['roc_auc'] = metrics.roc_auc_score(y_test,ypred)\n",
    "    return mod\n",
    "l.append(models_nb(x_train,y_train))\n",
    "\n",
    "def models_knn(x,y):\n",
    "    mod = {}\n",
    "    model = KNeighborsClassifier().fit(x,y)\n",
    "    ypred = model.predict(x_test1)\n",
    "    mod['Model'] = 'KNN'\n",
    "    mod['Train_Score'] = model.score(x_train1,y_train)\n",
    "    mod['Test_accuracy'] = metrics.accuracy_score(y_test,ypred)\n",
    "    mod['f1score'] = metrics.f1_score(y_test,ypred)\n",
    "    mod['recall'] = metrics.recall_score(y_test, ypred)\n",
    "    mod['precision'] = metrics.precision_score(y_test, ypred)\n",
    "    model.predict_proba(x_test)\n",
    "    mod['roc_auc'] = metrics.roc_auc_score(y_test,ypred)\n",
    "    return mod\n",
    "l.append(models_knn(x_train1,y_train))"
   ]
  },
  {
   "cell_type": "code",
   "execution_count": 165,
   "metadata": {},
   "outputs": [
    {
     "data": {
      "text/html": [
       "<div>\n",
       "<style scoped>\n",
       "    .dataframe tbody tr th:only-of-type {\n",
       "        vertical-align: middle;\n",
       "    }\n",
       "\n",
       "    .dataframe tbody tr th {\n",
       "        vertical-align: top;\n",
       "    }\n",
       "\n",
       "    .dataframe thead th {\n",
       "        text-align: right;\n",
       "    }\n",
       "</style>\n",
       "<table border=\"1\" class=\"dataframe\">\n",
       "  <thead>\n",
       "    <tr style=\"text-align: right;\">\n",
       "      <th></th>\n",
       "      <th>Model</th>\n",
       "      <th>Train_Score</th>\n",
       "      <th>Test_accuracy</th>\n",
       "      <th>f1score</th>\n",
       "      <th>recall</th>\n",
       "      <th>precision</th>\n",
       "      <th>roc_auc</th>\n",
       "    </tr>\n",
       "  </thead>\n",
       "  <tbody>\n",
       "    <tr>\n",
       "      <th>0</th>\n",
       "      <td>LogisticRegression</td>\n",
       "      <td>0.975000</td>\n",
       "      <td>0.949612</td>\n",
       "      <td>0.648649</td>\n",
       "      <td>0.631579</td>\n",
       "      <td>0.666667</td>\n",
       "      <td>0.803237</td>\n",
       "    </tr>\n",
       "    <tr>\n",
       "      <th>1</th>\n",
       "      <td>Decision Tree</td>\n",
       "      <td>1.000000</td>\n",
       "      <td>0.926357</td>\n",
       "      <td>0.536585</td>\n",
       "      <td>0.578947</td>\n",
       "      <td>0.500000</td>\n",
       "      <td>0.766461</td>\n",
       "    </tr>\n",
       "    <tr>\n",
       "      <th>2</th>\n",
       "      <td>Random Forest</td>\n",
       "      <td>1.000000</td>\n",
       "      <td>0.949612</td>\n",
       "      <td>0.666667</td>\n",
       "      <td>0.684211</td>\n",
       "      <td>0.650000</td>\n",
       "      <td>0.827461</td>\n",
       "    </tr>\n",
       "    <tr>\n",
       "      <th>3</th>\n",
       "      <td>GaussianNB</td>\n",
       "      <td>0.236667</td>\n",
       "      <td>0.220930</td>\n",
       "      <td>0.151899</td>\n",
       "      <td>0.947368</td>\n",
       "      <td>0.082569</td>\n",
       "      <td>0.555274</td>\n",
       "    </tr>\n",
       "    <tr>\n",
       "      <th>4</th>\n",
       "      <td>KNN</td>\n",
       "      <td>0.953333</td>\n",
       "      <td>0.941860</td>\n",
       "      <td>0.444444</td>\n",
       "      <td>0.315789</td>\n",
       "      <td>0.750000</td>\n",
       "      <td>0.653711</td>\n",
       "    </tr>\n",
       "  </tbody>\n",
       "</table>\n",
       "</div>"
      ],
      "text/plain": [
       "                Model  Train_Score  Test_accuracy   f1score    recall  \\\n",
       "0  LogisticRegression     0.975000       0.949612  0.648649  0.631579   \n",
       "1       Decision Tree     1.000000       0.926357  0.536585  0.578947   \n",
       "2       Random Forest     1.000000       0.949612  0.666667  0.684211   \n",
       "3          GaussianNB     0.236667       0.220930  0.151899  0.947368   \n",
       "4                 KNN     0.953333       0.941860  0.444444  0.315789   \n",
       "\n",
       "   precision   roc_auc  \n",
       "0   0.666667  0.803237  \n",
       "1   0.500000  0.766461  \n",
       "2   0.650000  0.827461  \n",
       "3   0.082569  0.555274  \n",
       "4   0.750000  0.653711  "
      ]
     },
     "execution_count": 165,
     "metadata": {},
     "output_type": "execute_result"
    }
   ],
   "source": [
    "base_df = pd.DataFrame(l)\n",
    "base_df"
   ]
  },
  {
   "cell_type": "code",
   "execution_count": 173,
   "metadata": {},
   "outputs": [],
   "source": [
    "\n",
    "\n",
    "from sklearn.ensemble import AdaBoostClassifier\n",
    "from sklearn.tree import DecisionTreeClassifier\n",
    "from sklearn.metrics import confusion_matrix\n",
    "\n",
    "\n",
    "\n",
    "# Scale the data to be between -1 and 1\n",
    "scaler = StandardScaler()\n",
    "scaler.fit(xdc_train)\n",
    "x_train = scaler.transform(x_train)\n",
    "x_test = scaler.transform(x_test)\n"
   ]
  },
  {
   "cell_type": "code",
   "execution_count": 175,
   "metadata": {},
   "outputs": [
    {
     "name": "stdout",
     "output_type": "stream",
     "text": [
      "Accuracy: 95.35%\n",
      "Precision : 68.42%\n",
      "Recall: 68.42%\n",
      "F1 : 68.42%\n",
      "auc : 82.96%\n"
     ]
    }
   ],
   "source": [
    "# XG Boost\n",
    " \n",
    "from numpy import loadtxt\n",
    "from xgboost import XGBClassifier\n",
    "from sklearn.model_selection import train_test_split\n",
    "from sklearn.metrics import accuracy_score\n",
    "from sklearn.metrics import accuracy_score\n",
    "from sklearn.metrics import f1_score\n",
    "from sklearn.metrics import recall_score\n",
    "from sklearn.metrics import precision_score\n",
    " \n",
    "seed = 7\n",
    "test_size = 0.33\n",
    "\n",
    "model = XGBClassifier()\n",
    "model.fit(x_train, y_train)\n",
    "# make predictions for test data\n",
    "y_pred = model.predict(x_test)\n",
    "predictions = [round(value) for value in y_pred]\n",
    "# evaluate predictions\n",
    "accuracy = accuracy_score(y_test, predictions)\n",
    "\n",
    "f1 = f1_score(y_test, predictions)\n",
    "re = recall_score(y_test, predictions)\n",
    "pre = precision_score(y_test, predictions)\n",
    "auc =roc_auc_score(y_test, predictions)\n",
    "\n",
    "print(\"Accuracy: %.2f%%\" % (accuracy * 100.0))\n",
    "print(\"Precision : %.2f%%\" % (pre * 100.0))\n",
    "print(\"Recall: %.2f%%\" % (re * 100.0))\n",
    "print(\"F1 : %.2f%%\" % (f1 * 100.0))\n",
    "print(\"auc : %.2f%%\" % (auc * 100.0))"
   ]
  },
  {
   "cell_type": "code",
   "execution_count": 174,
   "metadata": {},
   "outputs": [
    {
     "name": "stdout",
     "output_type": "stream",
     "text": [
      "Accuracy: 94.96%\n",
      "Precision : 62.50%\n",
      "Recall: 78.95%\n",
      "F1 : 69.77%\n",
      "auc : 87.59%\n"
     ]
    }
   ],
   "source": [
    "classifier = AdaBoostClassifier(\n",
    "    DecisionTreeClassifier(max_depth=1),\n",
    "    n_estimators=200\n",
    ")\n",
    "classifier.fit(x_train, y_train)\n",
    "predictions = classifier.predict(x_test)\n",
    "\n",
    "\n",
    "from sklearn.metrics import accuracy_score\n",
    "from sklearn.metrics import f1_score\n",
    "from sklearn.metrics import recall_score\n",
    "from sklearn.metrics import precision_score\n",
    "\n",
    "\n",
    "accuracy = accuracy_score(y_test, predictions)\n",
    "f1 = f1_score(y_test, predictions)\n",
    "re = recall_score(y_test, predictions)\n",
    "pre = precision_score(y_test, predictions)\n",
    "auc =roc_auc_score(y_test, predictions)\n",
    "\n",
    "print(\"Accuracy: %.2f%%\" % (accuracy * 100.0))\n",
    "print(\"Precision : %.2f%%\" % (pre * 100.0))\n",
    "print(\"Recall: %.2f%%\" % (re * 100.0))\n",
    "print(\"F1 : %.2f%%\" % (f1 * 100.0))\n",
    "print(\"auc : %.2f%%\" % (auc * 100.0))"
   ]
  },
  {
   "cell_type": "code",
   "execution_count": 176,
   "metadata": {},
   "outputs": [
    {
     "data": {
      "text/plain": [
       "0.9457364341085271"
      ]
     },
     "execution_count": 176,
     "metadata": {},
     "output_type": "execute_result"
    }
   ],
   "source": [
    "# lOGISTICS REGRESSION ACCURACY\n",
    "\n",
    "from sklearn.linear_model import LogisticRegression \n",
    "logitmodeldf = LogisticRegression(solver='liblinear').fit(x_train,y_train)\n",
    "y_pred=logitmodeldf.predict(x_test)\n",
    "\n",
    "\n",
    "from sklearn.metrics import accuracy_score\n",
    "accuracy_score(y_test, y_pred)"
   ]
  },
  {
   "cell_type": "code",
   "execution_count": 177,
   "metadata": {},
   "outputs": [
    {
     "data": {
      "text/plain": [
       "0.6470588235294118"
      ]
     },
     "execution_count": 177,
     "metadata": {},
     "output_type": "execute_result"
    }
   ],
   "source": [
    "# lOGISTICS REGRESSION PRECISION \n",
    "\n",
    "\n",
    "from sklearn.linear_model import LogisticRegression \n",
    "logitmodeldf = LogisticRegression(solver='liblinear').fit(x_train,y_train)\n",
    "y_pred=logitmodeldf.predict(x_test)\n",
    "\n",
    "\n",
    "\n",
    "from sklearn.metrics import precision_score\n",
    "precision_score(y_test, y_pred)"
   ]
  },
  {
   "cell_type": "code",
   "execution_count": 178,
   "metadata": {},
   "outputs": [
    {
     "data": {
      "text/plain": [
       "0.5789473684210527"
      ]
     },
     "execution_count": 178,
     "metadata": {},
     "output_type": "execute_result"
    }
   ],
   "source": [
    "# lOGISTICS REGRESSION RECALLL\n",
    "\n",
    "\n",
    "from sklearn.linear_model import LogisticRegression \n",
    "logitmodeldf = LogisticRegression(solver='liblinear').fit(x_train,y_train)\n",
    "y_pred=logitmodeldf.predict(x_test)\n",
    "\n",
    "\n",
    "\n",
    "from sklearn.metrics import recall_score\n",
    "recall_score(y_test, y_pred)"
   ]
  },
  {
   "cell_type": "code",
   "execution_count": 180,
   "metadata": {},
   "outputs": [
    {
     "data": {
      "text/plain": [
       "0.7769213829552962"
      ]
     },
     "execution_count": 180,
     "metadata": {},
     "output_type": "execute_result"
    }
   ],
   "source": [
    "# lOGISTICS REGRESSION AUC_SCORE\n",
    "\n",
    "\n",
    "from sklearn.linear_model import LogisticRegression \n",
    "logitmodeldf = LogisticRegression(solver='liblinear').fit(x_train,y_train)\n",
    "y_pred=logitmodeldf.predict(x_test)\n",
    "\n",
    "\n",
    "from sklearn.metrics import roc_auc_score\n",
    "roc_auc_score(y_test, y_pred)"
   ]
  },
  {
   "cell_type": "code",
   "execution_count": 181,
   "metadata": {},
   "outputs": [
    {
     "name": "stdout",
     "output_type": "stream",
     "text": [
      "Start Fitting Training Data\n"
     ]
    },
    {
     "data": {
      "application/vnd.jupyter.widget-view+json": {
       "model_id": "1fc69cfd777f4264a0382f5c5dca1885",
       "version_major": 2,
       "version_minor": 0
      },
      "text/plain": [
       "HBox(children=(FloatProgress(value=0.0, max=6.0), HTML(value='')))"
      ]
     },
     "metadata": {},
     "output_type": "display_data"
    },
    {
     "name": "stdout",
     "output_type": "stream",
     "text": [
      "Score for 5 fold CV = 0.97\n",
      "!!!!!!!! Best-Fit Parameters From Training Data !!!!!!!!!!!!!!\n",
      "{'SupVM__C': 10, 'SupVM__gamma': 0.001}\n",
      " \n",
      " \n",
      "Score for 6 fold CV = 0.97\n",
      "!!!!!!!! Best-Fit Parameters From Training Data !!!!!!!!!!!!!!\n",
      "{'SupVM__C': 10, 'SupVM__gamma': 0.001}\n",
      " \n",
      " \n",
      "Score for 7 fold CV = 0.97\n",
      "!!!!!!!! Best-Fit Parameters From Training Data !!!!!!!!!!!!!!\n",
      "{'SupVM__C': 10, 'SupVM__gamma': 0.001}\n",
      " \n",
      " \n",
      "Score for 8 fold CV = 0.97\n",
      "!!!!!!!! Best-Fit Parameters From Training Data !!!!!!!!!!!!!!\n",
      "{'SupVM__C': 5, 'SupVM__gamma': 0.001}\n",
      " \n",
      " \n",
      "Score for 9 fold CV = 0.97\n",
      "!!!!!!!! Best-Fit Parameters From Training Data !!!!!!!!!!!!!!\n",
      "{'SupVM__C': 5, 'SupVM__gamma': 0.001}\n",
      " \n",
      " \n",
      "Score for 10 fold CV = 0.97\n",
      "!!!!!!!! Best-Fit Parameters From Training Data !!!!!!!!!!!!!!\n",
      "{'SupVM__C': 5, 'SupVM__gamma': 0.001}\n",
      " \n",
      " \n",
      "\n",
      "Out of Loop\n"
     ]
    }
   ],
   "source": [
    "from sklearn.svm import SVC\n",
    "\n",
    "from sklearn.model_selection import GridSearchCV\n",
    "\n",
    "from sklearn import preprocessing \n",
    "from sklearn.preprocessing import StandardScaler\n",
    "\n",
    "\n",
    "pipe_steps = [('scaler', StandardScaler()), ('SupVM', SVC(kernel='rbf'))]\n",
    "\n",
    "\n",
    "check_params= { \n",
    "    'SupVM__C': [0.001,0.005,0.01,0.09,0.1, 0.5,0.8,1,2,3,4,5, 10,30,40,41,42,43], \n",
    "    'SupVM__gamma' : [0.001, 0.005, 0.01, 0.05, 0.07, 0.1, 0.5, 1, 5, 10, 50]\n",
    "}\n",
    "\n",
    "\n",
    "\n",
    "\n",
    "from sklearn.pipeline import Pipeline\n",
    "\n",
    "pipeline = Pipeline(pipe_steps)\n",
    "# I love You So Much \n",
    "from tqdm import tqdm_notebook as tqdm\n",
    "from sklearn.model_selection import GridSearchCV\n",
    "import warnings\n",
    "warnings.filterwarnings(\"ignore\")\n",
    "\n",
    "print(\"Start Fitting Training Data\")\n",
    "for cvx in tqdm(range(5,11)):\n",
    "    newgrid=GridSearchCV(pipeline,param_grid=check_params,cv=cvx)\n",
    "   \n",
    "    newgrid.fit(x,y)\n",
    "    \n",
    "    print(\"Score for %d fold CV = %3.2f\"%(cvx,newgrid.score(x,y)))\n",
    "    print (\"!!!!!!!! Best-Fit Parameters From Training Data !!!!!!!!!!!!!!\")\n",
    "    print (newgrid.best_params_)\n",
    "    print(\" \")\n",
    "    print(\" \")\n",
    "    \n",
    "print(\"Out of Loop\")"
   ]
  },
  {
   "cell_type": "markdown",
   "metadata": {},
   "source": [
    "# FEATURE SELECTION _ RFECV"
   ]
  },
  {
   "cell_type": "code",
   "execution_count": 58,
   "metadata": {},
   "outputs": [
    {
     "name": "stdout",
     "output_type": "stream",
     "text": [
      "Index(['Schiller_0'], dtype='object')\n",
      "0.9128728414442701\n",
      "****************************************************************************************************\n",
      "Index(['Age', 'Schiller_0'], dtype='object')\n",
      "0.7631083202511773\n",
      "****************************************************************************************************\n",
      "Index(['Age', 'Number of sexual partners', 'Schiller_0'], dtype='object')\n",
      "0.7995290423861853\n",
      "****************************************************************************************************\n",
      "Index(['Age', 'Num of pregnancies', 'Hormonal Contraceptives (years)',\n",
      "       'Schiller_0'],\n",
      "      dtype='object')\n",
      "0.8318681318681318\n",
      "****************************************************************************************************\n",
      "Index(['Age', 'First sexual intercourse', 'Num of pregnancies',\n",
      "       'Hormonal Contraceptives (years)', 'Schiller_0'],\n",
      "      dtype='object')\n",
      "0.8662480376766091\n",
      "****************************************************************************************************\n",
      "Index(['Age', 'Number of sexual partners', 'Num of pregnancies',\n",
      "       'Smokes (packs/year)', 'Hormonal Contraceptives (years)', 'Schiller_0'],\n",
      "      dtype='object')\n",
      "0.7893249607535322\n",
      "****************************************************************************************************\n",
      "Index(['Age', 'Number of sexual partners', 'First sexual intercourse',\n",
      "       'Num of pregnancies', 'Smokes (packs/year)',\n",
      "       'Hormonal Contraceptives (years)', 'Schiller_0'],\n",
      "      dtype='object')\n",
      "0.7549450549450548\n",
      "****************************************************************************************************\n",
      "Index(['Age', 'Number of sexual partners', 'First sexual intercourse',\n",
      "       'Num of pregnancies', 'Smokes (packs/year)',\n",
      "       'Hormonal Contraceptives (years)', 'STDs:genital herpes', 'Schiller_0'],\n",
      "      dtype='object')\n",
      "0.8318681318681318\n",
      "****************************************************************************************************\n",
      "Index(['Age', 'Number of sexual partners', 'First sexual intercourse',\n",
      "       'Num of pregnancies', 'Smokes (years)',\n",
      "       'Hormonal Contraceptives (years)', 'STDs:genital herpes', 'Citology_0',\n",
      "       'Schiller_0'],\n",
      "      dtype='object')\n",
      "0.8318681318681318\n",
      "****************************************************************************************************\n",
      "Index(['Age', 'Number of sexual partners', 'First sexual intercourse',\n",
      "       'Num of pregnancies', 'Smokes (years)', 'Smokes (packs/year)',\n",
      "       'Hormonal Contraceptives (years)', 'STDs:genital herpes', 'Citology_1',\n",
      "       'Schiller_0'],\n",
      "      dtype='object')\n",
      "0.8339089481946625\n",
      "****************************************************************************************************\n",
      "Index(['Age', 'Number of sexual partners', 'First sexual intercourse',\n",
      "       'Num of pregnancies', 'Smokes (years)',\n",
      "       'Hormonal Contraceptives (years)', 'STDs:genital herpes', 'Dx:CIN_0',\n",
      "       'Hinselmann_1', 'Citology_1', 'Schiller_0'],\n",
      "      dtype='object')\n",
      "0.8339089481946625\n",
      "****************************************************************************************************\n",
      "Index(['Age', 'Number of sexual partners', 'First sexual intercourse',\n",
      "       'Num of pregnancies', 'Smokes (years)', 'Smokes (packs/year)',\n",
      "       'Hormonal Contraceptives (years)', 'STDs:genital herpes', 'Dx:CIN_1',\n",
      "       'Hinselmann_0', 'Citology_1', 'Schiller_0'],\n",
      "      dtype='object')\n",
      "0.7974882260596546\n",
      "****************************************************************************************************\n",
      "Index(['Age', 'Number of sexual partners', 'First sexual intercourse',\n",
      "       'Num of pregnancies', 'Smokes (packs/year)',\n",
      "       'Hormonal Contraceptives (years)', 'IUD (years)', 'STDs:genital herpes',\n",
      "       'Dx:CIN_0', 'Hinselmann_0', 'Hinselmann_1', 'Citology_1', 'Schiller_0'],\n",
      "      dtype='object')\n",
      "0.8318681318681318\n",
      "****************************************************************************************************\n",
      "Index(['Age', 'Number of sexual partners', 'First sexual intercourse',\n",
      "       'Num of pregnancies', 'Smokes (years)', 'Smokes (packs/year)',\n",
      "       'Hormonal Contraceptives (years)', 'STDs (number)',\n",
      "       'STDs:genital herpes', 'Dx:CIN_1', 'Dx_0', 'Dx_1', 'Citology_1',\n",
      "       'Schiller_0'],\n",
      "      dtype='object')\n",
      "0.8764521193092621\n",
      "****************************************************************************************************\n",
      "Index(['Age', 'Number of sexual partners', 'First sexual intercourse',\n",
      "       'Num of pregnancies', 'Smokes (years)', 'Smokes (packs/year)',\n",
      "       'Hormonal Contraceptives (years)', 'STDs:condylomatosis',\n",
      "       'STDs:genital herpes', 'Dx:Cancer_1', 'Dx:CIN_0', 'Dx:CIN_1', 'Dx_1',\n",
      "       'Citology_1', 'Schiller_0'],\n",
      "      dtype='object')\n",
      "0.8339089481946625\n",
      "****************************************************************************************************\n",
      "Index(['Age', 'Number of sexual partners', 'First sexual intercourse',\n",
      "       'Num of pregnancies', 'Smokes (packs/year)',\n",
      "       'Hormonal Contraceptives (years)', 'IUD (years)', 'STDs (number)',\n",
      "       'STDs:genital herpes', 'Dx:Cancer_0', 'Dx:Cancer_1', 'Dx:CIN_0', 'Dx_1',\n",
      "       'Hinselmann_0', 'Citology_1', 'Schiller_0'],\n",
      "      dtype='object')\n",
      "0.7934065934065934\n",
      "****************************************************************************************************\n",
      "Index(['Age', 'Number of sexual partners', 'First sexual intercourse',\n",
      "       'Num of pregnancies', 'Smokes (years)', 'Smokes (packs/year)',\n",
      "       'Hormonal Contraceptives (years)', 'STDs:genital herpes', 'STDs_1.0',\n",
      "       'Dx:Cancer_0', 'Dx:Cancer_1', 'Dx:CIN_0', 'Dx:CIN_1', 'Dx_1',\n",
      "       'Hinselmann_0', 'Citology_1', 'Schiller_0'],\n",
      "      dtype='object')\n",
      "0.8339089481946625\n",
      "****************************************************************************************************\n",
      "Index(['Age', 'Number of sexual partners', 'First sexual intercourse',\n",
      "       'Num of pregnancies', 'Smokes (years)', 'Smokes (packs/year)',\n",
      "       'Hormonal Contraceptives (years)', 'IUD (years)', 'STDs:condylomatosis',\n",
      "       'STDs:genital herpes', 'Dx:Cancer_1', 'Dx:CIN_0', 'Dx:CIN_1',\n",
      "       'Dx:HPV_1', 'Hinselmann_0', 'Hinselmann_1', 'Citology_1', 'Schiller_0'],\n",
      "      dtype='object')\n",
      "0.8318681318681318\n",
      "****************************************************************************************************\n",
      "Index(['Age', 'Number of sexual partners', 'First sexual intercourse',\n",
      "       'Num of pregnancies', 'Smokes (years)', 'Smokes (packs/year)',\n",
      "       'Hormonal Contraceptives (years)', 'IUD (years)', 'STDs (number)',\n",
      "       'STDs:genital herpes', 'Dx:Cancer_1', 'Dx:CIN_0', 'Dx:CIN_1',\n",
      "       'Dx:HPV_1', 'Hinselmann_0', 'Hinselmann_1', 'Citology_0', 'Citology_1',\n",
      "       'Schiller_0'],\n",
      "      dtype='object')\n",
      "0.8318681318681318\n",
      "****************************************************************************************************\n",
      "Index(['Age', 'Number of sexual partners', 'First sexual intercourse',\n",
      "       'Num of pregnancies', 'Smokes (years)', 'Smokes (packs/year)',\n",
      "       'Hormonal Contraceptives (years)', 'IUD (years)', 'STDs (number)',\n",
      "       'STDs:condylomatosis', 'STDs:genital herpes', 'Dx:CIN_0', 'Dx:CIN_1',\n",
      "       'Dx:HPV_0', 'Dx:HPV_1', 'Dx_0', 'Dx_1', 'Hinselmann_0', 'Citology_1',\n",
      "       'Schiller_0'],\n",
      "      dtype='object')\n",
      "0.8359497645211931\n",
      "****************************************************************************************************\n",
      "Index(['Age', 'Number of sexual partners', 'First sexual intercourse',\n",
      "       'Num of pregnancies', 'Smokes (years)', 'Smokes (packs/year)',\n",
      "       'Hormonal Contraceptives (years)', 'IUD (years)', 'STDs (number)',\n",
      "       'STDs:condylomatosis', 'STDs:genital herpes', 'STDs_0.0', 'STDs_1.0',\n",
      "       'Dx:Cancer_0', 'Dx:Cancer_1', 'Dx:CIN_0', 'Dx:CIN_1', 'Dx:HPV_0',\n",
      "       'Dx_0', 'Citology_1', 'Schiller_0'],\n",
      "      dtype='object')\n",
      "0.8318681318681318\n",
      "****************************************************************************************************\n",
      "Index(['Age', 'Number of sexual partners', 'First sexual intercourse',\n",
      "       'Num of pregnancies', 'Smokes (years)', 'Smokes (packs/year)',\n",
      "       'Hormonal Contraceptives (years)', 'IUD (years)', 'STDs (number)',\n",
      "       'STDs:condylomatosis', 'STDs:genital herpes', 'Dx:Cancer_0',\n",
      "       'Dx:Cancer_1', 'Dx:CIN_0', 'Dx:CIN_1', 'Dx:HPV_0', 'Dx:HPV_1', 'Dx_1',\n",
      "       'Hinselmann_0', 'Hinselmann_1', 'Citology_1', 'Schiller_0'],\n",
      "      dtype='object')\n",
      "0.7974882260596546\n",
      "****************************************************************************************************\n",
      "Index(['Age', 'Number of sexual partners', 'First sexual intercourse',\n",
      "       'Num of pregnancies', 'Smokes (years)', 'Smokes (packs/year)',\n",
      "       'Hormonal Contraceptives (years)', 'IUD (years)', 'STDs (number)',\n",
      "       'STDs:condylomatosis', 'STDs:genital herpes', 'STDs_1.0', 'Dx:Cancer_0',\n",
      "       'Dx:Cancer_1', 'Dx:CIN_1', 'Dx:HPV_0', 'Dx:HPV_1', 'Dx_0',\n",
      "       'Hinselmann_0', 'Hinselmann_1', 'Citology_0', 'Citology_1',\n",
      "       'Schiller_0'],\n",
      "      dtype='object')\n",
      "0.8359497645211931\n",
      "****************************************************************************************************\n"
     ]
    },
    {
     "name": "stdout",
     "output_type": "stream",
     "text": [
      "Index(['Age', 'Number of sexual partners', 'First sexual intercourse',\n",
      "       'Num of pregnancies', 'Smokes (years)', 'Smokes (packs/year)',\n",
      "       'Hormonal Contraceptives (years)', 'IUD (years)', 'STDs (number)',\n",
      "       'STDs:cervical condylomatosis', 'STDs:vaginal condylomatosis',\n",
      "       'STDs:genital herpes', 'Dx:Cancer_1', 'Dx:CIN_0', 'Dx:CIN_1',\n",
      "       'Dx:HPV_0', 'Dx:HPV_1', 'Dx_0', 'Dx_1', 'Hinselmann_0', 'Hinselmann_1',\n",
      "       'Citology_0', 'Citology_1', 'Schiller_0'],\n",
      "      dtype='object')\n",
      "0.8744113029827315\n",
      "****************************************************************************************************\n",
      "Index(['Age', 'Number of sexual partners', 'First sexual intercourse',\n",
      "       'Num of pregnancies', 'Smokes (years)', 'Smokes (packs/year)',\n",
      "       'Hormonal Contraceptives (years)', 'IUD (years)', 'STDs:condylomatosis',\n",
      "       'STDs:cervical condylomatosis', 'STDs:vaginal condylomatosis',\n",
      "       'STDs:genital herpes', 'STDs_1.0', 'Dx:Cancer_1', 'Dx:CIN_0',\n",
      "       'Dx:CIN_1', 'Dx:HPV_0', 'Dx:HPV_1', 'Dx_0', 'Dx_1', 'Hinselmann_0',\n",
      "       'Hinselmann_1', 'Citology_0', 'Citology_1', 'Schiller_0'],\n",
      "      dtype='object')\n",
      "0.9108320251177394\n",
      "****************************************************************************************************\n",
      "Index(['Age', 'Number of sexual partners', 'First sexual intercourse',\n",
      "       'Num of pregnancies', 'Smokes (years)', 'Smokes (packs/year)',\n",
      "       'Hormonal Contraceptives (years)', 'IUD (years)', 'STDs (number)',\n",
      "       'STDs:cervical condylomatosis', 'STDs:vaginal condylomatosis',\n",
      "       'STDs:vulvo-perineal condylomatosis', 'STDs:genital herpes',\n",
      "       'Dx:Cancer_0', 'Dx:Cancer_1', 'Dx:CIN_0', 'Dx:CIN_1', 'Dx:HPV_0',\n",
      "       'Dx:HPV_1', 'Dx_0', 'Dx_1', 'Hinselmann_0', 'Hinselmann_1',\n",
      "       'Citology_0', 'Citology_1', 'Schiller_0'],\n",
      "      dtype='object')\n",
      "0.8339089481946625\n",
      "****************************************************************************************************\n",
      "Index(['Age', 'Number of sexual partners', 'First sexual intercourse',\n",
      "       'Num of pregnancies', 'Smokes (years)', 'Smokes (packs/year)',\n",
      "       'Hormonal Contraceptives (years)', 'IUD (years)', 'STDs:condylomatosis',\n",
      "       'STDs:vaginal condylomatosis', 'STDs:vulvo-perineal condylomatosis',\n",
      "       'STDs:genital herpes', 'STDs_0.0', 'STDs_1.0', 'Dx:Cancer_0',\n",
      "       'Dx:Cancer_1', 'Dx:CIN_0', 'Dx:CIN_1', 'Dx:HPV_0', 'Dx:HPV_1', 'Dx_0',\n",
      "       'Dx_1', 'Hinselmann_0', 'Hinselmann_1', 'Citology_0', 'Citology_1',\n",
      "       'Schiller_0'],\n",
      "      dtype='object')\n",
      "0.8744113029827315\n",
      "****************************************************************************************************\n",
      "Index(['Age', 'Number of sexual partners', 'First sexual intercourse',\n",
      "       'Num of pregnancies', 'Smokes (years)', 'Smokes (packs/year)',\n",
      "       'Hormonal Contraceptives (years)', 'IUD (years)', 'STDs (number)',\n",
      "       'STDs:condylomatosis', 'STDs:cervical condylomatosis',\n",
      "       'STDs:vaginal condylomatosis', 'STDs:vulvo-perineal condylomatosis',\n",
      "       'STDs:genital herpes', 'STDs_0.0', 'STDs_1.0', 'Dx:Cancer_0',\n",
      "       'Dx:Cancer_1', 'Dx:CIN_0', 'Dx:CIN_1', 'Dx:HPV_0', 'Dx:HPV_1', 'Dx_0',\n",
      "       'Dx_1', 'Hinselmann_0', 'Hinselmann_1', 'Citology_1', 'Schiller_0'],\n",
      "      dtype='object')\n",
      "0.8318681318681318\n",
      "****************************************************************************************************\n",
      "Index(['Age', 'Number of sexual partners', 'First sexual intercourse',\n",
      "       'Num of pregnancies', 'Smokes (years)', 'Smokes (packs/year)',\n",
      "       'Hormonal Contraceptives (years)', 'IUD (years)', 'STDs (number)',\n",
      "       'STDs:condylomatosis', 'STDs:cervical condylomatosis',\n",
      "       'STDs:vaginal condylomatosis', 'STDs:vulvo-perineal condylomatosis',\n",
      "       'STDs:genital herpes', 'STDs_0.0', 'STDs_1.0', 'Dx:Cancer_0',\n",
      "       'Dx:Cancer_1', 'Dx:CIN_0', 'Dx:CIN_1', 'Dx:HPV_0', 'Dx:HPV_1', 'Dx_0',\n",
      "       'Dx_1', 'Hinselmann_0', 'Hinselmann_1', 'Citology_0', 'Citology_1',\n",
      "       'Schiller_0'],\n",
      "      dtype='object')\n",
      "0.7954474097331241\n",
      "****************************************************************************************************\n",
      "Index(['Age', 'Number of sexual partners', 'First sexual intercourse',\n",
      "       'Num of pregnancies', 'Smokes (years)', 'Smokes (packs/year)',\n",
      "       'Hormonal Contraceptives (years)', 'IUD (years)', 'STDs (number)',\n",
      "       'STDs:condylomatosis', 'STDs:cervical condylomatosis',\n",
      "       'STDs:vaginal condylomatosis', 'STDs:vulvo-perineal condylomatosis',\n",
      "       'STDs:syphilis', 'STDs:genital herpes', 'STDs_0.0', 'STDs_1.0',\n",
      "       'Dx:Cancer_0', 'Dx:Cancer_1', 'Dx:CIN_0', 'Dx:CIN_1', 'Dx:HPV_0',\n",
      "       'Dx:HPV_1', 'Dx_0', 'Dx_1', 'Hinselmann_0', 'Hinselmann_1',\n",
      "       'Citology_0', 'Citology_1', 'Schiller_0'],\n",
      "      dtype='object')\n",
      "0.8339089481946625\n",
      "****************************************************************************************************\n",
      "Index(['Age', 'Number of sexual partners', 'First sexual intercourse',\n",
      "       'Num of pregnancies', 'Smokes (years)', 'Smokes (packs/year)',\n",
      "       'Hormonal Contraceptives (years)', 'IUD (years)', 'STDs (number)',\n",
      "       'STDs:condylomatosis', 'STDs:cervical condylomatosis',\n",
      "       'STDs:vaginal condylomatosis', 'STDs:vulvo-perineal condylomatosis',\n",
      "       'STDs:syphilis', 'STDs:pelvic inflammatory disease',\n",
      "       'STDs:genital herpes', 'STDs_0.0', 'STDs_1.0', 'Dx:Cancer_0',\n",
      "       'Dx:Cancer_1', 'Dx:CIN_0', 'Dx:CIN_1', 'Dx:HPV_0', 'Dx:HPV_1', 'Dx_0',\n",
      "       'Dx_1', 'Hinselmann_0', 'Hinselmann_1', 'Citology_0', 'Citology_1',\n",
      "       'Schiller_0'],\n",
      "      dtype='object')\n",
      "0.8359497645211931\n",
      "****************************************************************************************************\n",
      "Index(['Age', 'Number of sexual partners', 'First sexual intercourse',\n",
      "       'Num of pregnancies', 'Smokes (years)', 'Smokes (packs/year)',\n",
      "       'Hormonal Contraceptives (years)', 'IUD (years)', 'STDs (number)',\n",
      "       'STDs:condylomatosis', 'STDs:cervical condylomatosis',\n",
      "       'STDs:vaginal condylomatosis', 'STDs:vulvo-perineal condylomatosis',\n",
      "       'STDs:syphilis', 'STDs:pelvic inflammatory disease',\n",
      "       'STDs:genital herpes', 'STDs_1', 'STDs_0.0', 'STDs_1.0', 'Dx:Cancer_0',\n",
      "       'Dx:Cancer_1', 'Dx:CIN_0', 'Dx:CIN_1', 'Dx:HPV_0', 'Dx:HPV_1', 'Dx_0',\n",
      "       'Dx_1', 'Hinselmann_0', 'Hinselmann_1', 'Citology_0', 'Citology_1',\n",
      "       'Schiller_0'],\n",
      "      dtype='object')\n",
      "0.7954474097331241\n",
      "****************************************************************************************************\n",
      "Index(['Age', 'Number of sexual partners', 'First sexual intercourse',\n",
      "       'Num of pregnancies', 'Smokes (years)', 'Smokes (packs/year)',\n",
      "       'Hormonal Contraceptives (years)', 'IUD (years)', 'STDs (number)',\n",
      "       'STDs:condylomatosis', 'STDs:cervical condylomatosis',\n",
      "       'STDs:vaginal condylomatosis', 'STDs:vulvo-perineal condylomatosis',\n",
      "       'STDs:syphilis', 'STDs:pelvic inflammatory disease',\n",
      "       'STDs:genital herpes', 'IUD_1.0', 'STDs_1', 'STDs_0.0', 'STDs_1.0',\n",
      "       'Dx:Cancer_0', 'Dx:Cancer_1', 'Dx:CIN_0', 'Dx:CIN_1', 'Dx:HPV_0',\n",
      "       'Dx:HPV_1', 'Dx_0', 'Dx_1', 'Hinselmann_0', 'Hinselmann_1',\n",
      "       'Citology_0', 'Citology_1', 'Schiller_0'],\n",
      "      dtype='object')\n",
      "0.7934065934065934\n",
      "****************************************************************************************************\n",
      "Index(['Age', 'Number of sexual partners', 'First sexual intercourse',\n",
      "       'Num of pregnancies', 'Smokes (years)', 'Smokes (packs/year)',\n",
      "       'Hormonal Contraceptives (years)', 'IUD (years)', 'STDs (number)',\n",
      "       'STDs:condylomatosis', 'STDs:cervical condylomatosis',\n",
      "       'STDs:vaginal condylomatosis', 'STDs:vulvo-perineal condylomatosis',\n",
      "       'STDs:syphilis', 'STDs:pelvic inflammatory disease',\n",
      "       'STDs:genital herpes', 'STDs:molluscum contagiosum', 'STDs_1',\n",
      "       'STDs_0.0', 'STDs_1.0', 'Dx:Cancer_0', 'Dx:Cancer_1', 'Dx:CIN_0',\n",
      "       'Dx:CIN_1', 'Dx:HPV_0', 'Dx:HPV_1', 'Dx_0', 'Dx_1', 'Hinselmann_0',\n",
      "       'Hinselmann_1', 'Citology_0', 'Citology_1', 'Schiller_0', 'Schiller_1'],\n",
      "      dtype='object')\n",
      "0.9128728414442701\n",
      "****************************************************************************************************\n",
      "Index(['Age', 'Number of sexual partners', 'First sexual intercourse',\n",
      "       'Num of pregnancies', 'Smokes (years)', 'Smokes (packs/year)',\n",
      "       'Hormonal Contraceptives (years)', 'IUD (years)', 'STDs (number)',\n",
      "       'STDs:condylomatosis', 'STDs:cervical condylomatosis',\n",
      "       'STDs:vaginal condylomatosis', 'STDs:vulvo-perineal condylomatosis',\n",
      "       'STDs:syphilis', 'STDs:pelvic inflammatory disease',\n",
      "       'STDs:genital herpes', 'STDs:molluscum contagiosum', 'IUD_0.0',\n",
      "       'IUD_1.0', 'STDs_1', 'STDs_0.0', 'STDs_1.0', 'Dx:Cancer_0',\n",
      "       'Dx:Cancer_1', 'Dx:CIN_0', 'Dx:CIN_1', 'Dx:HPV_0', 'Dx:HPV_1', 'Dx_0',\n",
      "       'Dx_1', 'Hinselmann_0', 'Hinselmann_1', 'Citology_0', 'Citology_1',\n",
      "       'Schiller_0'],\n",
      "      dtype='object')\n",
      "0.9128728414442701\n",
      "****************************************************************************************************\n",
      "Index(['Age', 'Number of sexual partners', 'First sexual intercourse',\n",
      "       'Num of pregnancies', 'Smokes (years)', 'Smokes (packs/year)',\n",
      "       'Hormonal Contraceptives (years)', 'IUD (years)', 'STDs (number)',\n",
      "       'STDs:condylomatosis', 'STDs:cervical condylomatosis',\n",
      "       'STDs:vaginal condylomatosis', 'STDs:vulvo-perineal condylomatosis',\n",
      "       'STDs:syphilis', 'STDs:pelvic inflammatory disease',\n",
      "       'STDs:genital herpes', 'STDs:molluscum contagiosum', 'STDs:AIDS',\n",
      "       'IUD_0.0', 'IUD_1.0', 'STDs_1', 'STDs_0.0', 'STDs_1.0', 'Dx:Cancer_0',\n",
      "       'Dx:Cancer_1', 'Dx:CIN_0', 'Dx:CIN_1', 'Dx:HPV_0', 'Dx:HPV_1', 'Dx_0',\n",
      "       'Dx_1', 'Hinselmann_0', 'Hinselmann_1', 'Citology_0', 'Citology_1',\n",
      "       'Schiller_0'],\n",
      "      dtype='object')\n",
      "0.7954474097331241\n",
      "****************************************************************************************************\n",
      "Index(['Age', 'Number of sexual partners', 'First sexual intercourse',\n",
      "       'Num of pregnancies', 'Smokes (years)', 'Smokes (packs/year)',\n",
      "       'Hormonal Contraceptives (years)', 'IUD (years)', 'STDs (number)',\n",
      "       'STDs:condylomatosis', 'STDs:cervical condylomatosis',\n",
      "       'STDs:vaginal condylomatosis', 'STDs:vulvo-perineal condylomatosis',\n",
      "       'STDs:syphilis', 'STDs:pelvic inflammatory disease',\n",
      "       'STDs:genital herpes', 'STDs:molluscum contagiosum', 'STDs:HIV',\n",
      "       'IUD_0.0', 'IUD_1.0', 'STDs_1', 'STDs_0.0', 'STDs_1.0', 'Dx:Cancer_0',\n",
      "       'Dx:Cancer_1', 'Dx:CIN_0', 'Dx:CIN_1', 'Dx:HPV_0', 'Dx:HPV_1', 'Dx_0',\n",
      "       'Dx_1', 'Hinselmann_0', 'Hinselmann_1', 'Citology_0', 'Citology_1',\n",
      "       'Schiller_0', 'Schiller_1'],\n"
     ]
    },
    {
     "name": "stdout",
     "output_type": "stream",
     "text": [
      "      dtype='object')\n",
      "0.8339089481946625\n",
      "****************************************************************************************************\n",
      "Index(['Age', 'Number of sexual partners', 'First sexual intercourse',\n",
      "       'Num of pregnancies', 'Smokes (years)', 'Smokes (packs/year)',\n",
      "       'Hormonal Contraceptives (years)', 'IUD (years)', 'STDs (number)',\n",
      "       'STDs:condylomatosis', 'STDs:cervical condylomatosis',\n",
      "       'STDs:vaginal condylomatosis', 'STDs:vulvo-perineal condylomatosis',\n",
      "       'STDs:syphilis', 'STDs:pelvic inflammatory disease',\n",
      "       'STDs:genital herpes', 'STDs:molluscum contagiosum', 'STDs:AIDS',\n",
      "       'STDs:HIV', 'IUD_0.0', 'IUD_1.0', 'STDs_1', 'STDs_0.0', 'STDs_1.0',\n",
      "       'Dx:Cancer_0', 'Dx:Cancer_1', 'Dx:CIN_0', 'Dx:CIN_1', 'Dx:HPV_0',\n",
      "       'Dx:HPV_1', 'Dx_0', 'Dx_1', 'Hinselmann_0', 'Hinselmann_1',\n",
      "       'Citology_0', 'Citology_1', 'Schiller_0', 'Schiller_1'],\n",
      "      dtype='object')\n",
      "0.8723704866562009\n",
      "****************************************************************************************************\n",
      "Index(['Age', 'Number of sexual partners', 'First sexual intercourse',\n",
      "       'Num of pregnancies', 'Smokes (years)', 'Smokes (packs/year)',\n",
      "       'Hormonal Contraceptives (years)', 'IUD (years)', 'STDs (number)',\n",
      "       'STDs:condylomatosis', 'STDs:cervical condylomatosis',\n",
      "       'STDs:vaginal condylomatosis', 'STDs:vulvo-perineal condylomatosis',\n",
      "       'STDs:syphilis', 'STDs:pelvic inflammatory disease',\n",
      "       'STDs:genital herpes', 'STDs:molluscum contagiosum', 'STDs:AIDS',\n",
      "       'STDs:HIV', 'Hormonal Contraceptives_1.0', 'IUD_0', 'IUD_0.0',\n",
      "       'IUD_1.0', 'STDs_1', 'STDs_0.0', 'STDs_1.0', 'Dx:Cancer_0',\n",
      "       'Dx:Cancer_1', 'Dx:CIN_0', 'Dx:CIN_1', 'Dx:HPV_0', 'Dx:HPV_1', 'Dx_0',\n",
      "       'Dx_1', 'Hinselmann_0', 'Hinselmann_1', 'Citology_0', 'Citology_1',\n",
      "       'Schiller_0'],\n",
      "      dtype='object')\n",
      "0.8723704866562009\n",
      "****************************************************************************************************\n",
      "Index(['Age', 'Number of sexual partners', 'First sexual intercourse',\n",
      "       'Num of pregnancies', 'Smokes (years)', 'Smokes (packs/year)',\n",
      "       'Hormonal Contraceptives (years)', 'IUD (years)', 'STDs (number)',\n",
      "       'STDs:condylomatosis', 'STDs:cervical condylomatosis',\n",
      "       'STDs:vaginal condylomatosis', 'STDs:vulvo-perineal condylomatosis',\n",
      "       'STDs:syphilis', 'STDs:pelvic inflammatory disease',\n",
      "       'STDs:genital herpes', 'STDs:molluscum contagiosum', 'STDs:AIDS',\n",
      "       'STDs:HIV', 'STDs:Hepatitis B', 'Hormonal Contraceptives_1.0', 'IUD_0',\n",
      "       'IUD_0.0', 'IUD_1.0', 'STDs_1', 'STDs_0.0', 'STDs_1.0', 'Dx:Cancer_0',\n",
      "       'Dx:Cancer_1', 'Dx:CIN_0', 'Dx:CIN_1', 'Dx:HPV_0', 'Dx:HPV_1', 'Dx_0',\n",
      "       'Dx_1', 'Hinselmann_0', 'Hinselmann_1', 'Citology_0', 'Citology_1',\n",
      "       'Schiller_0'],\n",
      "      dtype='object')\n",
      "0.8379905808477237\n",
      "****************************************************************************************************\n",
      "Index(['Age', 'Number of sexual partners', 'First sexual intercourse',\n",
      "       'Num of pregnancies', 'Smokes (years)', 'Smokes (packs/year)',\n",
      "       'Hormonal Contraceptives (years)', 'IUD (years)', 'STDs (number)',\n",
      "       'STDs:condylomatosis', 'STDs:cervical condylomatosis',\n",
      "       'STDs:vaginal condylomatosis', 'STDs:vulvo-perineal condylomatosis',\n",
      "       'STDs:syphilis', 'STDs:pelvic inflammatory disease',\n",
      "       'STDs:genital herpes', 'STDs:molluscum contagiosum', 'STDs:AIDS',\n",
      "       'STDs:HIV', 'STDs:Hepatitis B', 'Hormonal Contraceptives_0.0',\n",
      "       'Hormonal Contraceptives_1.0', 'IUD_0', 'IUD_0.0', 'IUD_1.0', 'STDs_1',\n",
      "       'STDs_0.0', 'STDs_1.0', 'Dx:Cancer_0', 'Dx:Cancer_1', 'Dx:CIN_0',\n",
      "       'Dx:CIN_1', 'Dx:HPV_0', 'Dx:HPV_1', 'Dx_0', 'Dx_1', 'Hinselmann_0',\n",
      "       'Hinselmann_1', 'Citology_0', 'Citology_1', 'Schiller_0'],\n",
      "      dtype='object')\n",
      "0.8339089481946625\n",
      "****************************************************************************************************\n",
      "Index(['Age', 'Number of sexual partners', 'First sexual intercourse',\n",
      "       'Num of pregnancies', 'Smokes (years)', 'Smokes (packs/year)',\n",
      "       'Hormonal Contraceptives (years)', 'IUD (years)', 'STDs (number)',\n",
      "       'STDs:condylomatosis', 'STDs:cervical condylomatosis',\n",
      "       'STDs:vaginal condylomatosis', 'STDs:vulvo-perineal condylomatosis',\n",
      "       'STDs:syphilis', 'STDs:pelvic inflammatory disease',\n",
      "       'STDs:genital herpes', 'STDs:molluscum contagiosum', 'STDs:AIDS',\n",
      "       'STDs:HIV', 'STDs:Hepatitis B', 'STDs:HPV',\n",
      "       'Hormonal Contraceptives_1.0', 'IUD_0', 'IUD_0.0', 'IUD_1.0', 'STDs_1',\n",
      "       'STDs_0.0', 'STDs_1.0', 'Dx:Cancer_0', 'Dx:Cancer_1', 'Dx:CIN_0',\n",
      "       'Dx:CIN_1', 'Dx:HPV_0', 'Dx:HPV_1', 'Dx_0', 'Dx_1', 'Hinselmann_0',\n",
      "       'Hinselmann_1', 'Citology_0', 'Citology_1', 'Schiller_0', 'Schiller_1'],\n",
      "      dtype='object')\n",
      "0.7995290423861853\n",
      "****************************************************************************************************\n",
      "Index(['Age', 'Number of sexual partners', 'First sexual intercourse',\n",
      "       'Num of pregnancies', 'Smokes (years)', 'Smokes (packs/year)',\n",
      "       'Hormonal Contraceptives (years)', 'IUD (years)', 'STDs (number)',\n",
      "       'STDs:condylomatosis', 'STDs:cervical condylomatosis',\n",
      "       'STDs:vaginal condylomatosis', 'STDs:vulvo-perineal condylomatosis',\n",
      "       'STDs:syphilis', 'STDs:pelvic inflammatory disease',\n",
      "       'STDs:genital herpes', 'STDs:molluscum contagiosum', 'STDs:AIDS',\n",
      "       'STDs:HIV', 'STDs:Hepatitis B', 'STDs: Number of diagnosis',\n",
      "       'Hormonal Contraceptives_0.0', 'Hormonal Contraceptives_1.0', 'IUD_0',\n",
      "       'IUD_0.0', 'IUD_1.0', 'STDs_1', 'STDs_0.0', 'STDs_1.0', 'Dx:Cancer_0',\n",
      "       'Dx:Cancer_1', 'Dx:CIN_0', 'Dx:CIN_1', 'Dx:HPV_0', 'Dx:HPV_1', 'Dx_0',\n",
      "       'Dx_1', 'Hinselmann_0', 'Hinselmann_1', 'Citology_0', 'Citology_1',\n",
      "       'Schiller_0', 'Schiller_1'],\n",
      "      dtype='object')\n",
      "0.8723704866562009\n",
      "****************************************************************************************************\n",
      "Index(['Age', 'Number of sexual partners', 'First sexual intercourse',\n",
      "       'Num of pregnancies', 'Smokes (years)', 'Smokes (packs/year)',\n",
      "       'Hormonal Contraceptives (years)', 'IUD (years)', 'STDs (number)',\n",
      "       'STDs:condylomatosis', 'STDs:cervical condylomatosis',\n",
      "       'STDs:vaginal condylomatosis', 'STDs:vulvo-perineal condylomatosis',\n",
      "       'STDs:syphilis', 'STDs:pelvic inflammatory disease',\n",
      "       'STDs:genital herpes', 'STDs:molluscum contagiosum', 'STDs:AIDS',\n",
      "       'STDs:HIV', 'STDs:Hepatitis B', 'STDs:HPV', 'STDs: Number of diagnosis',\n",
      "       'Hormonal Contraceptives_0.0', 'Hormonal Contraceptives_1.0', 'IUD_0',\n",
      "       'IUD_0.0', 'IUD_1.0', 'STDs_1', 'STDs_0.0', 'STDs_1.0', 'Dx:Cancer_0',\n",
      "       'Dx:Cancer_1', 'Dx:CIN_0', 'Dx:CIN_1', 'Dx:HPV_0', 'Dx:HPV_1', 'Dx_0',\n",
      "       'Dx_1', 'Hinselmann_0', 'Hinselmann_1', 'Citology_0', 'Citology_1',\n",
      "       'Schiller_0', 'Schiller_1'],\n",
      "      dtype='object')\n",
      "0.8359497645211931\n",
      "****************************************************************************************************\n",
      "Index(['Age', 'Number of sexual partners', 'First sexual intercourse',\n",
      "       'Num of pregnancies', 'Smokes (years)', 'Smokes (packs/year)',\n",
      "       'Hormonal Contraceptives (years)', 'IUD (years)', 'STDs (number)',\n",
      "       'STDs:condylomatosis', 'STDs:cervical condylomatosis',\n",
      "       'STDs:vaginal condylomatosis', 'STDs:vulvo-perineal condylomatosis',\n",
      "       'STDs:syphilis', 'STDs:pelvic inflammatory disease',\n",
      "       'STDs:genital herpes', 'STDs:molluscum contagiosum', 'STDs:AIDS',\n",
      "       'STDs:HIV', 'STDs:Hepatitis B', 'STDs:HPV', 'STDs: Number of diagnosis',\n",
      "       'Smokes_1.0', 'Hormonal Contraceptives_1',\n",
      "       'Hormonal Contraceptives_0.0', 'Hormonal Contraceptives_1.0', 'IUD_0',\n",
      "       'IUD_0.0', 'IUD_1.0', 'STDs_1', 'STDs_0.0', 'STDs_1.0', 'Dx:Cancer_0',\n",
      "       'Dx:Cancer_1', 'Dx:CIN_0', 'Dx:CIN_1', 'Dx:HPV_0', 'Dx:HPV_1', 'Dx_0',\n",
      "       'Dx_1', 'Hinselmann_0', 'Hinselmann_1', 'Citology_0', 'Citology_1',\n",
      "       'Schiller_0'],\n",
      "      dtype='object')\n",
      "0.9128728414442701\n",
      "****************************************************************************************************\n",
      "Index(['Age', 'Number of sexual partners', 'First sexual intercourse',\n",
      "       'Num of pregnancies', 'Smokes (years)', 'Smokes (packs/year)',\n",
      "       'Hormonal Contraceptives (years)', 'IUD (years)', 'STDs (number)',\n",
      "       'STDs:condylomatosis', 'STDs:cervical condylomatosis',\n",
      "       'STDs:vaginal condylomatosis', 'STDs:vulvo-perineal condylomatosis',\n",
      "       'STDs:syphilis', 'STDs:pelvic inflammatory disease',\n",
      "       'STDs:genital herpes', 'STDs:molluscum contagiosum', 'STDs:AIDS',\n",
      "       'STDs:HIV', 'STDs:Hepatitis B', 'STDs:HPV', 'STDs: Number of diagnosis',\n",
      "       'STDs: Time since first diagnosis', 'Hormonal Contraceptives_1',\n",
      "       'Hormonal Contraceptives_0.0', 'Hormonal Contraceptives_1.0', 'IUD_0',\n",
      "       'IUD_0.0', 'IUD_1.0', 'STDs_1', 'STDs_0.0', 'STDs_1.0', 'Dx:Cancer_0',\n",
      "       'Dx:Cancer_1', 'Dx:CIN_0', 'Dx:CIN_1', 'Dx:HPV_0', 'Dx:HPV_1', 'Dx_0',\n",
      "       'Dx_1', 'Hinselmann_0', 'Hinselmann_1', 'Citology_0', 'Citology_1',\n",
      "       'Schiller_0', 'Schiller_1'],\n",
      "      dtype='object')\n",
      "0.8744113029827315\n",
      "****************************************************************************************************\n",
      "Index(['Age', 'Number of sexual partners', 'First sexual intercourse',\n",
      "       'Num of pregnancies', 'Smokes (years)', 'Smokes (packs/year)',\n",
      "       'Hormonal Contraceptives (years)', 'IUD (years)', 'STDs (number)',\n",
      "       'STDs:condylomatosis', 'STDs:cervical condylomatosis',\n",
      "       'STDs:vaginal condylomatosis', 'STDs:vulvo-perineal condylomatosis',\n",
      "       'STDs:syphilis', 'STDs:pelvic inflammatory disease',\n",
      "       'STDs:genital herpes', 'STDs:molluscum contagiosum', 'STDs:AIDS',\n",
      "       'STDs:HIV', 'STDs:Hepatitis B', 'STDs:HPV', 'STDs: Number of diagnosis',\n",
      "       'STDs: Time since first diagnosis', 'Smokes_1.0',\n",
      "       'Hormonal Contraceptives_1', 'Hormonal Contraceptives_0.0',\n",
      "       'Hormonal Contraceptives_1.0', 'IUD_0', 'IUD_0.0', 'IUD_1.0', 'STDs_1',\n",
      "       'STDs_0.0', 'STDs_1.0', 'Dx:Cancer_0', 'Dx:Cancer_1', 'Dx:CIN_0',\n",
      "       'Dx:CIN_1', 'Dx:HPV_0', 'Dx:HPV_1', 'Dx_0', 'Dx_1', 'Hinselmann_0',\n",
      "       'Hinselmann_1', 'Citology_0', 'Citology_1', 'Schiller_0', 'Schiller_1'],\n"
     ]
    },
    {
     "name": "stdout",
     "output_type": "stream",
     "text": [
      "      dtype='object')\n",
      "0.8318681318681318\n",
      "****************************************************************************************************\n",
      "Index(['Age', 'Number of sexual partners', 'First sexual intercourse',\n",
      "       'Num of pregnancies', 'Smokes (years)', 'Smokes (packs/year)',\n",
      "       'Hormonal Contraceptives (years)', 'IUD (years)', 'STDs (number)',\n",
      "       'STDs:condylomatosis', 'STDs:cervical condylomatosis',\n",
      "       'STDs:vaginal condylomatosis', 'STDs:vulvo-perineal condylomatosis',\n",
      "       'STDs:syphilis', 'STDs:pelvic inflammatory disease',\n",
      "       'STDs:genital herpes', 'STDs:molluscum contagiosum', 'STDs:AIDS',\n",
      "       'STDs:HIV', 'STDs:Hepatitis B', 'STDs:HPV', 'STDs: Number of diagnosis',\n",
      "       'STDs: Time since first diagnosis', 'STDs: Time since last diagnosis',\n",
      "       'Smokes_1.0', 'Hormonal Contraceptives_1',\n",
      "       'Hormonal Contraceptives_0.0', 'Hormonal Contraceptives_1.0', 'IUD_0',\n",
      "       'IUD_0.0', 'IUD_1.0', 'STDs_1', 'STDs_0.0', 'STDs_1.0', 'Dx:Cancer_0',\n",
      "       'Dx:Cancer_1', 'Dx:CIN_0', 'Dx:CIN_1', 'Dx:HPV_0', 'Dx:HPV_1', 'Dx_0',\n",
      "       'Dx_1', 'Hinselmann_0', 'Hinselmann_1', 'Citology_0', 'Citology_1',\n",
      "       'Schiller_0', 'Schiller_1'],\n",
      "      dtype='object')\n",
      "0.8744113029827315\n",
      "****************************************************************************************************\n",
      "Index(['Age', 'Number of sexual partners', 'First sexual intercourse',\n",
      "       'Num of pregnancies', 'Smokes (years)', 'Smokes (packs/year)',\n",
      "       'Hormonal Contraceptives (years)', 'IUD (years)', 'STDs (number)',\n",
      "       'STDs:condylomatosis', 'STDs:cervical condylomatosis',\n",
      "       'STDs:vaginal condylomatosis', 'STDs:vulvo-perineal condylomatosis',\n",
      "       'STDs:syphilis', 'STDs:pelvic inflammatory disease',\n",
      "       'STDs:genital herpes', 'STDs:molluscum contagiosum', 'STDs:AIDS',\n",
      "       'STDs:HIV', 'STDs:Hepatitis B', 'STDs:HPV', 'STDs: Number of diagnosis',\n",
      "       'STDs: Time since first diagnosis', 'STDs: Time since last diagnosis',\n",
      "       'Smokes_0.0', 'Smokes_1.0', 'Hormonal Contraceptives_1',\n",
      "       'Hormonal Contraceptives_0.0', 'Hormonal Contraceptives_1.0', 'IUD_0',\n",
      "       'IUD_0.0', 'IUD_1.0', 'STDs_1', 'STDs_0.0', 'STDs_1.0', 'Dx:Cancer_0',\n",
      "       'Dx:Cancer_1', 'Dx:CIN_0', 'Dx:CIN_1', 'Dx:HPV_0', 'Dx:HPV_1', 'Dx_0',\n",
      "       'Dx_1', 'Hinselmann_0', 'Hinselmann_1', 'Citology_0', 'Citology_1',\n",
      "       'Schiller_0', 'Schiller_1'],\n",
      "      dtype='object')\n",
      "0.8744113029827315\n",
      "****************************************************************************************************\n",
      "Index(['Age', 'Number of sexual partners', 'First sexual intercourse',\n",
      "       'Num of pregnancies', 'Smokes (years)', 'Smokes (packs/year)',\n",
      "       'Hormonal Contraceptives (years)', 'IUD (years)', 'STDs (number)',\n",
      "       'STDs:condylomatosis', 'STDs:cervical condylomatosis',\n",
      "       'STDs:vaginal condylomatosis', 'STDs:vulvo-perineal condylomatosis',\n",
      "       'STDs:syphilis', 'STDs:pelvic inflammatory disease',\n",
      "       'STDs:genital herpes', 'STDs:molluscum contagiosum', 'STDs:AIDS',\n",
      "       'STDs:HIV', 'STDs:Hepatitis B', 'STDs:HPV', 'STDs: Number of diagnosis',\n",
      "       'STDs: Time since first diagnosis', 'STDs: Time since last diagnosis',\n",
      "       'Smokes_1', 'Smokes_0.0', 'Smokes_1.0', 'Hormonal Contraceptives_1',\n",
      "       'Hormonal Contraceptives_0.0', 'Hormonal Contraceptives_1.0', 'IUD_0',\n",
      "       'IUD_0.0', 'IUD_1.0', 'STDs_1', 'STDs_0.0', 'STDs_1.0', 'Dx:Cancer_0',\n",
      "       'Dx:Cancer_1', 'Dx:CIN_0', 'Dx:CIN_1', 'Dx:HPV_0', 'Dx:HPV_1', 'Dx_0',\n",
      "       'Dx_1', 'Hinselmann_0', 'Hinselmann_1', 'Citology_0', 'Citology_1',\n",
      "       'Schiller_0', 'Schiller_1'],\n",
      "      dtype='object')\n",
      "0.8359497645211931\n",
      "****************************************************************************************************\n"
     ]
    }
   ],
   "source": [
    "for i in range(1,df.shape[1]):\n",
    "   \n",
    "    model = RFE(DecisionTreeClassifier(),i).fit(x,y)\n",
    "    print(x.columns[model.support_])\n",
    "    x_train,x_test,y_train,y_test = train_test_split(model.transform(x),y,test_size=0.3,random_state=0)\n",
    "    dt = DecisionTreeClassifier()\n",
    "    dt.fit(x_train,y_train)\n",
    "    y_pred = dt.predict(x_test)\n",
    "    dt_recall = metrics.roc_auc_score(y_test,y_pred)\n",
    "    print(dt_recall)\n",
    "    print('*'*100)"
   ]
  },
  {
   "cell_type": "code",
   "execution_count": 59,
   "metadata": {},
   "outputs": [
    {
     "data": {
      "text/plain": [
       "21"
      ]
     },
     "execution_count": 59,
     "metadata": {},
     "output_type": "execute_result"
    }
   ],
   "source": [
    "rfe_dt = ['Age', 'No_of_sex_partner', 'First_sexual_intercourse',\n",
    "       'No_pregnancies', 'Smokes', 'Smokes_yrs', 'Smokes_packs_yr',\n",
    "       'Hormonal_Contraceptives', 'Hormonal_Contraceptives_years', 'IUD_years',\n",
    "       'STDs', 'STDs_number', 'STDs_genital_herpes',\n",
    "       'STDs_molluscum_contagiosum', 'STDs_AIDS', 'STDs_HIV', 'STDs_HPV',\n",
    "       'STDs_No_of_diagnosis', 'Dx_CIN', 'Schiller', 'Citology']  # Set of features with high recall score\n",
    "\n",
    "len(rfe_dt)"
   ]
  },
  {
   "cell_type": "markdown",
   "metadata": {},
   "source": [
    "# RANDOM FOREST CLASSIFIER in RFE_cv"
   ]
  },
  {
   "cell_type": "code",
   "execution_count": 60,
   "metadata": {},
   "outputs": [
    {
     "name": "stdout",
     "output_type": "stream",
     "text": [
      "Index(['Schiller_0'], dtype='object')\n",
      "0.9128728414442701\n",
      "****************************************************************************************************\n",
      "Index(['Schiller_0', 'Schiller_1'], dtype='object')\n",
      "0.9128728414442701\n",
      "****************************************************************************************************\n",
      "Index(['Age', 'Schiller_0', 'Schiller_1'], dtype='object')\n",
      "0.7631083202511773\n",
      "****************************************************************************************************\n",
      "Index(['Age', 'Hormonal Contraceptives (years)', 'Schiller_0', 'Schiller_1'], dtype='object')\n",
      "0.8359497645211931\n",
      "****************************************************************************************************\n",
      "Index(['Age', 'First sexual intercourse', 'Hormonal Contraceptives (years)',\n",
      "       'Schiller_0', 'Schiller_1'],\n",
      "      dtype='object')\n",
      "0.8744113029827315\n",
      "****************************************************************************************************\n",
      "Index(['Age', 'First sexual intercourse', 'Hormonal Contraceptives (years)',\n",
      "       'Hinselmann_0', 'Schiller_0', 'Schiller_1'],\n",
      "      dtype='object')\n",
      "0.8400313971742543\n",
      "****************************************************************************************************\n",
      "Index(['Age', 'First sexual intercourse', 'Num of pregnancies',\n",
      "       'Hormonal Contraceptives (years)', 'Hinselmann_0', 'Schiller_0',\n",
      "       'Schiller_1'],\n",
      "      dtype='object')\n",
      "0.8764521193092621\n",
      "****************************************************************************************************\n",
      "Index(['Age', 'Number of sexual partners', 'First sexual intercourse',\n",
      "       'Num of pregnancies', 'Hormonal Contraceptives (years)', 'Hinselmann_0',\n",
      "       'Schiller_0', 'Schiller_1'],\n",
      "      dtype='object')\n",
      "0.8764521193092621\n",
      "****************************************************************************************************\n",
      "Index(['Age', 'Number of sexual partners', 'First sexual intercourse',\n",
      "       'Num of pregnancies', 'Hormonal Contraceptives (years)', 'Hinselmann_0',\n",
      "       'Hinselmann_1', 'Schiller_0', 'Schiller_1'],\n",
      "      dtype='object')\n",
      "0.8744113029827315\n",
      "****************************************************************************************************\n",
      "Index(['Age', 'Number of sexual partners', 'First sexual intercourse',\n",
      "       'Num of pregnancies', 'Hormonal Contraceptives (years)', 'Hinselmann_0',\n",
      "       'Hinselmann_1', 'Citology_1', 'Schiller_0', 'Schiller_1'],\n",
      "      dtype='object')\n",
      "0.8744113029827315\n",
      "****************************************************************************************************\n",
      "Index(['Age', 'Number of sexual partners', 'First sexual intercourse',\n",
      "       'Num of pregnancies', 'Smokes (years)',\n",
      "       'Hormonal Contraceptives (years)', 'Hinselmann_0', 'Hinselmann_1',\n",
      "       'Citology_0', 'Schiller_0', 'Schiller_1'],\n",
      "      dtype='object')\n",
      "0.8764521193092621\n",
      "****************************************************************************************************\n",
      "Index(['Age', 'Number of sexual partners', 'First sexual intercourse',\n",
      "       'Num of pregnancies', 'Smokes (packs/year)',\n",
      "       'Hormonal Contraceptives (years)', 'Hinselmann_0', 'Hinselmann_1',\n",
      "       'Citology_0', 'Citology_1', 'Schiller_0', 'Schiller_1'],\n",
      "      dtype='object')\n",
      "0.8744113029827315\n",
      "****************************************************************************************************\n",
      "Index(['Age', 'Number of sexual partners', 'First sexual intercourse',\n",
      "       'Num of pregnancies', 'Smokes (packs/year)',\n",
      "       'Hormonal Contraceptives (years)', 'STDs: Time since last diagnosis',\n",
      "       'Hinselmann_0', 'Hinselmann_1', 'Citology_0', 'Citology_1',\n",
      "       'Schiller_0', 'Schiller_1'],\n",
      "      dtype='object')\n",
      "0.8764521193092621\n",
      "****************************************************************************************************\n",
      "Index(['Age', 'Number of sexual partners', 'First sexual intercourse',\n",
      "       'Num of pregnancies', 'Smokes (years)',\n",
      "       'Hormonal Contraceptives (years)', 'STDs (number)', 'Dx:CIN_0',\n",
      "       'Hinselmann_0', 'Hinselmann_1', 'Citology_0', 'Citology_1',\n",
      "       'Schiller_0', 'Schiller_1'],\n",
      "      dtype='object')\n",
      "0.8400313971742543\n",
      "****************************************************************************************************\n",
      "Index(['Age', 'Number of sexual partners', 'First sexual intercourse',\n",
      "       'Num of pregnancies', 'Smokes (years)', 'Smokes (packs/year)',\n",
      "       'Hormonal Contraceptives (years)', 'STDs: Time since last diagnosis',\n",
      "       'Dx_0', 'Hinselmann_0', 'Hinselmann_1', 'Citology_0', 'Citology_1',\n",
      "       'Schiller_0', 'Schiller_1'],\n",
      "      dtype='object')\n",
      "0.8379905808477237\n",
      "****************************************************************************************************\n",
      "Index(['Age', 'Number of sexual partners', 'First sexual intercourse',\n",
      "       'Num of pregnancies', 'Smokes (years)', 'Smokes (packs/year)',\n",
      "       'Hormonal Contraceptives (years)', 'IUD (years)',\n",
      "       'STDs: Time since first diagnosis', 'Dx_1', 'Hinselmann_0',\n",
      "       'Hinselmann_1', 'Citology_0', 'Citology_1', 'Schiller_0', 'Schiller_1'],\n",
      "      dtype='object')\n",
      "0.8379905808477237\n",
      "****************************************************************************************************\n",
      "Index(['Age', 'Number of sexual partners', 'First sexual intercourse',\n",
      "       'Num of pregnancies', 'Smokes (years)', 'Smokes (packs/year)',\n",
      "       'Hormonal Contraceptives (years)', 'IUD (years)', 'STDs (number)',\n",
      "       'STDs: Time since first diagnosis', 'Dx:CIN_1', 'Hinselmann_0',\n",
      "       'Hinselmann_1', 'Citology_0', 'Citology_1', 'Schiller_0', 'Schiller_1'],\n",
      "      dtype='object')\n",
      "0.8784929356357928\n",
      "****************************************************************************************************\n",
      "Index(['Age', 'Number of sexual partners', 'First sexual intercourse',\n",
      "       'Num of pregnancies', 'Smokes (years)', 'Smokes (packs/year)',\n",
      "       'Hormonal Contraceptives (years)', 'IUD (years)', 'STDs (number)',\n",
      "       'STDs:genital herpes', 'STDs: Time since first diagnosis', 'Dx_1',\n",
      "       'Hinselmann_0', 'Hinselmann_1', 'Citology_0', 'Citology_1',\n",
      "       'Schiller_0', 'Schiller_1'],\n",
      "      dtype='object')\n",
      "0.8805337519623234\n",
      "****************************************************************************************************\n",
      "Index(['Age', 'Number of sexual partners', 'First sexual intercourse',\n",
      "       'Num of pregnancies', 'Smokes (years)', 'Smokes (packs/year)',\n",
      "       'Hormonal Contraceptives (years)', 'IUD (years)', 'STDs (number)',\n",
      "       'STDs:genital herpes', 'STDs: Time since first diagnosis',\n",
      "       'Hormonal Contraceptives_1.0', 'Dx_1', 'Hinselmann_0', 'Hinselmann_1',\n",
      "       'Citology_0', 'Citology_1', 'Schiller_0', 'Schiller_1'],\n",
      "      dtype='object')\n",
      "0.8379905808477237\n",
      "****************************************************************************************************\n",
      "Index(['Age', 'Number of sexual partners', 'First sexual intercourse',\n",
      "       'Num of pregnancies', 'Smokes (years)', 'Smokes (packs/year)',\n",
      "       'Hormonal Contraceptives (years)', 'IUD (years)', 'STDs (number)',\n",
      "       'STDs:genital herpes', 'STDs: Time since first diagnosis',\n",
      "       'Hormonal Contraceptives_1.0', 'IUD_0.0', 'Dx_0', 'Hinselmann_0',\n",
      "       'Hinselmann_1', 'Citology_0', 'Citology_1', 'Schiller_0', 'Schiller_1'],\n",
      "      dtype='object')\n",
      "0.8400313971742543\n",
      "****************************************************************************************************\n",
      "Index(['Age', 'Number of sexual partners', 'First sexual intercourse',\n",
      "       'Num of pregnancies', 'Smokes (years)', 'Smokes (packs/year)',\n",
      "       'Hormonal Contraceptives (years)', 'IUD (years)', 'STDs (number)',\n",
      "       'STDs:genital herpes', 'STDs: Time since first diagnosis',\n",
      "       'STDs: Time since last diagnosis', 'Hormonal Contraceptives_1.0',\n",
      "       'IUD_0.0', 'Dx_0', 'Hinselmann_0', 'Hinselmann_1', 'Citology_0',\n",
      "       'Citology_1', 'Schiller_0', 'Schiller_1'],\n",
      "      dtype='object')\n",
      "0.8379905808477237\n",
      "****************************************************************************************************\n",
      "Index(['Age', 'Number of sexual partners', 'First sexual intercourse',\n",
      "       'Num of pregnancies', 'Smokes (years)', 'Smokes (packs/year)',\n",
      "       'Hormonal Contraceptives (years)', 'IUD (years)', 'STDs (number)',\n",
      "       'STDs:genital herpes', 'STDs: Time since first diagnosis',\n",
      "       'STDs: Time since last diagnosis', 'Hormonal Contraceptives_1.0',\n",
      "       'IUD_0.0', 'Dx:CIN_0', 'Dx_0', 'Hinselmann_0', 'Hinselmann_1',\n",
      "       'Citology_0', 'Citology_1', 'Schiller_0', 'Schiller_1'],\n",
      "      dtype='object')\n",
      "0.8379905808477237\n",
      "****************************************************************************************************\n"
     ]
    },
    {
     "name": "stdout",
     "output_type": "stream",
     "text": [
      "Index(['Age', 'Number of sexual partners', 'First sexual intercourse',\n",
      "       'Num of pregnancies', 'Smokes (years)', 'Smokes (packs/year)',\n",
      "       'Hormonal Contraceptives (years)', 'IUD (years)', 'STDs (number)',\n",
      "       'STDs:genital herpes', 'STDs: Time since first diagnosis',\n",
      "       'STDs: Time since last diagnosis', 'Hormonal Contraceptives_1.0',\n",
      "       'STDs_0.0', 'Dx:HPV_1', 'Dx_0', 'Dx_1', 'Hinselmann_0', 'Hinselmann_1',\n",
      "       'Citology_0', 'Citology_1', 'Schiller_0', 'Schiller_1'],\n",
      "      dtype='object')\n",
      "0.8400313971742543\n",
      "****************************************************************************************************\n",
      "Index(['Age', 'Number of sexual partners', 'First sexual intercourse',\n",
      "       'Num of pregnancies', 'Smokes (years)', 'Smokes (packs/year)',\n",
      "       'Hormonal Contraceptives (years)', 'IUD (years)', 'STDs (number)',\n",
      "       'STDs:genital herpes', 'STDs: Time since first diagnosis',\n",
      "       'STDs: Time since last diagnosis', 'Hormonal Contraceptives_0.0',\n",
      "       'Hormonal Contraceptives_1.0', 'IUD_0.0', 'Dx:CIN_1', 'Dx:HPV_0',\n",
      "       'Dx_0', 'Hinselmann_0', 'Hinselmann_1', 'Citology_0', 'Citology_1',\n",
      "       'Schiller_0', 'Schiller_1'],\n",
      "      dtype='object')\n",
      "0.8379905808477237\n",
      "****************************************************************************************************\n",
      "Index(['Age', 'Number of sexual partners', 'First sexual intercourse',\n",
      "       'Num of pregnancies', 'Smokes (years)', 'Smokes (packs/year)',\n",
      "       'Hormonal Contraceptives (years)', 'IUD (years)', 'STDs (number)',\n",
      "       'STDs:genital herpes', 'STDs: Time since first diagnosis',\n",
      "       'STDs: Time since last diagnosis', 'Hormonal Contraceptives_0.0',\n",
      "       'Hormonal Contraceptives_1.0', 'IUD_0.0', 'STDs_0.0', 'Dx:Cancer_0',\n",
      "       'Dx:CIN_0', 'Dx_1', 'Hinselmann_0', 'Hinselmann_1', 'Citology_0',\n",
      "       'Citology_1', 'Schiller_0', 'Schiller_1'],\n",
      "      dtype='object')\n",
      "0.8400313971742543\n",
      "****************************************************************************************************\n",
      "Index(['Age', 'Number of sexual partners', 'First sexual intercourse',\n",
      "       'Num of pregnancies', 'Smokes (years)', 'Smokes (packs/year)',\n",
      "       'Hormonal Contraceptives (years)', 'IUD (years)', 'STDs (number)',\n",
      "       'STDs:genital herpes', 'STDs: Time since first diagnosis',\n",
      "       'STDs: Time since last diagnosis', 'Smokes_0.0',\n",
      "       'Hormonal Contraceptives_0.0', 'Hormonal Contraceptives_1.0', 'IUD_0.0',\n",
      "       'IUD_1.0', 'Dx:Cancer_0', 'Dx:CIN_0', 'Dx:CIN_1', 'Hinselmann_0',\n",
      "       'Hinselmann_1', 'Citology_0', 'Citology_1', 'Schiller_0', 'Schiller_1'],\n",
      "      dtype='object')\n",
      "0.8379905808477237\n",
      "****************************************************************************************************\n",
      "Index(['Age', 'Number of sexual partners', 'First sexual intercourse',\n",
      "       'Num of pregnancies', 'Smokes (years)', 'Smokes (packs/year)',\n",
      "       'Hormonal Contraceptives (years)', 'IUD (years)', 'STDs (number)',\n",
      "       'STDs:genital herpes', 'STDs: Number of diagnosis',\n",
      "       'STDs: Time since first diagnosis', 'Smokes_0.0',\n",
      "       'Hormonal Contraceptives_0.0', 'Hormonal Contraceptives_1.0', 'IUD_0.0',\n",
      "       'STDs_0.0', 'Dx:CIN_0', 'Dx:CIN_1', 'Dx:HPV_1', 'Dx_0', 'Hinselmann_0',\n",
      "       'Hinselmann_1', 'Citology_0', 'Citology_1', 'Schiller_0', 'Schiller_1'],\n",
      "      dtype='object')\n",
      "0.8400313971742543\n",
      "****************************************************************************************************\n",
      "Index(['Age', 'Number of sexual partners', 'First sexual intercourse',\n",
      "       'Num of pregnancies', 'Smokes (years)', 'Smokes (packs/year)',\n",
      "       'Hormonal Contraceptives (years)', 'IUD (years)', 'STDs (number)',\n",
      "       'STDs:genital herpes', 'STDs: Time since first diagnosis',\n",
      "       'STDs: Time since last diagnosis', 'Smokes_0.0',\n",
      "       'Hormonal Contraceptives_0.0', 'Hormonal Contraceptives_1.0', 'IUD_0.0',\n",
      "       'IUD_1.0', 'STDs_0.0', 'Dx:Cancer_0', 'Dx:HPV_1', 'Dx_0', 'Dx_1',\n",
      "       'Hinselmann_0', 'Hinselmann_1', 'Citology_0', 'Citology_1',\n",
      "       'Schiller_0', 'Schiller_1'],\n",
      "      dtype='object')\n",
      "0.8379905808477237\n",
      "****************************************************************************************************\n",
      "Index(['Age', 'Number of sexual partners', 'First sexual intercourse',\n",
      "       'Num of pregnancies', 'Smokes (years)', 'Smokes (packs/year)',\n",
      "       'Hormonal Contraceptives (years)', 'IUD (years)', 'STDs (number)',\n",
      "       'STDs:genital herpes', 'STDs: Number of diagnosis',\n",
      "       'STDs: Time since first diagnosis', 'STDs: Time since last diagnosis',\n",
      "       'Smokes_0.0', 'Hormonal Contraceptives_0.0',\n",
      "       'Hormonal Contraceptives_1.0', 'IUD_0.0', 'IUD_1.0', 'STDs_0.0',\n",
      "       'Dx:CIN_0', 'Dx:HPV_0', 'Dx_0', 'Dx_1', 'Hinselmann_0', 'Hinselmann_1',\n",
      "       'Citology_0', 'Citology_1', 'Schiller_0', 'Schiller_1'],\n",
      "      dtype='object')\n",
      "0.7995290423861853\n",
      "****************************************************************************************************\n",
      "Index(['Age', 'Number of sexual partners', 'First sexual intercourse',\n",
      "       'Num of pregnancies', 'Smokes (years)', 'Smokes (packs/year)',\n",
      "       'Hormonal Contraceptives (years)', 'IUD (years)', 'STDs (number)',\n",
      "       'STDs:genital herpes', 'STDs: Time since first diagnosis',\n",
      "       'STDs: Time since last diagnosis', 'Smokes_0.0', 'Smokes_1.0',\n",
      "       'Hormonal Contraceptives_0.0', 'Hormonal Contraceptives_1.0', 'IUD_0.0',\n",
      "       'IUD_1.0', 'STDs_0.0', 'Dx:Cancer_0', 'Dx:Cancer_1', 'Dx:CIN_1', 'Dx_0',\n",
      "       'Dx_1', 'Hinselmann_0', 'Hinselmann_1', 'Citology_0', 'Citology_1',\n",
      "       'Schiller_0', 'Schiller_1'],\n",
      "      dtype='object')\n",
      "0.7995290423861853\n",
      "****************************************************************************************************\n",
      "Index(['Age', 'Number of sexual partners', 'First sexual intercourse',\n",
      "       'Num of pregnancies', 'Smokes (years)', 'Smokes (packs/year)',\n",
      "       'Hormonal Contraceptives (years)', 'IUD (years)', 'STDs (number)',\n",
      "       'STDs:genital herpes', 'STDs: Number of diagnosis',\n",
      "       'STDs: Time since first diagnosis', 'STDs: Time since last diagnosis',\n",
      "       'Smokes_0.0', 'Smokes_1.0', 'Hormonal Contraceptives_0.0',\n",
      "       'Hormonal Contraceptives_1.0', 'IUD_0.0', 'IUD_1.0', 'STDs_0.0',\n",
      "       'STDs_1.0', 'Dx:Cancer_0', 'Dx:CIN_1', 'Dx_0', 'Dx_1', 'Hinselmann_0',\n",
      "       'Hinselmann_1', 'Citology_0', 'Citology_1', 'Schiller_0', 'Schiller_1'],\n",
      "      dtype='object')\n",
      "0.8400313971742543\n",
      "****************************************************************************************************\n",
      "Index(['Age', 'Number of sexual partners', 'First sexual intercourse',\n",
      "       'Num of pregnancies', 'Smokes (years)', 'Smokes (packs/year)',\n",
      "       'Hormonal Contraceptives (years)', 'IUD (years)', 'STDs (number)',\n",
      "       'STDs:genital herpes', 'STDs:HIV', 'STDs: Time since first diagnosis',\n",
      "       'STDs: Time since last diagnosis', 'Smokes_0.0', 'Smokes_1.0',\n",
      "       'Hormonal Contraceptives_0.0', 'Hormonal Contraceptives_1.0', 'IUD_0.0',\n",
      "       'IUD_1.0', 'STDs_0.0', 'Dx:Cancer_1', 'Dx:CIN_0', 'Dx:CIN_1',\n",
      "       'Dx:HPV_0', 'Dx:HPV_1', 'Dx_1', 'Hinselmann_0', 'Hinselmann_1',\n",
      "       'Citology_0', 'Citology_1', 'Schiller_0', 'Schiller_1'],\n",
      "      dtype='object')\n",
      "0.8400313971742543\n",
      "****************************************************************************************************\n",
      "Index(['Age', 'Number of sexual partners', 'First sexual intercourse',\n",
      "       'Num of pregnancies', 'Smokes (years)', 'Smokes (packs/year)',\n",
      "       'Hormonal Contraceptives (years)', 'IUD (years)', 'STDs (number)',\n",
      "       'STDs:vulvo-perineal condylomatosis', 'STDs:genital herpes',\n",
      "       'STDs: Number of diagnosis', 'STDs: Time since first diagnosis',\n",
      "       'STDs: Time since last diagnosis', 'Smokes_0.0', 'Smokes_1.0',\n",
      "       'Hormonal Contraceptives_0.0', 'Hormonal Contraceptives_1.0', 'IUD_0.0',\n",
      "       'IUD_1.0', 'STDs_0.0', 'Dx:Cancer_0', 'Dx:CIN_0', 'Dx:CIN_1',\n",
      "       'Dx:HPV_1', 'Dx_0', 'Dx_1', 'Hinselmann_0', 'Hinselmann_1',\n",
      "       'Citology_0', 'Citology_1', 'Schiller_0', 'Schiller_1'],\n",
      "      dtype='object')\n",
      "0.8379905808477237\n",
      "****************************************************************************************************\n",
      "Index(['Age', 'Number of sexual partners', 'First sexual intercourse',\n",
      "       'Num of pregnancies', 'Smokes (years)', 'Smokes (packs/year)',\n",
      "       'Hormonal Contraceptives (years)', 'IUD (years)', 'STDs (number)',\n",
      "       'STDs:genital herpes', 'STDs: Number of diagnosis',\n",
      "       'STDs: Time since first diagnosis', 'STDs: Time since last diagnosis',\n",
      "       'Smokes_0.0', 'Smokes_1.0', 'Hormonal Contraceptives_0.0',\n",
      "       'Hormonal Contraceptives_1.0', 'IUD_0', 'IUD_0.0', 'IUD_1.0',\n",
      "       'STDs_0.0', 'STDs_1.0', 'Dx:Cancer_0', 'Dx:CIN_0', 'Dx:CIN_1',\n",
      "       'Dx:HPV_1', 'Dx_0', 'Dx_1', 'Hinselmann_0', 'Hinselmann_1',\n",
      "       'Citology_0', 'Citology_1', 'Schiller_0', 'Schiller_1'],\n",
      "      dtype='object')\n",
      "0.8400313971742543\n",
      "****************************************************************************************************\n"
     ]
    },
    {
     "name": "stdout",
     "output_type": "stream",
     "text": [
      "Index(['Age', 'Number of sexual partners', 'First sexual intercourse',\n",
      "       'Num of pregnancies', 'Smokes (years)', 'Smokes (packs/year)',\n",
      "       'Hormonal Contraceptives (years)', 'IUD (years)', 'STDs (number)',\n",
      "       'STDs:condylomatosis', 'STDs:syphilis', 'STDs:genital herpes',\n",
      "       'STDs: Number of diagnosis', 'STDs: Time since first diagnosis',\n",
      "       'STDs: Time since last diagnosis', 'Smokes_0.0', 'Smokes_1.0',\n",
      "       'Hormonal Contraceptives_0.0', 'Hormonal Contraceptives_1.0', 'IUD_0.0',\n",
      "       'IUD_1.0', 'STDs_0.0', 'STDs_1.0', 'Dx:Cancer_1', 'Dx:CIN_0',\n",
      "       'Dx:CIN_1', 'Dx:HPV_0', 'Dx:HPV_1', 'Dx_1', 'Hinselmann_0',\n",
      "       'Hinselmann_1', 'Citology_0', 'Citology_1', 'Schiller_0', 'Schiller_1'],\n",
      "      dtype='object')\n",
      "0.8379905808477237\n",
      "****************************************************************************************************\n",
      "Index(['Age', 'Number of sexual partners', 'First sexual intercourse',\n",
      "       'Num of pregnancies', 'Smokes (years)', 'Smokes (packs/year)',\n",
      "       'Hormonal Contraceptives (years)', 'IUD (years)', 'STDs (number)',\n",
      "       'STDs:vulvo-perineal condylomatosis', 'STDs:genital herpes',\n",
      "       'STDs: Number of diagnosis', 'STDs: Time since first diagnosis',\n",
      "       'STDs: Time since last diagnosis', 'Smokes_0.0', 'Smokes_1.0',\n",
      "       'Hormonal Contraceptives_0.0', 'Hormonal Contraceptives_1.0', 'IUD_0',\n",
      "       'IUD_0.0', 'IUD_1.0', 'STDs_0.0', 'STDs_1.0', 'Dx:Cancer_0',\n",
      "       'Dx:Cancer_1', 'Dx:CIN_0', 'Dx:CIN_1', 'Dx:HPV_1', 'Dx_0', 'Dx_1',\n",
      "       'Hinselmann_0', 'Hinselmann_1', 'Citology_0', 'Citology_1',\n",
      "       'Schiller_0', 'Schiller_1'],\n",
      "      dtype='object')\n",
      "0.8784929356357928\n",
      "****************************************************************************************************\n",
      "Index(['Age', 'Number of sexual partners', 'First sexual intercourse',\n",
      "       'Num of pregnancies', 'Smokes (years)', 'Smokes (packs/year)',\n",
      "       'Hormonal Contraceptives (years)', 'IUD (years)', 'STDs (number)',\n",
      "       'STDs:condylomatosis', 'STDs:genital herpes',\n",
      "       'STDs: Number of diagnosis', 'STDs: Time since first diagnosis',\n",
      "       'STDs: Time since last diagnosis', 'Smokes_0.0', 'Smokes_1.0',\n",
      "       'Hormonal Contraceptives_0.0', 'Hormonal Contraceptives_1.0', 'IUD_0.0',\n",
      "       'IUD_1.0', 'STDs_1', 'STDs_0.0', 'STDs_1.0', 'Dx:Cancer_0',\n",
      "       'Dx:Cancer_1', 'Dx:CIN_0', 'Dx:CIN_1', 'Dx:HPV_0', 'Dx:HPV_1', 'Dx_0',\n",
      "       'Dx_1', 'Hinselmann_0', 'Hinselmann_1', 'Citology_0', 'Citology_1',\n",
      "       'Schiller_0', 'Schiller_1'],\n",
      "      dtype='object')\n",
      "0.8400313971742543\n",
      "****************************************************************************************************\n",
      "Index(['Age', 'Number of sexual partners', 'First sexual intercourse',\n",
      "       'Num of pregnancies', 'Smokes (years)', 'Smokes (packs/year)',\n",
      "       'Hormonal Contraceptives (years)', 'IUD (years)', 'STDs (number)',\n",
      "       'STDs:condylomatosis', 'STDs:syphilis', 'STDs:genital herpes',\n",
      "       'STDs:HIV', 'STDs: Number of diagnosis',\n",
      "       'STDs: Time since first diagnosis', 'STDs: Time since last diagnosis',\n",
      "       'Smokes_0.0', 'Smokes_1.0', 'Hormonal Contraceptives_0.0',\n",
      "       'Hormonal Contraceptives_1.0', 'IUD_0.0', 'IUD_1.0', 'STDs_1',\n",
      "       'STDs_0.0', 'STDs_1.0', 'Dx:Cancer_0', 'Dx:Cancer_1', 'Dx:CIN_0',\n",
      "       'Dx:CIN_1', 'Dx:HPV_0', 'Dx_0', 'Dx_1', 'Hinselmann_0', 'Hinselmann_1',\n",
      "       'Citology_0', 'Citology_1', 'Schiller_0', 'Schiller_1'],\n",
      "      dtype='object')\n",
      "0.8764521193092621\n",
      "****************************************************************************************************\n",
      "Index(['Age', 'Number of sexual partners', 'First sexual intercourse',\n",
      "       'Num of pregnancies', 'Smokes (years)', 'Smokes (packs/year)',\n",
      "       'Hormonal Contraceptives (years)', 'IUD (years)', 'STDs (number)',\n",
      "       'STDs:condylomatosis', 'STDs:syphilis', 'STDs:genital herpes',\n",
      "       'STDs:HIV', 'STDs: Number of diagnosis',\n",
      "       'STDs: Time since first diagnosis', 'STDs: Time since last diagnosis',\n",
      "       'Smokes_0.0', 'Smokes_1.0', 'Hormonal Contraceptives_0.0',\n",
      "       'Hormonal Contraceptives_1.0', 'IUD_0', 'IUD_0.0', 'IUD_1.0', 'STDs_1',\n",
      "       'STDs_0.0', 'Dx:Cancer_0', 'Dx:Cancer_1', 'Dx:CIN_0', 'Dx:CIN_1',\n",
      "       'Dx:HPV_0', 'Dx:HPV_1', 'Dx_0', 'Dx_1', 'Hinselmann_0', 'Hinselmann_1',\n",
      "       'Citology_0', 'Citology_1', 'Schiller_0', 'Schiller_1'],\n",
      "      dtype='object')\n",
      "0.8400313971742543\n",
      "****************************************************************************************************\n",
      "Index(['Age', 'Number of sexual partners', 'First sexual intercourse',\n",
      "       'Num of pregnancies', 'Smokes (years)', 'Smokes (packs/year)',\n",
      "       'Hormonal Contraceptives (years)', 'IUD (years)', 'STDs (number)',\n",
      "       'STDs:condylomatosis', 'STDs:vulvo-perineal condylomatosis',\n",
      "       'STDs:syphilis', 'STDs:genital herpes', 'STDs:HIV',\n",
      "       'STDs: Number of diagnosis', 'STDs: Time since first diagnosis',\n",
      "       'STDs: Time since last diagnosis', 'Smokes_0.0', 'Smokes_1.0',\n",
      "       'Hormonal Contraceptives_0.0', 'Hormonal Contraceptives_1.0', 'IUD_0',\n",
      "       'IUD_0.0', 'IUD_1.0', 'STDs_0.0', 'STDs_1.0', 'Dx:Cancer_0',\n",
      "       'Dx:Cancer_1', 'Dx:CIN_0', 'Dx:CIN_1', 'Dx:HPV_0', 'Dx:HPV_1', 'Dx_0',\n",
      "       'Dx_1', 'Hinselmann_0', 'Hinselmann_1', 'Citology_0', 'Citology_1',\n",
      "       'Schiller_0', 'Schiller_1'],\n",
      "      dtype='object')\n",
      "0.8379905808477237\n",
      "****************************************************************************************************\n",
      "Index(['Age', 'Number of sexual partners', 'First sexual intercourse',\n",
      "       'Num of pregnancies', 'Smokes (years)', 'Smokes (packs/year)',\n",
      "       'Hormonal Contraceptives (years)', 'IUD (years)', 'STDs (number)',\n",
      "       'STDs:condylomatosis', 'STDs:vulvo-perineal condylomatosis',\n",
      "       'STDs:syphilis', 'STDs:genital herpes', 'STDs:HIV',\n",
      "       'STDs: Number of diagnosis', 'STDs: Time since first diagnosis',\n",
      "       'STDs: Time since last diagnosis', 'Smokes_0.0', 'Smokes_1.0',\n",
      "       'Hormonal Contraceptives_0.0', 'Hormonal Contraceptives_1.0', 'IUD_0',\n",
      "       'IUD_0.0', 'IUD_1.0', 'STDs_1', 'STDs_0.0', 'STDs_1.0', 'Dx:Cancer_0',\n",
      "       'Dx:Cancer_1', 'Dx:CIN_0', 'Dx:CIN_1', 'Dx:HPV_0', 'Dx:HPV_1', 'Dx_0',\n",
      "       'Dx_1', 'Hinselmann_0', 'Hinselmann_1', 'Citology_0', 'Citology_1',\n",
      "       'Schiller_0', 'Schiller_1'],\n",
      "      dtype='object')\n",
      "0.8400313971742543\n",
      "****************************************************************************************************\n",
      "Index(['Age', 'Number of sexual partners', 'First sexual intercourse',\n",
      "       'Num of pregnancies', 'Smokes (years)', 'Smokes (packs/year)',\n",
      "       'Hormonal Contraceptives (years)', 'IUD (years)', 'STDs (number)',\n",
      "       'STDs:condylomatosis', 'STDs:vulvo-perineal condylomatosis',\n",
      "       'STDs:syphilis', 'STDs:genital herpes', 'STDs:HIV',\n",
      "       'STDs: Number of diagnosis', 'STDs: Time since first diagnosis',\n",
      "       'STDs: Time since last diagnosis', 'Smokes_1', 'Smokes_0.0',\n",
      "       'Smokes_1.0', 'Hormonal Contraceptives_0.0',\n",
      "       'Hormonal Contraceptives_1.0', 'IUD_0', 'IUD_0.0', 'IUD_1.0', 'STDs_1',\n",
      "       'STDs_0.0', 'STDs_1.0', 'Dx:Cancer_0', 'Dx:Cancer_1', 'Dx:CIN_0',\n",
      "       'Dx:CIN_1', 'Dx:HPV_0', 'Dx:HPV_1', 'Dx_0', 'Dx_1', 'Hinselmann_0',\n",
      "       'Hinselmann_1', 'Citology_0', 'Citology_1', 'Schiller_0', 'Schiller_1'],\n",
      "      dtype='object')\n",
      "0.8400313971742543\n",
      "****************************************************************************************************\n",
      "Index(['Age', 'Number of sexual partners', 'First sexual intercourse',\n",
      "       'Num of pregnancies', 'Smokes (years)', 'Smokes (packs/year)',\n",
      "       'Hormonal Contraceptives (years)', 'IUD (years)', 'STDs (number)',\n",
      "       'STDs:condylomatosis', 'STDs:vulvo-perineal condylomatosis',\n",
      "       'STDs:syphilis', 'STDs:genital herpes', 'STDs:HIV',\n",
      "       'STDs: Number of diagnosis', 'STDs: Time since first diagnosis',\n",
      "       'STDs: Time since last diagnosis', 'Smokes_1', 'Smokes_0.0',\n",
      "       'Smokes_1.0', 'Hormonal Contraceptives_1',\n",
      "       'Hormonal Contraceptives_0.0', 'Hormonal Contraceptives_1.0', 'IUD_0',\n",
      "       'IUD_0.0', 'IUD_1.0', 'STDs_1', 'STDs_0.0', 'STDs_1.0', 'Dx:Cancer_0',\n",
      "       'Dx:Cancer_1', 'Dx:CIN_0', 'Dx:CIN_1', 'Dx:HPV_0', 'Dx:HPV_1', 'Dx_0',\n",
      "       'Dx_1', 'Hinselmann_0', 'Hinselmann_1', 'Citology_0', 'Citology_1',\n",
      "       'Schiller_0', 'Schiller_1'],\n",
      "      dtype='object')\n",
      "0.8400313971742543\n",
      "****************************************************************************************************\n"
     ]
    },
    {
     "name": "stdout",
     "output_type": "stream",
     "text": [
      "Index(['Age', 'Number of sexual partners', 'First sexual intercourse',\n",
      "       'Num of pregnancies', 'Smokes (years)', 'Smokes (packs/year)',\n",
      "       'Hormonal Contraceptives (years)', 'IUD (years)', 'STDs (number)',\n",
      "       'STDs:condylomatosis', 'STDs:vaginal condylomatosis',\n",
      "       'STDs:vulvo-perineal condylomatosis', 'STDs:syphilis',\n",
      "       'STDs:genital herpes', 'STDs:HIV', 'STDs: Number of diagnosis',\n",
      "       'STDs: Time since first diagnosis', 'STDs: Time since last diagnosis',\n",
      "       'Smokes_1', 'Smokes_0.0', 'Smokes_1.0', 'Hormonal Contraceptives_1',\n",
      "       'Hormonal Contraceptives_0.0', 'Hormonal Contraceptives_1.0', 'IUD_0',\n",
      "       'IUD_0.0', 'IUD_1.0', 'STDs_1', 'STDs_0.0', 'STDs_1.0', 'Dx:Cancer_0',\n",
      "       'Dx:Cancer_1', 'Dx:CIN_0', 'Dx:CIN_1', 'Dx:HPV_0', 'Dx:HPV_1', 'Dx_0',\n",
      "       'Dx_1', 'Hinselmann_0', 'Hinselmann_1', 'Citology_0', 'Citology_1',\n",
      "       'Schiller_0', 'Schiller_1'],\n",
      "      dtype='object')\n",
      "0.8379905808477237\n",
      "****************************************************************************************************\n",
      "Index(['Age', 'Number of sexual partners', 'First sexual intercourse',\n",
      "       'Num of pregnancies', 'Smokes (years)', 'Smokes (packs/year)',\n",
      "       'Hormonal Contraceptives (years)', 'IUD (years)', 'STDs (number)',\n",
      "       'STDs:condylomatosis', 'STDs:vaginal condylomatosis',\n",
      "       'STDs:vulvo-perineal condylomatosis', 'STDs:syphilis',\n",
      "       'STDs:genital herpes', 'STDs:molluscum contagiosum', 'STDs:HIV',\n",
      "       'STDs: Number of diagnosis', 'STDs: Time since first diagnosis',\n",
      "       'STDs: Time since last diagnosis', 'Smokes_1', 'Smokes_0.0',\n",
      "       'Smokes_1.0', 'Hormonal Contraceptives_1',\n",
      "       'Hormonal Contraceptives_0.0', 'Hormonal Contraceptives_1.0', 'IUD_0',\n",
      "       'IUD_0.0', 'IUD_1.0', 'STDs_1', 'STDs_0.0', 'STDs_1.0', 'Dx:Cancer_0',\n",
      "       'Dx:Cancer_1', 'Dx:CIN_0', 'Dx:CIN_1', 'Dx:HPV_0', 'Dx:HPV_1', 'Dx_0',\n",
      "       'Dx_1', 'Hinselmann_0', 'Hinselmann_1', 'Citology_0', 'Citology_1',\n",
      "       'Schiller_0', 'Schiller_1'],\n",
      "      dtype='object')\n",
      "0.8784929356357928\n",
      "****************************************************************************************************\n",
      "Index(['Age', 'Number of sexual partners', 'First sexual intercourse',\n",
      "       'Num of pregnancies', 'Smokes (years)', 'Smokes (packs/year)',\n",
      "       'Hormonal Contraceptives (years)', 'IUD (years)', 'STDs (number)',\n",
      "       'STDs:condylomatosis', 'STDs:vaginal condylomatosis',\n",
      "       'STDs:vulvo-perineal condylomatosis', 'STDs:syphilis',\n",
      "       'STDs:pelvic inflammatory disease', 'STDs:genital herpes',\n",
      "       'STDs:molluscum contagiosum', 'STDs:HIV', 'STDs: Number of diagnosis',\n",
      "       'STDs: Time since first diagnosis', 'STDs: Time since last diagnosis',\n",
      "       'Smokes_1', 'Smokes_0.0', 'Smokes_1.0', 'Hormonal Contraceptives_1',\n",
      "       'Hormonal Contraceptives_0.0', 'Hormonal Contraceptives_1.0', 'IUD_0',\n",
      "       'IUD_0.0', 'IUD_1.0', 'STDs_1', 'STDs_0.0', 'STDs_1.0', 'Dx:Cancer_0',\n",
      "       'Dx:Cancer_1', 'Dx:CIN_0', 'Dx:CIN_1', 'Dx:HPV_0', 'Dx:HPV_1', 'Dx_0',\n",
      "       'Dx_1', 'Hinselmann_0', 'Hinselmann_1', 'Citology_0', 'Citology_1',\n",
      "       'Schiller_0', 'Schiller_1'],\n",
      "      dtype='object')\n",
      "0.8015698587127158\n",
      "****************************************************************************************************\n",
      "Index(['Age', 'Number of sexual partners', 'First sexual intercourse',\n",
      "       'Num of pregnancies', 'Smokes (years)', 'Smokes (packs/year)',\n",
      "       'Hormonal Contraceptives (years)', 'IUD (years)', 'STDs (number)',\n",
      "       'STDs:condylomatosis', 'STDs:cervical condylomatosis',\n",
      "       'STDs:vaginal condylomatosis', 'STDs:vulvo-perineal condylomatosis',\n",
      "       'STDs:syphilis', 'STDs:genital herpes', 'STDs:AIDS', 'STDs:HIV',\n",
      "       'STDs:Hepatitis B', 'STDs: Number of diagnosis',\n",
      "       'STDs: Time since first diagnosis', 'STDs: Time since last diagnosis',\n",
      "       'Smokes_1', 'Smokes_0.0', 'Smokes_1.0', 'Hormonal Contraceptives_1',\n",
      "       'Hormonal Contraceptives_0.0', 'Hormonal Contraceptives_1.0', 'IUD_0',\n",
      "       'IUD_0.0', 'IUD_1.0', 'STDs_1', 'STDs_0.0', 'STDs_1.0', 'Dx:Cancer_0',\n",
      "       'Dx:Cancer_1', 'Dx:CIN_0', 'Dx:CIN_1', 'Dx:HPV_0', 'Dx:HPV_1', 'Dx_0',\n",
      "       'Dx_1', 'Hinselmann_0', 'Hinselmann_1', 'Citology_0', 'Citology_1',\n",
      "       'Schiller_0', 'Schiller_1'],\n",
      "      dtype='object')\n",
      "0.8784929356357928\n",
      "****************************************************************************************************\n",
      "Index(['Age', 'Number of sexual partners', 'First sexual intercourse',\n",
      "       'Num of pregnancies', 'Smokes (years)', 'Smokes (packs/year)',\n",
      "       'Hormonal Contraceptives (years)', 'IUD (years)', 'STDs (number)',\n",
      "       'STDs:condylomatosis', 'STDs:cervical condylomatosis',\n",
      "       'STDs:vaginal condylomatosis', 'STDs:vulvo-perineal condylomatosis',\n",
      "       'STDs:syphilis', 'STDs:pelvic inflammatory disease',\n",
      "       'STDs:genital herpes', 'STDs:molluscum contagiosum', 'STDs:HIV',\n",
      "       'STDs:Hepatitis B', 'STDs: Number of diagnosis',\n",
      "       'STDs: Time since first diagnosis', 'STDs: Time since last diagnosis',\n",
      "       'Smokes_1', 'Smokes_0.0', 'Smokes_1.0', 'Hormonal Contraceptives_1',\n",
      "       'Hormonal Contraceptives_0.0', 'Hormonal Contraceptives_1.0', 'IUD_0',\n",
      "       'IUD_0.0', 'IUD_1.0', 'STDs_1', 'STDs_0.0', 'STDs_1.0', 'Dx:Cancer_0',\n",
      "       'Dx:Cancer_1', 'Dx:CIN_0', 'Dx:CIN_1', 'Dx:HPV_0', 'Dx:HPV_1', 'Dx_0',\n",
      "       'Dx_1', 'Hinselmann_0', 'Hinselmann_1', 'Citology_0', 'Citology_1',\n",
      "       'Schiller_0', 'Schiller_1'],\n",
      "      dtype='object')\n",
      "0.7631083202511773\n",
      "****************************************************************************************************\n",
      "Index(['Age', 'Number of sexual partners', 'First sexual intercourse',\n",
      "       'Num of pregnancies', 'Smokes (years)', 'Smokes (packs/year)',\n",
      "       'Hormonal Contraceptives (years)', 'IUD (years)', 'STDs (number)',\n",
      "       'STDs:condylomatosis', 'STDs:cervical condylomatosis',\n",
      "       'STDs:vaginal condylomatosis', 'STDs:vulvo-perineal condylomatosis',\n",
      "       'STDs:syphilis', 'STDs:pelvic inflammatory disease',\n",
      "       'STDs:genital herpes', 'STDs:molluscum contagiosum', 'STDs:HIV',\n",
      "       'STDs:Hepatitis B', 'STDs:HPV', 'STDs: Number of diagnosis',\n",
      "       'STDs: Time since first diagnosis', 'STDs: Time since last diagnosis',\n",
      "       'Smokes_1', 'Smokes_0.0', 'Smokes_1.0', 'Hormonal Contraceptives_1',\n",
      "       'Hormonal Contraceptives_0.0', 'Hormonal Contraceptives_1.0', 'IUD_0',\n",
      "       'IUD_0.0', 'IUD_1.0', 'STDs_1', 'STDs_0.0', 'STDs_1.0', 'Dx:Cancer_0',\n",
      "       'Dx:Cancer_1', 'Dx:CIN_0', 'Dx:CIN_1', 'Dx:HPV_0', 'Dx:HPV_1', 'Dx_0',\n",
      "       'Dx_1', 'Hinselmann_0', 'Hinselmann_1', 'Citology_0', 'Citology_1',\n",
      "       'Schiller_0', 'Schiller_1'],\n",
      "      dtype='object')\n",
      "0.8400313971742543\n",
      "****************************************************************************************************\n",
      "Index(['Age', 'Number of sexual partners', 'First sexual intercourse',\n",
      "       'Num of pregnancies', 'Smokes (years)', 'Smokes (packs/year)',\n",
      "       'Hormonal Contraceptives (years)', 'IUD (years)', 'STDs (number)',\n",
      "       'STDs:condylomatosis', 'STDs:cervical condylomatosis',\n",
      "       'STDs:vaginal condylomatosis', 'STDs:vulvo-perineal condylomatosis',\n",
      "       'STDs:syphilis', 'STDs:pelvic inflammatory disease',\n",
      "       'STDs:genital herpes', 'STDs:molluscum contagiosum', 'STDs:AIDS',\n",
      "       'STDs:HIV', 'STDs:Hepatitis B', 'STDs:HPV', 'STDs: Number of diagnosis',\n",
      "       'STDs: Time since first diagnosis', 'STDs: Time since last diagnosis',\n",
      "       'Smokes_1', 'Smokes_0.0', 'Smokes_1.0', 'Hormonal Contraceptives_1',\n",
      "       'Hormonal Contraceptives_0.0', 'Hormonal Contraceptives_1.0', 'IUD_0',\n",
      "       'IUD_0.0', 'IUD_1.0', 'STDs_1', 'STDs_0.0', 'STDs_1.0', 'Dx:Cancer_0',\n",
      "       'Dx:Cancer_1', 'Dx:CIN_0', 'Dx:CIN_1', 'Dx:HPV_0', 'Dx:HPV_1', 'Dx_0',\n",
      "       'Dx_1', 'Hinselmann_0', 'Hinselmann_1', 'Citology_0', 'Citology_1',\n",
      "       'Schiller_0', 'Schiller_1'],\n",
      "      dtype='object')\n",
      "0.7631083202511773\n",
      "****************************************************************************************************\n"
     ]
    }
   ],
   "source": [
    "for i in range(1,df.shape[1]):\n",
    "   \n",
    "    model = RFE(RandomForestClassifier(),i).fit(x,y)\n",
    "    print(x.columns[model.support_])\n",
    "    x_train,x_test,y_train,y_test = train_test_split(model.transform(x),y,test_size=0.3,random_state=0)\n",
    "    rf = RandomForestClassifier()\n",
    "    rf.fit(x_train,y_train)\n",
    "    y_pred = rf.predict(x_test)\n",
    "    rf_recall = metrics.roc_auc_score(y_test,y_pred)\n",
    "    print(rf_recall)\n",
    "    print('*'*100)\n"
   ]
  },
  {
   "cell_type": "code",
   "execution_count": 61,
   "metadata": {},
   "outputs": [
    {
     "name": "stdout",
     "output_type": "stream",
     "text": [
      "Accuracy: 96.51%\n",
      "Precision : 70.00%\n",
      "Recall: 53.85%\n",
      "F1 : 60.87%\n"
     ]
    }
   ],
   "source": [
    "# XG Boost\n",
    " \n",
    "from numpy import loadtxt\n",
    "from xgboost import XGBClassifier\n",
    "from sklearn.model_selection import train_test_split\n",
    "from sklearn.metrics import accuracy_score\n",
    "from sklearn.metrics import accuracy_score\n",
    "from sklearn.metrics import f1_score\n",
    "from sklearn.metrics import recall_score\n",
    "from sklearn.metrics import precision_score\n",
    " \n",
    "seed = 7\n",
    "test_size = 0.33\n",
    "\n",
    "model = XGBClassifier()\n",
    "model.fit(x_train, y_train)\n",
    "# make predictions for test data\n",
    "y_pred = model.predict(x_test)\n",
    "predictions = [round(value) for value in y_pred]\n",
    "# evaluate predictions\n",
    "accuracy = accuracy_score(y_test, predictions)\n",
    "\n",
    "f1 = f1_score(y_test, predictions)\n",
    "re = recall_score(y_test, predictions)\n",
    "pre = precision_score(y_test, predictions)\n",
    "\n",
    "print(\"Accuracy: %.2f%%\" % (accuracy * 100.0))\n",
    "print(\"Precision : %.2f%%\" % (pre * 100.0))\n",
    "print(\"Recall: %.2f%%\" % (re * 100.0))\n",
    "print(\"F1 : %.2f%%\" % (f1 * 100.0))"
   ]
  },
  {
   "cell_type": "code",
   "execution_count": 62,
   "metadata": {
    "scrolled": true
   },
   "outputs": [
    {
     "name": "stdout",
     "output_type": "stream",
     "text": [
      "Accuracy: 96.12%\n",
      "Precision : 61.54%\n",
      "Recall: 61.54%\n",
      "F1 : 61.54%\n"
     ]
    }
   ],
   "source": [
    "\n",
    "\n",
    "from sklearn.ensemble import AdaBoostClassifier\n",
    "from sklearn.tree import DecisionTreeClassifier\n",
    "from sklearn.metrics import confusion_matrix\n",
    "\n",
    "\n",
    "\n",
    "# Scale the data to be between -1 and 1\n",
    "scaler = StandardScaler()\n",
    "scaler.fit(x_train)\n",
    "xdc_train = scaler.transform(x_train)\n",
    "xdc_test = scaler.transform(x_test)\n",
    "classifier = AdaBoostClassifier(\n",
    "    DecisionTreeClassifier(max_depth=1),\n",
    "    n_estimators=200\n",
    ")\n",
    "classifier.fit(x_train, y_train)\n",
    "predictions = classifier.predict(x_test)\n",
    "\n",
    "\n",
    "from sklearn.metrics import accuracy_score\n",
    "from sklearn.metrics import f1_score\n",
    "from sklearn.metrics import recall_score\n",
    "from sklearn.metrics import precision_score\n",
    "\n",
    "\n",
    "accuracy = accuracy_score(y_test, predictions)\n",
    "\n",
    "f1 = f1_score(y_test, predictions)\n",
    "re = recall_score(y_test, predictions)\n",
    "pre = precision_score(y_test, predictions)\n",
    "\n",
    "print(\"Accuracy: %.2f%%\" % (accuracy * 100.0))\n",
    "print(\"Precision : %.2f%%\" % (pre * 100.0))\n",
    "print(\"Recall: %.2f%%\" % (re * 100.0))\n",
    "print(\"F1 : %.2f%%\" % (f1 * 100.0))\n"
   ]
  },
  {
   "cell_type": "markdown",
   "metadata": {},
   "source": [
    "# grid_search on ORIGINAL DATASET"
   ]
  },
  {
   "cell_type": "code",
   "execution_count": 63,
   "metadata": {},
   "outputs": [
    {
     "name": "stdout",
     "output_type": "stream",
     "text": [
      "Start Fitting Training Data\n"
     ]
    },
    {
     "data": {
      "application/vnd.jupyter.widget-view+json": {
       "model_id": "bf648900ed2d48f2afeac72a1cdc62ad",
       "version_major": 2,
       "version_minor": 0
      },
      "text/plain": [
       "HBox(children=(FloatProgress(value=0.0, max=8.0), HTML(value='')))"
      ]
     },
     "metadata": {},
     "output_type": "display_data"
    },
    {
     "name": "stdout",
     "output_type": "stream",
     "text": [
      "Score for 2 fold CV = 0.97\n",
      "!!!!!!!! Best-Fit Parameters From Training Data !!!!!!!!!!!!!!\n",
      "{'SupVM__C': 10, 'SupVM__gamma': 0.001}\n",
      " \n",
      " \n",
      "Score for 3 fold CV = 0.97\n",
      "!!!!!!!! Best-Fit Parameters From Training Data !!!!!!!!!!!!!!\n",
      "{'SupVM__C': 10, 'SupVM__gamma': 0.001}\n",
      " \n",
      " \n",
      "Score for 4 fold CV = 0.97\n",
      "!!!!!!!! Best-Fit Parameters From Training Data !!!!!!!!!!!!!!\n",
      "{'SupVM__C': 10, 'SupVM__gamma': 0.001}\n",
      " \n",
      " \n",
      "Score for 5 fold CV = 0.97\n",
      "!!!!!!!! Best-Fit Parameters From Training Data !!!!!!!!!!!!!!\n",
      "{'SupVM__C': 10, 'SupVM__gamma': 0.001}\n",
      " \n",
      " \n",
      "Score for 6 fold CV = 0.97\n",
      "!!!!!!!! Best-Fit Parameters From Training Data !!!!!!!!!!!!!!\n",
      "{'SupVM__C': 10, 'SupVM__gamma': 0.001}\n",
      " \n",
      " \n",
      "Score for 7 fold CV = 0.97\n",
      "!!!!!!!! Best-Fit Parameters From Training Data !!!!!!!!!!!!!!\n",
      "{'SupVM__C': 10, 'SupVM__gamma': 0.001}\n",
      " \n",
      " \n",
      "Score for 8 fold CV = 0.97\n",
      "!!!!!!!! Best-Fit Parameters From Training Data !!!!!!!!!!!!!!\n",
      "{'SupVM__C': 10, 'SupVM__gamma': 0.001}\n",
      " \n",
      " \n",
      "Score for 9 fold CV = 0.97\n",
      "!!!!!!!! Best-Fit Parameters From Training Data !!!!!!!!!!!!!!\n",
      "{'SupVM__C': 10, 'SupVM__gamma': 0.001}\n",
      " \n",
      " \n",
      "\n",
      "Out of Loop\n"
     ]
    }
   ],
   "source": [
    "from sklearn.svm import SVC\n",
    "\n",
    "from sklearn.model_selection import GridSearchCV\n",
    "\n",
    "from sklearn import preprocessing \n",
    "from sklearn.preprocessing import StandardScaler\n",
    "\n",
    "\n",
    "pipe_steps = [('scaler', StandardScaler()), ('SupVM', SVC(kernel='rbf'))]\n",
    "\n",
    "\n",
    "check_params= {\n",
    "    \n",
    "    'SupVM__C': [0.1, 0.5, 1, 10,30, 40,41,42,43,46,49, 50, 75, 100, 500, 1000], \n",
    "    'SupVM__gamma' : [0.001, 0.005, 0.01, 0.05, 0.07, 0.1, 0.5, 1, 5, 10, 50]\n",
    "}\n",
    "\n",
    "\n",
    "\n",
    "\n",
    "from sklearn.pipeline import Pipeline\n",
    "\n",
    "pipeline = Pipeline(pipe_steps)\n",
    "# I love You So Much \n",
    "from tqdm import tqdm_notebook as tqdm\n",
    "from sklearn.model_selection import GridSearchCV\n",
    "import warnings\n",
    "warnings.filterwarnings(\"ignore\")\n",
    "\n",
    "print(\"Start Fitting Training Data\")\n",
    "for cvx in tqdm(range(2,10)):\n",
    "    newgrid=GridSearchCV(pipeline,param_grid=check_params,cv=cvx)\n",
    "   \n",
    "    newgrid.fit(x,y)\n",
    "    \n",
    "    \n",
    "    print(\"Score for %d fold CV = %3.2f\"%(cvx,newgrid.score(x,y)))\n",
    "    print (\"!!!!!!!! Best-Fit Parameters From Training Data !!!!!!!!!!!!!!\")\n",
    "    print (newgrid.best_params_)\n",
    "    print(\" \")\n",
    "    print(\" \")\n",
    "    \n",
    "print(\"Out of Loop\")"
   ]
  },
  {
   "cell_type": "markdown",
   "metadata": {},
   "source": [
    "# CONTINUE FROM HERE\n",
    "\n",
    "https://www.kaggle.com/naveenram/ml-models-for-prediction-of-cervical-cancer"
   ]
  },
  {
   "cell_type": "code",
   "execution_count": null,
   "metadata": {},
   "outputs": [],
   "source": []
  },
  {
   "cell_type": "code",
   "execution_count": null,
   "metadata": {},
   "outputs": [],
   "source": []
  },
  {
   "cell_type": "markdown",
   "metadata": {},
   "source": [
    "# UNDERSAMPLING"
   ]
  },
  {
   "cell_type": "markdown",
   "metadata": {},
   "source": [
    "# (NM ^ ENN) U (ENN ^ NCR) U (NCR ^ NM)"
   ]
  },
  {
   "cell_type": "code",
   "execution_count": 182,
   "metadata": {},
   "outputs": [],
   "source": [
    "from imblearn.under_sampling import (RandomUnderSampler, ClusterCentroids, TomekLinks, NeighbourhoodCleaningRule, NearMiss)\n",
    "from collections import Counter"
   ]
  },
  {
   "cell_type": "code",
   "execution_count": 183,
   "metadata": {},
   "outputs": [],
   "source": [
    "# NM_3\n",
    "\n",
    "x2=x\n",
    "y2=y\n",
    "nearmisssampler3 = NearMiss(version=3)\n",
    "x_nm3, y_nm3 = nearmisssampler3.fit_sample(x2, y2)\n",
    "nm3df=pd.concat([x_nm3,y_nm3],axis=1)"
   ]
  },
  {
   "cell_type": "code",
   "execution_count": 184,
   "metadata": {},
   "outputs": [],
   "source": [
    "## NCR\n",
    "from imblearn.under_sampling import NeighbourhoodCleaningRule \n",
    "ncr = NeighbourhoodCleaningRule()\n",
    "x_ncr, y_ncr = ncr.fit_resample(x, y)\n",
    "ncrdf=pd.concat([x_ncr,y_ncr],axis=1)"
   ]
  },
  {
   "cell_type": "code",
   "execution_count": 185,
   "metadata": {},
   "outputs": [],
   "source": [
    "## ENN\n",
    "\n",
    "from imblearn.under_sampling import EditedNearestNeighbours\n",
    "x5=x\n",
    "y5=y\n",
    "enn=EditedNearestNeighbours()\n",
    "x_enn,y_enn = enn.fit_resample(x5,y5)\n",
    "enndf=pd.concat([x_enn,y_enn], axis=1)"
   ]
  },
  {
   "cell_type": "markdown",
   "metadata": {},
   "source": [
    "## UNDERSAMPLED DATA_SET"
   ]
  },
  {
   "cell_type": "code",
   "execution_count": 186,
   "metadata": {},
   "outputs": [
    {
     "name": "stdout",
     "output_type": "stream",
     "text": [
      "Original dataset shape Counter({0: 803, 1: 55})\n",
      "Resampled dataset shape Counter({0: 663, 1: 54})\n"
     ]
    },
    {
     "data": {
      "text/plain": [
       "<matplotlib.axes._subplots.AxesSubplot at 0x17b84333f48>"
      ]
     },
     "execution_count": 186,
     "metadata": {},
     "output_type": "execute_result"
    },
    {
     "data": {
      "image/png": "[encoded data removed]",
      "text/plain": [
       "<Figure size 1080x720 with 1 Axes>"
      ]
     },
     "metadata": {},
     "output_type": "display_data"
    }
   ],
   "source": [
    "# (NM ^ ENN) U (ENN ^ NCR) U (NCR ^ NM)\n",
    "\n",
    "ne=nm3df.merge(enndf)\n",
    "en=enndf.merge(ncrdf)\n",
    "nn=ncrdf.merge(nm3df)\n",
    "\n",
    "\n",
    "hola = pd.concat([ne,en,nn], ignore_index = True)\n",
    "hola = hola.drop_duplicates()\n",
    "\n",
    "xdc=hola.drop('Biopsy',axis=1)\n",
    "ydc=hola['Biopsy']\n",
    "\n",
    "print('Original dataset shape {}'.format(Counter(y)))\n",
    "print('Resampled dataset shape {}'.format(Counter(ydc)))\n",
    "sns.countplot(ydc)\n"
   ]
  },
  {
   "cell_type": "code",
   "execution_count": null,
   "metadata": {},
   "outputs": [],
   "source": []
  },
  {
   "cell_type": "code",
   "execution_count": 187,
   "metadata": {},
   "outputs": [],
   "source": [
    "SS = StandardScaler()\n",
    "df_scaled = pd.DataFrame(SS.fit_transform(xdc), columns = xdc.columns) # as scaling mandotory for KNN model "
   ]
  },
  {
   "cell_type": "code",
   "execution_count": 188,
   "metadata": {},
   "outputs": [],
   "source": [
    "x_train,x_test,y_train,y_test = train_test_split(xdc,ydc, test_size = 0.3, random_state = 1)\n",
    "x_train1,x_test1,y_train,y_test = train_test_split(df_scaled,ydc, test_size = 0.3, random_state = 1)"
   ]
  },
  {
   "cell_type": "code",
   "execution_count": 189,
   "metadata": {},
   "outputs": [],
   "source": [
    "l= []  #List to store the various model metrics \n"
   ]
  },
  {
   "cell_type": "code",
   "execution_count": 190,
   "metadata": {},
   "outputs": [],
   "source": [
    "from sklearn.linear_model import LogisticRegression \n",
    "from sklearn.metrics import accuracy_score\n",
    "from sklearn.tree import DecisionTreeClassifier, DecisionTreeRegressor \n",
    "from sklearn.ensemble import RandomForestClassifier, RandomForestRegressor, BaggingClassifier,AdaBoostClassifier,GradientBoostingClassifier\n",
    "from sklearn.linear_model import LinearRegression,LogisticRegression\n",
    "from sklearn.neighbors import KNeighborsClassifier\n",
    "from sklearn.naive_bayes import GaussianNB\n",
    "from sklearn import metrics\n",
    "from sklearn.preprocessing import StandardScaler\n",
    "from sklearn.feature_selection import RFE\n",
    "from collections import Counter"
   ]
  },
  {
   "cell_type": "code",
   "execution_count": null,
   "metadata": {},
   "outputs": [],
   "source": []
  },
  {
   "cell_type": "code",
   "execution_count": 191,
   "metadata": {
    "scrolled": false
   },
   "outputs": [
    {
     "name": "stdout",
     "output_type": "stream",
     "text": [
      "Start Fitting Training Data\n"
     ]
    },
    {
     "data": {
      "application/vnd.jupyter.widget-view+json": {
       "model_id": "f298bea002304f7ea555a8cac29b5f58",
       "version_major": 2,
       "version_minor": 0
      },
      "text/plain": [
       "HBox(children=(FloatProgress(value=0.0, max=6.0), HTML(value='')))"
      ]
     },
     "metadata": {},
     "output_type": "display_data"
    },
    {
     "name": "stdout",
     "output_type": "stream",
     "text": [
      "Fitting 5 folds for each of 10 candidates, totalling 50 fits\n"
     ]
    },
    {
     "name": "stderr",
     "output_type": "stream",
     "text": [
      "[Parallel(n_jobs=-1)]: Using backend LokyBackend with 12 concurrent workers.\n",
      "[Parallel(n_jobs=-1)]: Done  17 tasks      | elapsed:    2.1s\n",
      "[Parallel(n_jobs=-1)]: Done  50 out of  50 | elapsed:    3.2s finished\n",
      "[Parallel(n_jobs=-1)]: Using backend LokyBackend with 12 concurrent workers.\n"
     ]
    },
    {
     "name": "stdout",
     "output_type": "stream",
     "text": [
      "Accuracy for 5 fold CV = 0.98\n",
      "!!!!!!!! Best-Fit Parameters From Training Data !!!!!!!!!!!!!!\n",
      "{'n_estimators': 20, 'min_samples_split': 10, 'max_features': 'auto', 'max_depth': 45}\n",
      " \n",
      " \n",
      "Fitting 6 folds for each of 10 candidates, totalling 60 fits\n"
     ]
    },
    {
     "name": "stderr",
     "output_type": "stream",
     "text": [
      "[Parallel(n_jobs=-1)]: Done  17 tasks      | elapsed:    0.1s\n",
      "[Parallel(n_jobs=-1)]: Done  60 out of  60 | elapsed:    1.4s finished\n"
     ]
    },
    {
     "name": "stdout",
     "output_type": "stream",
     "text": [
      "Accuracy for 6 fold CV = 0.98\n",
      "!!!!!!!! Best-Fit Parameters From Training Data !!!!!!!!!!!!!!\n",
      "{'n_estimators': 155, 'min_samples_split': 10, 'max_features': 'auto', 'max_depth': 45}\n",
      " \n",
      " \n",
      "Fitting 7 folds for each of 10 candidates, totalling 70 fits\n"
     ]
    },
    {
     "name": "stderr",
     "output_type": "stream",
     "text": [
      "[Parallel(n_jobs=-1)]: Using backend LokyBackend with 12 concurrent workers.\n",
      "[Parallel(n_jobs=-1)]: Done  17 tasks      | elapsed:    0.1s\n",
      "[Parallel(n_jobs=-1)]: Done  47 out of  70 | elapsed:    1.3s remaining:    0.6s\n",
      "[Parallel(n_jobs=-1)]: Done  70 out of  70 | elapsed:    1.6s finished\n"
     ]
    },
    {
     "name": "stdout",
     "output_type": "stream",
     "text": [
      "Accuracy for 7 fold CV = 0.98\n",
      "!!!!!!!! Best-Fit Parameters From Training Data !!!!!!!!!!!!!!\n",
      "{'n_estimators': 110, 'min_samples_split': 10, 'max_features': 'sqrt', 'max_depth': 45}\n",
      " \n",
      " \n",
      "Fitting 8 folds for each of 10 candidates, totalling 80 fits\n"
     ]
    },
    {
     "name": "stderr",
     "output_type": "stream",
     "text": [
      "[Parallel(n_jobs=-1)]: Using backend LokyBackend with 12 concurrent workers.\n",
      "[Parallel(n_jobs=-1)]: Done  18 tasks      | elapsed:    0.2s\n",
      "[Parallel(n_jobs=-1)]: Done  57 out of  80 | elapsed:    1.7s remaining:    0.6s\n",
      "[Parallel(n_jobs=-1)]: Done  80 out of  80 | elapsed:    2.0s finished\n"
     ]
    },
    {
     "name": "stdout",
     "output_type": "stream",
     "text": [
      "Accuracy for 8 fold CV = 0.98\n",
      "!!!!!!!! Best-Fit Parameters From Training Data !!!!!!!!!!!!!!\n",
      "{'n_estimators': 110, 'min_samples_split': 10, 'max_features': 'sqrt', 'max_depth': 45}\n",
      " \n",
      " \n",
      "Fitting 9 folds for each of 10 candidates, totalling 90 fits\n"
     ]
    },
    {
     "name": "stderr",
     "output_type": "stream",
     "text": [
      "[Parallel(n_jobs=-1)]: Using backend LokyBackend with 12 concurrent workers.\n",
      "[Parallel(n_jobs=-1)]: Done  17 tasks      | elapsed:    0.1s\n",
      "[Parallel(n_jobs=-1)]: Done  90 out of  90 | elapsed:    2.3s finished\n",
      "[Parallel(n_jobs=-1)]: Using backend LokyBackend with 12 concurrent workers.\n"
     ]
    },
    {
     "name": "stdout",
     "output_type": "stream",
     "text": [
      "Accuracy for 9 fold CV = 0.98\n",
      "!!!!!!!! Best-Fit Parameters From Training Data !!!!!!!!!!!!!!\n",
      "{'n_estimators': 20, 'min_samples_split': 10, 'max_features': 'auto', 'max_depth': 45}\n",
      " \n",
      " \n",
      "Fitting 10 folds for each of 10 candidates, totalling 100 fits\n"
     ]
    },
    {
     "name": "stderr",
     "output_type": "stream",
     "text": [
      "[Parallel(n_jobs=-1)]: Done  17 tasks      | elapsed:    0.1s\n",
      "[Parallel(n_jobs=-1)]: Done 100 out of 100 | elapsed:    2.4s finished\n"
     ]
    },
    {
     "name": "stdout",
     "output_type": "stream",
     "text": [
      "Accuracy for 10 fold CV = 0.98\n",
      "!!!!!!!! Best-Fit Parameters From Training Data !!!!!!!!!!!!!!\n",
      "{'n_estimators': 155, 'min_samples_split': 10, 'max_features': 'auto', 'max_depth': 45}\n",
      " \n",
      " \n",
      "\n",
      "Out of Loop\n"
     ]
    }
   ],
   "source": [
    "#from sklearn.pipeline import Pipeline\n",
    "\n",
    "#pipeline = Pipeline(pipe_steps)\n",
    "# I love You So Much \n",
    "from tqdm import tqdm_notebook as tqdm\n",
    "from sklearn.model_selection import RandomizedSearchCV\n",
    "import warnings\n",
    "warnings.filterwarnings(\"ignore\")\n",
    "rf=RandomForestClassifier(random_state=0)\n",
    "print(\"Start Fitting Training Data\")\n",
    "for cvx in tqdm(range(5,11)):\n",
    "    rf_random = RandomizedSearchCV(estimator = rf, param_distributions = random_grid, n_iter = 10, cv = cvx, verbose=2, random_state=42, n_jobs = -1, scoring='accuracy')\n",
    "   \n",
    "    rf_random.fit(x,y)\n",
    "    \n",
    "    print(\"Accuracy for %d fold CV = %3.2f\"%(cvx,rf_random.score(x,y)))\n",
    "    print (\"!!!!!!!! Best-Fit Parameters From Training Data !!!!!!!!!!!!!!\")\n",
    "    print (rf_random.best_params_)\n",
    "    print(\" \")\n",
    "    print(\" \")\n",
    "    \n",
    "print(\"Out of Loop\")\n"
   ]
  },
  {
   "cell_type": "markdown",
   "metadata": {},
   "source": [
    "# RECALL rcv_RANDOM SEARCH UNDERSAMPLED DATASET"
   ]
  },
  {
   "cell_type": "code",
   "execution_count": 192,
   "metadata": {
    "scrolled": false
   },
   "outputs": [
    {
     "name": "stdout",
     "output_type": "stream",
     "text": [
      "Start Fitting Training Data\n"
     ]
    },
    {
     "data": {
      "application/vnd.jupyter.widget-view+json": {
       "model_id": "1fab42c4a92e4a5e8e85f9270258ff1d",
       "version_major": 2,
       "version_minor": 0
      },
      "text/plain": [
       "HBox(children=(FloatProgress(value=0.0, max=6.0), HTML(value='')))"
      ]
     },
     "metadata": {},
     "output_type": "display_data"
    },
    {
     "name": "stdout",
     "output_type": "stream",
     "text": [
      "Fitting 5 folds for each of 10 candidates, totalling 50 fits\n"
     ]
    },
    {
     "name": "stderr",
     "output_type": "stream",
     "text": [
      "[Parallel(n_jobs=-1)]: Using backend LokyBackend with 12 concurrent workers.\n",
      "[Parallel(n_jobs=-1)]: Done  50 out of  50 | elapsed:    1.2s finished\n"
     ]
    },
    {
     "name": "stdout",
     "output_type": "stream",
     "text": [
      "Recall for 5 fold CV = 0.87\n",
      "!!!!!!!! Best-Fit Parameters From Training Data !!!!!!!!!!!!!!\n",
      "{'n_estimators': 110, 'min_samples_split': 10, 'max_features': 'sqrt', 'max_depth': 45}\n",
      " \n",
      " \n",
      "Fitting 6 folds for each of 10 candidates, totalling 60 fits\n"
     ]
    },
    {
     "name": "stderr",
     "output_type": "stream",
     "text": [
      "[Parallel(n_jobs=-1)]: Using backend LokyBackend with 12 concurrent workers.\n",
      "[Parallel(n_jobs=-1)]: Done  17 tasks      | elapsed:    0.1s\n",
      "[Parallel(n_jobs=-1)]: Done  60 out of  60 | elapsed:    1.4s finished\n"
     ]
    },
    {
     "name": "stdout",
     "output_type": "stream",
     "text": [
      "Recall for 6 fold CV = 0.87\n",
      "!!!!!!!! Best-Fit Parameters From Training Data !!!!!!!!!!!!!!\n",
      "{'n_estimators': 110, 'min_samples_split': 10, 'max_features': 'sqrt', 'max_depth': 45}\n",
      " \n",
      " \n",
      "Fitting 7 folds for each of 10 candidates, totalling 70 fits\n"
     ]
    },
    {
     "name": "stderr",
     "output_type": "stream",
     "text": [
      "[Parallel(n_jobs=-1)]: Using backend LokyBackend with 12 concurrent workers.\n",
      "[Parallel(n_jobs=-1)]: Done  17 tasks      | elapsed:    0.1s\n",
      "[Parallel(n_jobs=-1)]: Done  70 out of  70 | elapsed:    1.6s finished\n"
     ]
    },
    {
     "name": "stdout",
     "output_type": "stream",
     "text": [
      "Recall for 7 fold CV = 0.87\n",
      "!!!!!!!! Best-Fit Parameters From Training Data !!!!!!!!!!!!!!\n",
      "{'n_estimators': 155, 'min_samples_split': 10, 'max_features': 'auto', 'max_depth': 45}\n",
      " \n",
      " \n",
      "Fitting 8 folds for each of 10 candidates, totalling 80 fits\n"
     ]
    },
    {
     "name": "stderr",
     "output_type": "stream",
     "text": [
      "[Parallel(n_jobs=-1)]: Using backend LokyBackend with 12 concurrent workers.\n",
      "[Parallel(n_jobs=-1)]: Done  18 tasks      | elapsed:    0.2s\n",
      "[Parallel(n_jobs=-1)]: Done  57 out of  80 | elapsed:    1.6s remaining:    0.6s\n",
      "[Parallel(n_jobs=-1)]: Done  80 out of  80 | elapsed:    1.8s finished\n",
      "[Parallel(n_jobs=-1)]: Using backend LokyBackend with 12 concurrent workers.\n"
     ]
    },
    {
     "name": "stdout",
     "output_type": "stream",
     "text": [
      "Recall for 8 fold CV = 0.87\n",
      "!!!!!!!! Best-Fit Parameters From Training Data !!!!!!!!!!!!!!\n",
      "{'n_estimators': 65, 'min_samples_split': 10, 'max_features': 'sqrt', 'max_depth': 23}\n",
      " \n",
      " \n",
      "Fitting 9 folds for each of 10 candidates, totalling 90 fits\n"
     ]
    },
    {
     "name": "stderr",
     "output_type": "stream",
     "text": [
      "[Parallel(n_jobs=-1)]: Done  17 tasks      | elapsed:    0.1s\n",
      "[Parallel(n_jobs=-1)]: Done  67 out of  90 | elapsed:    1.6s remaining:    0.5s\n",
      "[Parallel(n_jobs=-1)]: Done  90 out of  90 | elapsed:    2.0s finished\n",
      "[Parallel(n_jobs=-1)]: Using backend LokyBackend with 12 concurrent workers.\n"
     ]
    },
    {
     "name": "stdout",
     "output_type": "stream",
     "text": [
      "Recall for 9 fold CV = 0.87\n",
      "!!!!!!!! Best-Fit Parameters From Training Data !!!!!!!!!!!!!!\n",
      "{'n_estimators': 65, 'min_samples_split': 10, 'max_features': 'sqrt', 'max_depth': 23}\n",
      " \n",
      " \n",
      "Fitting 10 folds for each of 10 candidates, totalling 100 fits\n"
     ]
    },
    {
     "name": "stderr",
     "output_type": "stream",
     "text": [
      "[Parallel(n_jobs=-1)]: Done  17 tasks      | elapsed:    0.1s\n",
      "[Parallel(n_jobs=-1)]: Done 100 out of 100 | elapsed:    2.2s finished\n"
     ]
    },
    {
     "name": "stdout",
     "output_type": "stream",
     "text": [
      "Recall for 10 fold CV = 0.87\n",
      "!!!!!!!! Best-Fit Parameters From Training Data !!!!!!!!!!!!!!\n",
      "{'n_estimators': 155, 'min_samples_split': 10, 'max_features': 'auto', 'max_depth': 45}\n",
      " \n",
      " \n",
      "\n",
      "Out of Loop\n"
     ]
    }
   ],
   "source": [
    "#from sklearn.pipeline import Pipeline\n",
    "\n",
    "#pipeline = Pipeline(pipe_steps)\n",
    "# I love You So Much \n",
    "from tqdm import tqdm_notebook as tqdm\n",
    "from sklearn.model_selection import RandomizedSearchCV\n",
    "import warnings\n",
    "warnings.filterwarnings(\"ignore\")\n",
    "rf=RandomForestClassifier(random_state=0)\n",
    "print(\"Start Fitting Training Data\")\n",
    "for cvx in tqdm(range(5,11)):\n",
    "    rf_random = RandomizedSearchCV(estimator = rf, param_distributions = random_grid, n_iter = 10, cv = cvx, verbose=2, random_state=42, n_jobs = -1, scoring='recall')\n",
    "   \n",
    "    rf_random.fit(xdc,ydc)\n",
    "    \n",
    "    print(\"Recall for %d fold CV = %3.2f\"%(cvx,rf_random.score(x,y)))\n",
    "    print (\"!!!!!!!! Best-Fit Parameters From Training Data !!!!!!!!!!!!!!\")\n",
    "    print (rf_random.best_params_)\n",
    "    print(\" \")\n",
    "    print(\" \")\n",
    "    \n",
    "print(\"Out of Loop\")\n"
   ]
  },
  {
   "cell_type": "markdown",
   "metadata": {},
   "source": [
    "# PRECISION "
   ]
  },
  {
   "cell_type": "code",
   "execution_count": 193,
   "metadata": {},
   "outputs": [
    {
     "name": "stdout",
     "output_type": "stream",
     "text": [
      "Start Fitting Training Data\n"
     ]
    },
    {
     "data": {
      "application/vnd.jupyter.widget-view+json": {
       "model_id": "1a810bda02c74aada4aca3386454c184",
       "version_major": 2,
       "version_minor": 0
      },
      "text/plain": [
       "HBox(children=(FloatProgress(value=0.0, max=6.0), HTML(value='')))"
      ]
     },
     "metadata": {},
     "output_type": "display_data"
    },
    {
     "name": "stdout",
     "output_type": "stream",
     "text": [
      "Fitting 5 folds for each of 10 candidates, totalling 50 fits\n"
     ]
    },
    {
     "name": "stderr",
     "output_type": "stream",
     "text": [
      "[Parallel(n_jobs=-1)]: Using backend LokyBackend with 12 concurrent workers.\n",
      "[Parallel(n_jobs=-1)]: Done  50 out of  50 | elapsed:    1.1s finished\n",
      "[Parallel(n_jobs=-1)]: Using backend LokyBackend with 12 concurrent workers.\n"
     ]
    },
    {
     "name": "stdout",
     "output_type": "stream",
     "text": [
      "Precision for 5 fold CV = 0.84\n",
      "!!!!!!!! Best-Fit Parameters From Training Data !!!!!!!!!!!!!!\n",
      "{'n_estimators': 20, 'min_samples_split': 10, 'max_features': 'auto', 'max_depth': 45}\n",
      " \n",
      " \n",
      "Fitting 6 folds for each of 10 candidates, totalling 60 fits\n"
     ]
    },
    {
     "name": "stderr",
     "output_type": "stream",
     "text": [
      "[Parallel(n_jobs=-1)]: Done  17 tasks      | elapsed:    0.1s\n",
      "[Parallel(n_jobs=-1)]: Done  60 out of  60 | elapsed:    1.4s finished\n",
      "[Parallel(n_jobs=-1)]: Using backend LokyBackend with 12 concurrent workers.\n"
     ]
    },
    {
     "name": "stdout",
     "output_type": "stream",
     "text": [
      "Precision for 6 fold CV = 0.84\n",
      "!!!!!!!! Best-Fit Parameters From Training Data !!!!!!!!!!!!!!\n",
      "{'n_estimators': 20, 'min_samples_split': 10, 'max_features': 'auto', 'max_depth': 45}\n",
      " \n",
      " \n",
      "Fitting 7 folds for each of 10 candidates, totalling 70 fits\n"
     ]
    },
    {
     "name": "stderr",
     "output_type": "stream",
     "text": [
      "[Parallel(n_jobs=-1)]: Done  17 tasks      | elapsed:    0.1s\n",
      "[Parallel(n_jobs=-1)]: Done  70 out of  70 | elapsed:    1.6s finished\n"
     ]
    },
    {
     "name": "stdout",
     "output_type": "stream",
     "text": [
      "Precision for 7 fold CV = 0.87\n",
      "!!!!!!!! Best-Fit Parameters From Training Data !!!!!!!!!!!!!!\n",
      "{'n_estimators': 110, 'min_samples_split': 10, 'max_features': 'sqrt', 'max_depth': 45}\n",
      " \n",
      " \n",
      "Fitting 8 folds for each of 10 candidates, totalling 80 fits\n"
     ]
    },
    {
     "name": "stderr",
     "output_type": "stream",
     "text": [
      "[Parallel(n_jobs=-1)]: Using backend LokyBackend with 12 concurrent workers.\n",
      "[Parallel(n_jobs=-1)]: Done  18 tasks      | elapsed:    0.2s\n",
      "[Parallel(n_jobs=-1)]: Done  57 out of  80 | elapsed:    1.5s remaining:    0.6s\n",
      "[Parallel(n_jobs=-1)]: Done  80 out of  80 | elapsed:    1.9s finished\n"
     ]
    },
    {
     "name": "stdout",
     "output_type": "stream",
     "text": [
      "Precision for 8 fold CV = 0.87\n",
      "!!!!!!!! Best-Fit Parameters From Training Data !!!!!!!!!!!!!!\n",
      "{'n_estimators': 110, 'min_samples_split': 10, 'max_features': 'sqrt', 'max_depth': 45}\n",
      " \n",
      " \n",
      "Fitting 9 folds for each of 10 candidates, totalling 90 fits\n"
     ]
    },
    {
     "name": "stderr",
     "output_type": "stream",
     "text": [
      "[Parallel(n_jobs=-1)]: Using backend LokyBackend with 12 concurrent workers.\n",
      "[Parallel(n_jobs=-1)]: Done  17 tasks      | elapsed:    0.1s\n",
      "[Parallel(n_jobs=-1)]: Done  67 out of  90 | elapsed:    1.7s remaining:    0.5s\n",
      "[Parallel(n_jobs=-1)]: Done  90 out of  90 | elapsed:    2.0s finished\n",
      "[Parallel(n_jobs=-1)]: Using backend LokyBackend with 12 concurrent workers.\n"
     ]
    },
    {
     "name": "stdout",
     "output_type": "stream",
     "text": [
      "Precision for 9 fold CV = 0.84\n",
      "!!!!!!!! Best-Fit Parameters From Training Data !!!!!!!!!!!!!!\n",
      "{'n_estimators': 20, 'min_samples_split': 10, 'max_features': 'auto', 'max_depth': 45}\n",
      " \n",
      " \n",
      "Fitting 10 folds for each of 10 candidates, totalling 100 fits\n"
     ]
    },
    {
     "name": "stderr",
     "output_type": "stream",
     "text": [
      "[Parallel(n_jobs=-1)]: Done  17 tasks      | elapsed:    0.1s\n",
      "[Parallel(n_jobs=-1)]: Done 100 out of 100 | elapsed:    2.3s finished\n"
     ]
    },
    {
     "name": "stdout",
     "output_type": "stream",
     "text": [
      "Precision for 10 fold CV = 0.87\n",
      "!!!!!!!! Best-Fit Parameters From Training Data !!!!!!!!!!!!!!\n",
      "{'n_estimators': 155, 'min_samples_split': 10, 'max_features': 'auto', 'max_depth': 45}\n",
      " \n",
      " \n",
      "\n",
      "Out of Loop\n"
     ]
    }
   ],
   "source": [
    "#from sklearn.pipeline import Pipeline\n",
    "\n",
    "#pipeline = Pipeline(pipe_steps)\n",
    "# I love You So Much \n",
    "from tqdm import tqdm_notebook as tqdm\n",
    "from sklearn.model_selection import RandomizedSearchCV\n",
    "import warnings\n",
    "warnings.filterwarnings(\"ignore\")\n",
    "rf=RandomForestClassifier(random_state=0)\n",
    "print(\"Start Fitting Training Data\")\n",
    "for cvx in tqdm(range(5,11)):\n",
    "    rf_random = RandomizedSearchCV(estimator = rf, param_distributions = random_grid, n_iter = 10, cv = cvx, verbose=2, random_state=42, n_jobs = -1, scoring='precision')\n",
    "   \n",
    "    rf_random.fit(x,y)\n",
    "    \n",
    "    print(\"Precision for %d fold CV = %3.2f\"%(cvx,rf_random.score(x,y)))\n",
    "    print (\"!!!!!!!! Best-Fit Parameters From Training Data !!!!!!!!!!!!!!\")\n",
    "    print (rf_random.best_params_)\n",
    "    print(\" \")\n",
    "    print(\" \")\n",
    "    \n",
    "print(\"Out of Loop\")"
   ]
  },
  {
   "cell_type": "code",
   "execution_count": 194,
   "metadata": {},
   "outputs": [],
   "source": [
    "def models_lr(x,y):\n",
    "    mod = {}\n",
    "    model = LogisticRegression().fit(x,y)\n",
    "    ypred = model.predict(x_test)\n",
    "    mod['Model'] = 'LogisticRegression'\n",
    "    mod['Train_Score'] = model.score(x_train,y_train)\n",
    "    mod['Test_accuracy'] = metrics.accuracy_score(y_test,ypred)\n",
    "    mod['f1score'] = metrics.f1_score(y_test,ypred)\n",
    "    mod['recall'] = metrics.recall_score(y_test, ypred)\n",
    "    mod['precision'] = metrics.precision_score(y_test, ypred)\n",
    "    model.predict_proba(x_test)\n",
    "    mod['roc_auc'] = metrics.roc_auc_score(y_test,ypred)\n",
    "    return mod\n",
    "l.append(models_lr(x_train,y_train))\n",
    "\n",
    "def models_dt(x,y):\n",
    "    mod = {}\n",
    "    model = DecisionTreeClassifier().fit(x,y)\n",
    "    ypred = model.predict(x_test)\n",
    "    mod['Model'] = 'Decision Tree'\n",
    "    mod['Train_Score'] = model.score(x_train,y_train)\n",
    "    mod['Test_accuracy'] = metrics.accuracy_score(y_test,ypred)\n",
    "    mod['f1score'] = metrics.f1_score(y_test,ypred)\n",
    "    mod['recall'] = metrics.recall_score(y_test, ypred)\n",
    "    mod['precision'] = metrics.precision_score(y_test, ypred)\n",
    "    model.predict_proba(x_test)\n",
    "    mod['roc_auc'] = metrics.roc_auc_score(y_test,ypred)\n",
    "    return mod\n",
    "l.append(models_dt(x_train,y_train))\n",
    "\n",
    "def models_rf(x,y):\n",
    "    mod = {}\n",
    "    model = RandomForestClassifier().fit(x,y)\n",
    "    ypred = model.predict(x_test)\n",
    "    mod['Model'] = 'Random Forest'\n",
    "    mod['Train_Score'] = model.score(x_train,y_train)\n",
    "    mod['Test_accuracy'] = metrics.accuracy_score(y_test,ypred)\n",
    "    mod['f1score'] = metrics.f1_score(y_test,ypred)\n",
    "    mod['recall'] = metrics.recall_score(y_test, ypred)\n",
    "    mod['precision'] = metrics.precision_score(y_test, ypred)\n",
    "    model.predict_proba(x_test)\n",
    "    mod['roc_auc'] = metrics.roc_auc_score(y_test,ypred)\n",
    "    return mod\n",
    "l.append(models_rf(x_train,y_train))\n",
    "\n",
    "def models_nb(x,y):\n",
    "    mod = {}\n",
    "    model = GaussianNB().fit(x,y)\n",
    "    ypred = model.predict(x_test)\n",
    "    mod['Model'] = 'GaussianNB'\n",
    "    mod['Train_Score'] = model.score(x_train,y_train)\n",
    "    mod['Test_accuracy'] = metrics.accuracy_score(y_test,ypred)\n",
    "    mod['f1score'] = metrics.f1_score(y_test,ypred)\n",
    "    mod['recall'] = metrics.recall_score(y_test, ypred)\n",
    "    mod['precision'] = metrics.precision_score(y_test, ypred)\n",
    "    model.predict_proba(x_test)\n",
    "    mod['roc_auc'] = metrics.roc_auc_score(y_test,ypred)\n",
    "    return mod\n",
    "l.append(models_nb(x_train,y_train))\n",
    "\n",
    "def models_knn(x,y):\n",
    "    mod = {}\n",
    "    model = KNeighborsClassifier().fit(x,y)\n",
    "    ypred = model.predict(x_test1)\n",
    "    mod['Model'] = 'KNN'\n",
    "    mod['Train_Score'] = model.score(x_train1,y_train)\n",
    "    mod['Test_accuracy'] = metrics.accuracy_score(y_test,ypred)\n",
    "    mod['f1score'] = metrics.f1_score(y_test,ypred)\n",
    "    mod['recall'] = metrics.recall_score(y_test, ypred)\n",
    "    mod['precision'] = metrics.precision_score(y_test, ypred)\n",
    "    model.predict_proba(x_test)\n",
    "    mod['roc_auc'] = metrics.roc_auc_score(y_test,ypred)\n",
    "    return mod\n",
    "l.append(models_knn(x_train1,y_train))"
   ]
  },
  {
   "cell_type": "code",
   "execution_count": 195,
   "metadata": {},
   "outputs": [
    {
     "data": {
      "text/html": [
       "<div>\n",
       "<style scoped>\n",
       "    .dataframe tbody tr th:only-of-type {\n",
       "        vertical-align: middle;\n",
       "    }\n",
       "\n",
       "    .dataframe tbody tr th {\n",
       "        vertical-align: top;\n",
       "    }\n",
       "\n",
       "    .dataframe thead th {\n",
       "        text-align: right;\n",
       "    }\n",
       "</style>\n",
       "<table border=\"1\" class=\"dataframe\">\n",
       "  <thead>\n",
       "    <tr style=\"text-align: right;\">\n",
       "      <th></th>\n",
       "      <th>Model</th>\n",
       "      <th>Train_Score</th>\n",
       "      <th>Test_accuracy</th>\n",
       "      <th>f1score</th>\n",
       "      <th>recall</th>\n",
       "      <th>precision</th>\n",
       "      <th>roc_auc</th>\n",
       "    </tr>\n",
       "  </thead>\n",
       "  <tbody>\n",
       "    <tr>\n",
       "      <th>0</th>\n",
       "      <td>LogisticRegression</td>\n",
       "      <td>0.972056</td>\n",
       "      <td>0.930556</td>\n",
       "      <td>0.666667</td>\n",
       "      <td>0.652174</td>\n",
       "      <td>0.681818</td>\n",
       "      <td>0.807952</td>\n",
       "    </tr>\n",
       "    <tr>\n",
       "      <th>1</th>\n",
       "      <td>Decision Tree</td>\n",
       "      <td>1.000000</td>\n",
       "      <td>0.930556</td>\n",
       "      <td>0.651163</td>\n",
       "      <td>0.608696</td>\n",
       "      <td>0.700000</td>\n",
       "      <td>0.788804</td>\n",
       "    </tr>\n",
       "    <tr>\n",
       "      <th>2</th>\n",
       "      <td>Random Forest</td>\n",
       "      <td>1.000000</td>\n",
       "      <td>0.930556</td>\n",
       "      <td>0.666667</td>\n",
       "      <td>0.652174</td>\n",
       "      <td>0.681818</td>\n",
       "      <td>0.807952</td>\n",
       "    </tr>\n",
       "    <tr>\n",
       "      <th>3</th>\n",
       "      <td>GaussianNB</td>\n",
       "      <td>0.345309</td>\n",
       "      <td>0.342593</td>\n",
       "      <td>0.211111</td>\n",
       "      <td>0.826087</td>\n",
       "      <td>0.121019</td>\n",
       "      <td>0.555531</td>\n",
       "    </tr>\n",
       "    <tr>\n",
       "      <th>4</th>\n",
       "      <td>KNN</td>\n",
       "      <td>0.954092</td>\n",
       "      <td>0.907407</td>\n",
       "      <td>0.444444</td>\n",
       "      <td>0.347826</td>\n",
       "      <td>0.615385</td>\n",
       "      <td>0.660960</td>\n",
       "    </tr>\n",
       "  </tbody>\n",
       "</table>\n",
       "</div>"
      ],
      "text/plain": [
       "                Model  Train_Score  Test_accuracy   f1score    recall  \\\n",
       "0  LogisticRegression     0.972056       0.930556  0.666667  0.652174   \n",
       "1       Decision Tree     1.000000       0.930556  0.651163  0.608696   \n",
       "2       Random Forest     1.000000       0.930556  0.666667  0.652174   \n",
       "3          GaussianNB     0.345309       0.342593  0.211111  0.826087   \n",
       "4                 KNN     0.954092       0.907407  0.444444  0.347826   \n",
       "\n",
       "   precision   roc_auc  \n",
       "0   0.681818  0.807952  \n",
       "1   0.700000  0.788804  \n",
       "2   0.681818  0.807952  \n",
       "3   0.121019  0.555531  \n",
       "4   0.615385  0.660960  "
      ]
     },
     "execution_count": 195,
     "metadata": {},
     "output_type": "execute_result"
    }
   ],
   "source": [
    "base_df = pd.DataFrame(l)\n",
    "base_df"
   ]
  },
  {
   "cell_type": "code",
   "execution_count": null,
   "metadata": {},
   "outputs": [],
   "source": []
  },
  {
   "cell_type": "code",
   "execution_count": null,
   "metadata": {},
   "outputs": [],
   "source": []
  },
  {
   "cell_type": "markdown",
   "metadata": {},
   "source": [
    "# MY MODELS + GRID_SearchCV "
   ]
  },
  {
   "cell_type": "code",
   "execution_count": 78,
   "metadata": {},
   "outputs": [
    {
     "data": {
      "text/plain": [
       "0.9305555555555556"
      ]
     },
     "execution_count": 78,
     "metadata": {},
     "output_type": "execute_result"
    }
   ],
   "source": [
    "# lOGISTICS REGRESSION\n",
    "\n",
    "from sklearn.linear_model import LogisticRegression \n",
    "logitmodeldf = LogisticRegression(solver='liblinear').fit(x_train,y_train)\n",
    "y_pred=logitmodeldf.predict(x_test)\n",
    "\n",
    "\n",
    "from sklearn.metrics import accuracy_score\n",
    "accuracy_score(y_test, y_pred)"
   ]
  },
  {
   "cell_type": "code",
   "execution_count": 79,
   "metadata": {},
   "outputs": [
    {
     "name": "stdout",
     "output_type": "stream",
     "text": [
      "0.9359097127222983\n"
     ]
    }
   ],
   "source": [
    "from sklearn.model_selection import cross_val_score\n",
    "svc=SVC(kernel='rbf')\n",
    "scores2 = cross_val_score(svc, x, y, cv=10, scoring='accuracy') #cv is cross validation\n",
    "print(scores2.mean())"
   ]
  },
  {
   "cell_type": "markdown",
   "metadata": {},
   "source": [
    "## WIHOUT PCA"
   ]
  },
  {
   "cell_type": "code",
   "execution_count": 80,
   "metadata": {},
   "outputs": [
    {
     "name": "stdout",
     "output_type": "stream",
     "text": [
      "Start Fitting Training Data\n"
     ]
    },
    {
     "data": {
      "application/vnd.jupyter.widget-view+json": {
       "model_id": "406525150f124db392b528dd01da3cdb",
       "version_major": 2,
       "version_minor": 0
      },
      "text/plain": [
       "HBox(children=(FloatProgress(value=0.0, max=6.0), HTML(value='')))"
      ]
     },
     "metadata": {},
     "output_type": "display_data"
    },
    {
     "name": "stdout",
     "output_type": "stream",
     "text": [
      "Score for 5 fold CV = 0.97\n",
      "!!!!!!!! Best-Fit Parameters From Training Data !!!!!!!!!!!!!!\n",
      "{'SupVM__C': 10, 'SupVM__gamma': 0.001}\n",
      " \n",
      " \n",
      "Score for 6 fold CV = 0.97\n",
      "!!!!!!!! Best-Fit Parameters From Training Data !!!!!!!!!!!!!!\n",
      "{'SupVM__C': 10, 'SupVM__gamma': 0.001}\n",
      " \n",
      " \n",
      "Score for 7 fold CV = 0.97\n",
      "!!!!!!!! Best-Fit Parameters From Training Data !!!!!!!!!!!!!!\n",
      "{'SupVM__C': 10, 'SupVM__gamma': 0.001}\n",
      " \n",
      " \n",
      "Score for 8 fold CV = 0.97\n",
      "!!!!!!!! Best-Fit Parameters From Training Data !!!!!!!!!!!!!!\n",
      "{'SupVM__C': 10, 'SupVM__gamma': 0.001}\n",
      " \n",
      " \n",
      "Score for 9 fold CV = 0.97\n",
      "!!!!!!!! Best-Fit Parameters From Training Data !!!!!!!!!!!!!!\n",
      "{'SupVM__C': 10, 'SupVM__gamma': 0.001}\n",
      " \n",
      " \n",
      "Score for 10 fold CV = 0.97\n",
      "!!!!!!!! Best-Fit Parameters From Training Data !!!!!!!!!!!!!!\n",
      "{'SupVM__C': 10, 'SupVM__gamma': 0.001}\n",
      " \n",
      " \n",
      "\n",
      "Out of Loop\n"
     ]
    }
   ],
   "source": [
    "from sklearn.svm import SVC\n",
    "\n",
    "from sklearn.model_selection import GridSearchCV\n",
    "\n",
    "from sklearn import preprocessing \n",
    "from sklearn.preprocessing import StandardScaler\n",
    "\n",
    "\n",
    "pipe_steps = [('scaler', StandardScaler()), ('SupVM', SVC(kernel='rbf'))]\n",
    "\n",
    "\n",
    "check_params= { \n",
    "    'SupVM__C': [0.001,0.005,0.1, 0.5, 1, 10,30,40,41,42,43], \n",
    "    'SupVM__gamma' : [0.001, 0.005, 0.01, 0.05, 0.07, 0.1, 0.5, 1, 5, 10, 50]\n",
    "}\n",
    "\n",
    "\n",
    "\n",
    "\n",
    "from sklearn.pipeline import Pipeline\n",
    "\n",
    "pipeline = Pipeline(pipe_steps)\n",
    "# I love You So Much \n",
    "from tqdm import tqdm_notebook as tqdm\n",
    "from sklearn.model_selection import GridSearchCV\n",
    "import warnings\n",
    "warnings.filterwarnings(\"ignore\")\n",
    "\n",
    "print(\"Start Fitting Training Data\")\n",
    "for cvx in tqdm(range(5,11)):\n",
    "    newgrid=GridSearchCV(pipeline,param_grid=check_params,cv=cvx)\n",
    "   \n",
    "    newgrid.fit(x,y)\n",
    "    \n",
    "    print(\"Score for %d fold CV = %3.2f\"%(cvx,newgrid.score(x,y)))\n",
    "    print (\"!!!!!!!! Best-Fit Parameters From Training Data !!!!!!!!!!!!!!\")\n",
    "    print (newgrid.best_params_)\n",
    "    print(\" \")\n",
    "    print(\" \")\n",
    "    \n",
    "print(\"Out of Loop\")"
   ]
  },
  {
   "cell_type": "code",
   "execution_count": 81,
   "metadata": {},
   "outputs": [],
   "source": [
    "xde=x\n",
    "yde=y"
   ]
  },
  {
   "cell_type": "code",
   "execution_count": 82,
   "metadata": {},
   "outputs": [
    {
     "name": "stdout",
     "output_type": "stream",
     "text": [
      "train feature shape:  (686, 50)\n",
      "test feature shape:  (172, 50)\n"
     ]
    }
   ],
   "source": [
    "xde_train, xde_test, yde_train, yde_test = train_test_split(xde,yde,test_size=0.2,random_state=20)\n",
    "print (\"train feature shape: \", xde_train.shape)\n",
    "print (\"test feature shape: \",xde_test.shape)"
   ]
  },
  {
   "cell_type": "code",
   "execution_count": 83,
   "metadata": {},
   "outputs": [],
   "source": [
    "\n",
    "\n",
    "from sklearn.ensemble import AdaBoostClassifier\n",
    "from sklearn.tree import DecisionTreeClassifier\n",
    "from sklearn.metrics import confusion_matrix\n",
    "\n",
    "\n",
    "\n",
    "\n",
    "\n",
    "# Scale the data to be between -1 and 1\n",
    "scaler = StandardScaler()\n",
    "scaler.fit(xde_train)\n",
    "xde_train = scaler.transform(xde_train)\n",
    "xde_test = scaler.transform(xde_test)\n"
   ]
  },
  {
   "cell_type": "code",
   "execution_count": 84,
   "metadata": {},
   "outputs": [
    {
     "name": "stdout",
     "output_type": "stream",
     "text": [
      "Accuracy: 94.77%\n",
      "Precision : 44.44%\n",
      "Recall: 50.00%\n",
      "F1 : 47.06%\n"
     ]
    }
   ],
   "source": [
    "classifier = AdaBoostClassifier(\n",
    "    DecisionTreeClassifier(max_depth=1),\n",
    "    n_estimators=200\n",
    ")\n",
    "classifier.fit(xde_train, yde_train)\n",
    "predictions = classifier.predict(xde_test)\n",
    "\n",
    "\n",
    "from sklearn.metrics import accuracy_score\n",
    "from sklearn.metrics import f1_score\n",
    "from sklearn.metrics import recall_score\n",
    "from sklearn.metrics import precision_score\n",
    "\n",
    "\n",
    "accuracy = accuracy_score(yde_test, predictions)\n",
    "\n",
    "f1 = f1_score(yde_test, predictions)\n",
    "re = recall_score(yde_test, predictions)\n",
    "pre = precision_score(yde_test, predictions)\n",
    "\n",
    "print(\"Accuracy: %.2f%%\" % (accuracy * 100.0))\n",
    "print(\"Precision : %.2f%%\" % (pre * 100.0))\n",
    "print(\"Recall: %.2f%%\" % (re * 100.0))\n",
    "print(\"F1 : %.2f%%\" % (f1 * 100.0))"
   ]
  },
  {
   "cell_type": "code",
   "execution_count": 85,
   "metadata": {},
   "outputs": [
    {
     "name": "stdout",
     "output_type": "stream",
     "text": [
      "Accuracy: 94.77%\n"
     ]
    }
   ],
   "source": [
    "# XG Boost\n",
    " \n",
    "from numpy import loadtxt\n",
    "from xgboost import XGBClassifier\n",
    "from sklearn.model_selection import train_test_split\n",
    "from sklearn.metrics import accuracy_score\n",
    " \n",
    "seed = 7\n",
    "test_size = 0.33\n",
    "\n",
    "model = XGBClassifier()\n",
    "model.fit(xde_train, yde_train)\n",
    "# make predictions for test data\n",
    "y_pred = model.predict(xde_test)\n",
    "predictions = [round(value) for value in y_pred]\n",
    "# evaluate predictions\n",
    "accuracy = accuracy_score(yde_test, predictions)\n",
    "print(\"Accuracy: %.2f%%\" % (accuracy * 100.0))"
   ]
  },
  {
   "cell_type": "code",
   "execution_count": 86,
   "metadata": {},
   "outputs": [],
   "source": [
    "from sklearn.svm import SVC\n",
    "\n",
    "from sklearn.model_selection import GridSearchCV\n",
    "\n",
    "from sklearn import preprocessing \n",
    "from sklearn.preprocessing import StandardScaler"
   ]
  },
  {
   "cell_type": "code",
   "execution_count": 87,
   "metadata": {},
   "outputs": [
    {
     "name": "stdout",
     "output_type": "stream",
     "text": [
      "Start Fitting Training Data\n"
     ]
    },
    {
     "data": {
      "application/vnd.jupyter.widget-view+json": {
       "model_id": "682b5e87a903458680fa1cc2bd8cac32",
       "version_major": 2,
       "version_minor": 0
      },
      "text/plain": [
       "HBox(children=(FloatProgress(value=0.0, max=4.0), HTML(value='')))"
      ]
     },
     "metadata": {},
     "output_type": "display_data"
    },
    {
     "name": "stdout",
     "output_type": "stream",
     "text": [
      "Score for 2 fold CV = 0.96\n",
      "!!!!!!!! Best-Fit Parameters From Training Data !!!!!!!!!!!!!!\n",
      "{'SupVM__C': 75, 'SupVM__gamma': 0.001, 'pca__n_components': 4}\n",
      " \n",
      " \n",
      "Score for 3 fold CV = 0.97\n",
      "!!!!!!!! Best-Fit Parameters From Training Data !!!!!!!!!!!!!!\n",
      "{'SupVM__C': 5, 'SupVM__gamma': 0.05, 'pca__n_components': 4}\n",
      " \n",
      " \n",
      "Score for 4 fold CV = 0.97\n",
      "!!!!!!!! Best-Fit Parameters From Training Data !!!!!!!!!!!!!!\n",
      "{'SupVM__C': 1000, 'SupVM__gamma': 0.01, 'pca__n_components': 4}\n",
      " \n",
      " \n",
      "Score for 5 fold CV = 0.97\n",
      "!!!!!!!! Best-Fit Parameters From Training Data !!!!!!!!!!!!!!\n",
      "{'SupVM__C': 500, 'SupVM__gamma': 0.005, 'pca__n_components': 4}\n",
      " \n",
      " \n",
      "\n",
      "Out of Loop\n"
     ]
    }
   ],
   "source": [
    "pipe_steps = [('scaler', StandardScaler()), ('pca', PCA()), ('SupVM', SVC(kernel='rbf'))]\n",
    "\n",
    "check_params= {\n",
    "    'pca__n_components': [4], \n",
    "    'SupVM__C': [0.1, 0.5, 0.001, 0.01,0.04, 1,5,10,50, 75, 100, 500, 1000], \n",
    "    'SupVM__gamma' : [0.001, 0.005, 0.01, 0.05, 0.07, 0.1, 0.5, 1, 5, 10, 50]\n",
    "}\n",
    "from sklearn.pipeline import Pipeline\n",
    "\n",
    "pipeline = Pipeline(pipe_steps)\n",
    "\n",
    "# I love You So Much \n",
    "from tqdm import tqdm_notebook as tqdm\n",
    "\n",
    "from sklearn.model_selection import GridSearchCV\n",
    "import warnings\n",
    "warnings.filterwarnings(\"ignore\")\n",
    "\n",
    "print(\"Start Fitting Training Data\")\n",
    "for cvx in tqdm(range(2,6)):\n",
    "    newgrid=GridSearchCV(pipeline,param_grid=check_params,cv=cvx)\n",
    "    newgrid.fit(xde,yde)\n",
    "    print(\"Score for %d fold CV = %3.2f\"%(cvx,newgrid.score(xde,yde)))\n",
    "    print (\"!!!!!!!! Best-Fit Parameters From Training Data !!!!!!!!!!!!!!\")\n",
    "    print (newgrid.best_params_)\n",
    "    print(\" \")\n",
    "    print(\" \")\n",
    "    \n",
    "print(\"Out of Loop\")"
   ]
  },
  {
   "cell_type": "code",
   "execution_count": 201,
   "metadata": {},
   "outputs": [
    {
     "name": "stdout",
     "output_type": "stream",
     "text": [
      "0.7911585365853658\n"
     ]
    }
   ],
   "source": [
    "svc=SVC(kernel='rbf',gamma=0.05,C=5)\n",
    "svc.fit(xde_train,yde_train)\n",
    "y_pred=svc.predict(xde_test)\n",
    "accuracy=metrics.roc_auc_score(yde_test,y_pred)\n",
    "print(accuracy)"
   ]
  },
  {
   "cell_type": "code",
   "execution_count": 196,
   "metadata": {},
   "outputs": [],
   "source": [
    "\n",
    "\n",
    "from sklearn.ensemble import AdaBoostClassifier\n",
    "from sklearn.tree import DecisionTreeClassifier\n",
    "from sklearn.metrics import confusion_matrix\n",
    "\n",
    "\n",
    "\n",
    "# Scale the data to be between -1 and 1\n",
    "scaler = StandardScaler()\n",
    "scaler.fit(xde_train)\n",
    "x_train = scaler.transform(x_train)\n",
    "x_test = scaler.transform(x_test)\n"
   ]
  },
  {
   "cell_type": "code",
   "execution_count": 197,
   "metadata": {},
   "outputs": [
    {
     "name": "stdout",
     "output_type": "stream",
     "text": [
      "Accuracy: 91.67%\n",
      "Precision : 63.16%\n",
      "Recall: 52.17%\n",
      "F1 : 57.14%\n",
      "auc : 74.27%\n"
     ]
    }
   ],
   "source": [
    "# XG Boost\n",
    " \n",
    "from numpy import loadtxt\n",
    "from xgboost import XGBClassifier\n",
    "from sklearn.model_selection import train_test_split\n",
    "from sklearn.metrics import accuracy_score\n",
    "from sklearn.metrics import accuracy_score\n",
    "from sklearn.metrics import f1_score\n",
    "from sklearn.metrics import recall_score\n",
    "from sklearn.metrics import precision_score\n",
    " \n",
    "seed = 7\n",
    "test_size = 0.33\n",
    "\n",
    "model = XGBClassifier()\n",
    "model.fit(x_train, y_train)\n",
    "# make predictions for test data\n",
    "y_pred = model.predict(x_test)\n",
    "predictions = [round(value) for value in y_pred]\n",
    "# evaluate predictions\n",
    "accuracy = accuracy_score(y_test, predictions)\n",
    "\n",
    "f1 = f1_score(y_test, predictions)\n",
    "re = recall_score(y_test, predictions)\n",
    "pre = precision_score(y_test, predictions)\n",
    "auc =roc_auc_score(y_test, predictions)\n",
    "\n",
    "print(\"Accuracy: %.2f%%\" % (accuracy * 100.0))\n",
    "print(\"Precision : %.2f%%\" % (pre * 100.0))\n",
    "print(\"Recall: %.2f%%\" % (re * 100.0))\n",
    "print(\"F1 : %.2f%%\" % (f1 * 100.0))\n",
    "print(\"auc : %.2f%%\" % (auc * 100.0))"
   ]
  },
  {
   "cell_type": "code",
   "execution_count": 198,
   "metadata": {},
   "outputs": [
    {
     "name": "stdout",
     "output_type": "stream",
     "text": [
      "Accuracy: 92.59%\n",
      "Precision : 68.42%\n",
      "Recall: 56.52%\n",
      "F1 : 61.90%\n",
      "auc : 76.71%\n"
     ]
    }
   ],
   "source": [
    "classifier = AdaBoostClassifier(\n",
    "    DecisionTreeClassifier(max_depth=1),\n",
    "    n_estimators=200\n",
    ")\n",
    "classifier.fit(x_train, y_train)\n",
    "predictions = classifier.predict(x_test)\n",
    "\n",
    "\n",
    "from sklearn.metrics import accuracy_score\n",
    "from sklearn.metrics import f1_score\n",
    "from sklearn.metrics import recall_score\n",
    "from sklearn.metrics import precision_score\n",
    "\n",
    "\n",
    "accuracy = accuracy_score(y_test, predictions)\n",
    "f1 = f1_score(y_test, predictions)\n",
    "re = recall_score(y_test, predictions)\n",
    "pre = precision_score(y_test, predictions)\n",
    "auc =roc_auc_score(y_test, predictions)\n",
    "\n",
    "print(\"Accuracy: %.2f%%\" % (accuracy * 100.0))\n",
    "print(\"Precision : %.2f%%\" % (pre * 100.0))\n",
    "print(\"Recall: %.2f%%\" % (re * 100.0))\n",
    "print(\"F1 : %.2f%%\" % (f1 * 100.0))\n",
    "print(\"auc : %.2f%%\" % (auc * 100.0))"
   ]
  },
  {
   "cell_type": "code",
   "execution_count": 200,
   "metadata": {},
   "outputs": [
    {
     "data": {
      "text/plain": [
       "0.936046511627907"
      ]
     },
     "execution_count": 200,
     "metadata": {},
     "output_type": "execute_result"
    }
   ],
   "source": [
    "# lOGISTICS REGRESSION ACCURACY\n",
    "\n",
    "from sklearn.linear_model import LogisticRegression \n",
    "logitmodeldf = LogisticRegression(solver='liblinear').fit(xde_train,yde_train)\n",
    "y_pred=logitmodeldf.predict(xde_test)\n",
    "\n",
    "\n",
    "from sklearn.metrics import accuracy_score\n",
    "accuracy_score(yde_test, y_pred)"
   ]
  },
  {
   "cell_type": "code",
   "execution_count": 177,
   "metadata": {},
   "outputs": [
    {
     "data": {
      "text/plain": [
       "0.6470588235294118"
      ]
     },
     "execution_count": 177,
     "metadata": {},
     "output_type": "execute_result"
    }
   ],
   "source": [
    "# lOGISTICS REGRESSION PRECISION \n",
    "\n",
    "\n",
    "from sklearn.linear_model import LogisticRegression \n",
    "logitmodeldf = LogisticRegression(solver='liblinear').fit(x_train,y_train)\n",
    "y_pred=logitmodeldf.predict(x_test)\n",
    "\n",
    "\n",
    "\n",
    "from sklearn.metrics import precision_score\n",
    "precision_score(y_test, y_pred)"
   ]
  },
  {
   "cell_type": "code",
   "execution_count": 178,
   "metadata": {},
   "outputs": [
    {
     "data": {
      "text/plain": [
       "0.5789473684210527"
      ]
     },
     "execution_count": 178,
     "metadata": {},
     "output_type": "execute_result"
    }
   ],
   "source": [
    "# lOGISTICS REGRESSION RECALLL\n",
    "\n",
    "\n",
    "from sklearn.linear_model import LogisticRegression \n",
    "logitmodeldf = LogisticRegression(solver='liblinear').fit(x_train,y_train)\n",
    "y_pred=logitmodeldf.predict(x_test)\n",
    "\n",
    "\n",
    "\n",
    "from sklearn.metrics import recall_score\n",
    "recall_score(y_test, y_pred)"
   ]
  },
  {
   "cell_type": "code",
   "execution_count": 180,
   "metadata": {},
   "outputs": [
    {
     "data": {
      "text/plain": [
       "0.7769213829552962"
      ]
     },
     "execution_count": 180,
     "metadata": {},
     "output_type": "execute_result"
    }
   ],
   "source": [
    "# lOGISTICS REGRESSION AUC_SCORE\n",
    "\n",
    "\n",
    "from sklearn.linear_model import LogisticRegression \n",
    "logitmodeldf = LogisticRegression(solver='liblinear').fit(x_train,y_train)\n",
    "y_pred=logitmodeldf.predict(x_test)\n",
    "\n",
    "\n",
    "from sklearn.metrics import roc_auc_score\n",
    "roc_auc_score(y_test, y_pred)"
   ]
  },
  {
   "cell_type": "code",
   "execution_count": null,
   "metadata": {},
   "outputs": [],
   "source": []
  },
  {
   "cell_type": "code",
   "execution_count": null,
   "metadata": {},
   "outputs": [],
   "source": []
  },
  {
   "cell_type": "code",
   "execution_count": null,
   "metadata": {},
   "outputs": [],
   "source": []
  },
  {
   "cell_type": "code",
   "execution_count": null,
   "metadata": {},
   "outputs": [],
   "source": []
  },
  {
   "cell_type": "code",
   "execution_count": null,
   "metadata": {},
   "outputs": [],
   "source": []
  },
  {
   "cell_type": "code",
   "execution_count": null,
   "metadata": {},
   "outputs": [],
   "source": []
  },
  {
   "cell_type": "markdown",
   "metadata": {},
   "source": [
    "## CLUSTER CENTROID : Undersampling method \n",
    "\n",
    "https://imbalanced-learn.readthedocs.io/en/stable/generated/imblearn.under_sampling.ClusterCentroids.html#:~:text=ClusterCentroids,-class%20imblearn.under_sampling&text=Perform%20under%2Dsampling%20by%20generating,centroid%20of%20a%20KMeans%20algorithm"
   ]
  },
  {
   "cell_type": "code",
   "execution_count": 88,
   "metadata": {},
   "outputs": [
    {
     "data": {
      "text/html": [
       "<div>\n",
       "<style scoped>\n",
       "    .dataframe tbody tr th:only-of-type {\n",
       "        vertical-align: middle;\n",
       "    }\n",
       "\n",
       "    .dataframe tbody tr th {\n",
       "        vertical-align: top;\n",
       "    }\n",
       "\n",
       "    .dataframe thead th {\n",
       "        text-align: right;\n",
       "    }\n",
       "</style>\n",
       "<table border=\"1\" class=\"dataframe\">\n",
       "  <thead>\n",
       "    <tr style=\"text-align: right;\">\n",
       "      <th></th>\n",
       "      <th>Age</th>\n",
       "      <th>Number of sexual partners</th>\n",
       "      <th>First sexual intercourse</th>\n",
       "      <th>Num of pregnancies</th>\n",
       "      <th>Smokes (years)</th>\n",
       "      <th>Smokes (packs/year)</th>\n",
       "      <th>Hormonal Contraceptives (years)</th>\n",
       "      <th>IUD (years)</th>\n",
       "      <th>STDs (number)</th>\n",
       "      <th>STDs:condylomatosis</th>\n",
       "      <th>...</th>\n",
       "      <th>Dx:HPV_0</th>\n",
       "      <th>Dx:HPV_1</th>\n",
       "      <th>Dx_0</th>\n",
       "      <th>Dx_1</th>\n",
       "      <th>Hinselmann_0</th>\n",
       "      <th>Hinselmann_1</th>\n",
       "      <th>Citology_0</th>\n",
       "      <th>Citology_1</th>\n",
       "      <th>Schiller_0</th>\n",
       "      <th>Schiller_1</th>\n",
       "    </tr>\n",
       "  </thead>\n",
       "  <tbody>\n",
       "    <tr>\n",
       "      <th>0</th>\n",
       "      <td>31</td>\n",
       "      <td>2.63636</td>\n",
       "      <td>17.1364</td>\n",
       "      <td>2.5</td>\n",
       "      <td>0.00727273</td>\n",
       "      <td>4.54545e-05</td>\n",
       "      <td>9.59091</td>\n",
       "      <td>0.238636</td>\n",
       "      <td>0.272727</td>\n",
       "      <td>0.136364</td>\n",
       "      <td>...</td>\n",
       "      <td>0</td>\n",
       "      <td>0</td>\n",
       "      <td>0</td>\n",
       "      <td>0</td>\n",
       "      <td>1</td>\n",
       "      <td>0</td>\n",
       "      <td>0</td>\n",
       "      <td>0</td>\n",
       "      <td>1</td>\n",
       "      <td>0</td>\n",
       "    </tr>\n",
       "    <tr>\n",
       "      <th>1</th>\n",
       "      <td>26</td>\n",
       "      <td>4.41463</td>\n",
       "      <td>16.1951</td>\n",
       "      <td>2.7561</td>\n",
       "      <td>0.0487805</td>\n",
       "      <td>0.00487805</td>\n",
       "      <td>0.743902</td>\n",
       "      <td>0.195122</td>\n",
       "      <td>0.097561</td>\n",
       "      <td>0.0243902</td>\n",
       "      <td>...</td>\n",
       "      <td>0</td>\n",
       "      <td>0</td>\n",
       "      <td>0</td>\n",
       "      <td>0</td>\n",
       "      <td>1</td>\n",
       "      <td>0</td>\n",
       "      <td>0</td>\n",
       "      <td>0</td>\n",
       "      <td>0</td>\n",
       "      <td>0</td>\n",
       "    </tr>\n",
       "    <tr>\n",
       "      <th>2</th>\n",
       "      <td>28</td>\n",
       "      <td>7.75</td>\n",
       "      <td>16.5</td>\n",
       "      <td>1.25</td>\n",
       "      <td>10.75</td>\n",
       "      <td>4.4533</td>\n",
       "      <td>0.1875</td>\n",
       "      <td>0</td>\n",
       "      <td>0</td>\n",
       "      <td>0</td>\n",
       "      <td>...</td>\n",
       "      <td>1</td>\n",
       "      <td>0</td>\n",
       "      <td>1</td>\n",
       "      <td>0</td>\n",
       "      <td>1</td>\n",
       "      <td>0</td>\n",
       "      <td>1</td>\n",
       "      <td>0</td>\n",
       "      <td>1</td>\n",
       "      <td>0</td>\n",
       "    </tr>\n",
       "    <tr>\n",
       "      <th>3</th>\n",
       "      <td>59</td>\n",
       "      <td>2</td>\n",
       "      <td>13</td>\n",
       "      <td>2</td>\n",
       "      <td>0</td>\n",
       "      <td>0</td>\n",
       "      <td>0</td>\n",
       "      <td>0.41</td>\n",
       "      <td>0</td>\n",
       "      <td>0</td>\n",
       "      <td>...</td>\n",
       "      <td>1</td>\n",
       "      <td>0</td>\n",
       "      <td>0</td>\n",
       "      <td>1</td>\n",
       "      <td>1</td>\n",
       "      <td>0</td>\n",
       "      <td>1</td>\n",
       "      <td>0</td>\n",
       "      <td>1</td>\n",
       "      <td>0</td>\n",
       "    </tr>\n",
       "    <tr>\n",
       "      <th>4</th>\n",
       "      <td>17</td>\n",
       "      <td>1.6</td>\n",
       "      <td>15.8857</td>\n",
       "      <td>1.35714</td>\n",
       "      <td>0.00714286</td>\n",
       "      <td>0.000714286</td>\n",
       "      <td>0.283857</td>\n",
       "      <td>4.996e-16</td>\n",
       "      <td>0.214286</td>\n",
       "      <td>0.0714286</td>\n",
       "      <td>...</td>\n",
       "      <td>1</td>\n",
       "      <td>0</td>\n",
       "      <td>1</td>\n",
       "      <td>0</td>\n",
       "      <td>0</td>\n",
       "      <td>0</td>\n",
       "      <td>0</td>\n",
       "      <td>0</td>\n",
       "      <td>0</td>\n",
       "      <td>0</td>\n",
       "    </tr>\n",
       "    <tr>\n",
       "      <th>...</th>\n",
       "      <td>...</td>\n",
       "      <td>...</td>\n",
       "      <td>...</td>\n",
       "      <td>...</td>\n",
       "      <td>...</td>\n",
       "      <td>...</td>\n",
       "      <td>...</td>\n",
       "      <td>...</td>\n",
       "      <td>...</td>\n",
       "      <td>...</td>\n",
       "      <td>...</td>\n",
       "      <td>...</td>\n",
       "      <td>...</td>\n",
       "      <td>...</td>\n",
       "      <td>...</td>\n",
       "      <td>...</td>\n",
       "      <td>...</td>\n",
       "      <td>...</td>\n",
       "      <td>...</td>\n",
       "      <td>...</td>\n",
       "      <td>...</td>\n",
       "    </tr>\n",
       "    <tr>\n",
       "      <th>105</th>\n",
       "      <td>28</td>\n",
       "      <td>4</td>\n",
       "      <td>18</td>\n",
       "      <td>4</td>\n",
       "      <td>0</td>\n",
       "      <td>0</td>\n",
       "      <td>0</td>\n",
       "      <td>0</td>\n",
       "      <td>0</td>\n",
       "      <td>0</td>\n",
       "      <td>...</td>\n",
       "      <td>1</td>\n",
       "      <td>0</td>\n",
       "      <td>1</td>\n",
       "      <td>0</td>\n",
       "      <td>1</td>\n",
       "      <td>0</td>\n",
       "      <td>1</td>\n",
       "      <td>0</td>\n",
       "      <td>0</td>\n",
       "      <td>1</td>\n",
       "    </tr>\n",
       "    <tr>\n",
       "      <th>106</th>\n",
       "      <td>33</td>\n",
       "      <td>3</td>\n",
       "      <td>18</td>\n",
       "      <td>2</td>\n",
       "      <td>0</td>\n",
       "      <td>0</td>\n",
       "      <td>0</td>\n",
       "      <td>0</td>\n",
       "      <td>0</td>\n",
       "      <td>0</td>\n",
       "      <td>...</td>\n",
       "      <td>1</td>\n",
       "      <td>0</td>\n",
       "      <td>1</td>\n",
       "      <td>0</td>\n",
       "      <td>0</td>\n",
       "      <td>1</td>\n",
       "      <td>0</td>\n",
       "      <td>1</td>\n",
       "      <td>0</td>\n",
       "      <td>1</td>\n",
       "    </tr>\n",
       "    <tr>\n",
       "      <th>107</th>\n",
       "      <td>25</td>\n",
       "      <td>6</td>\n",
       "      <td>17</td>\n",
       "      <td>2</td>\n",
       "      <td>0</td>\n",
       "      <td>0</td>\n",
       "      <td>2</td>\n",
       "      <td>0</td>\n",
       "      <td>3</td>\n",
       "      <td>1</td>\n",
       "      <td>...</td>\n",
       "      <td>1</td>\n",
       "      <td>0</td>\n",
       "      <td>1</td>\n",
       "      <td>0</td>\n",
       "      <td>1</td>\n",
       "      <td>0</td>\n",
       "      <td>0</td>\n",
       "      <td>1</td>\n",
       "      <td>0</td>\n",
       "      <td>1</td>\n",
       "    </tr>\n",
       "    <tr>\n",
       "      <th>108</th>\n",
       "      <td>33</td>\n",
       "      <td>3</td>\n",
       "      <td>19</td>\n",
       "      <td>3</td>\n",
       "      <td>0</td>\n",
       "      <td>0</td>\n",
       "      <td>0.16</td>\n",
       "      <td>3</td>\n",
       "      <td>0</td>\n",
       "      <td>0</td>\n",
       "      <td>...</td>\n",
       "      <td>0</td>\n",
       "      <td>1</td>\n",
       "      <td>0</td>\n",
       "      <td>1</td>\n",
       "      <td>0</td>\n",
       "      <td>1</td>\n",
       "      <td>1</td>\n",
       "      <td>0</td>\n",
       "      <td>0</td>\n",
       "      <td>1</td>\n",
       "    </tr>\n",
       "    <tr>\n",
       "      <th>109</th>\n",
       "      <td>16</td>\n",
       "      <td>1</td>\n",
       "      <td>12</td>\n",
       "      <td>2</td>\n",
       "      <td>0</td>\n",
       "      <td>0</td>\n",
       "      <td>0.42</td>\n",
       "      <td>0</td>\n",
       "      <td>0</td>\n",
       "      <td>0</td>\n",
       "      <td>...</td>\n",
       "      <td>1</td>\n",
       "      <td>0</td>\n",
       "      <td>1</td>\n",
       "      <td>0</td>\n",
       "      <td>1</td>\n",
       "      <td>0</td>\n",
       "      <td>1</td>\n",
       "      <td>0</td>\n",
       "      <td>1</td>\n",
       "      <td>0</td>\n",
       "    </tr>\n",
       "  </tbody>\n",
       "</table>\n",
       "<p>110 rows × 50 columns</p>\n",
       "</div>"
      ],
      "text/plain": [
       "     Age Number of sexual partners First sexual intercourse  \\\n",
       "0     31                   2.63636                  17.1364   \n",
       "1     26                   4.41463                  16.1951   \n",
       "2     28                      7.75                     16.5   \n",
       "3     59                         2                       13   \n",
       "4     17                       1.6                  15.8857   \n",
       "..   ...                       ...                      ...   \n",
       "105   28                         4                       18   \n",
       "106   33                         3                       18   \n",
       "107   25                         6                       17   \n",
       "108   33                         3                       19   \n",
       "109   16                         1                       12   \n",
       "\n",
       "    Num of pregnancies Smokes (years) Smokes (packs/year)  \\\n",
       "0                  2.5     0.00727273         4.54545e-05   \n",
       "1               2.7561      0.0487805          0.00487805   \n",
       "2                 1.25          10.75              4.4533   \n",
       "3                    2              0                   0   \n",
       "4              1.35714     0.00714286         0.000714286   \n",
       "..                 ...            ...                 ...   \n",
       "105                  4              0                   0   \n",
       "106                  2              0                   0   \n",
       "107                  2              0                   0   \n",
       "108                  3              0                   0   \n",
       "109                  2              0                   0   \n",
       "\n",
       "    Hormonal Contraceptives (years) IUD (years) STDs (number)  \\\n",
       "0                           9.59091    0.238636      0.272727   \n",
       "1                          0.743902    0.195122      0.097561   \n",
       "2                            0.1875           0             0   \n",
       "3                                 0        0.41             0   \n",
       "4                          0.283857   4.996e-16      0.214286   \n",
       "..                              ...         ...           ...   \n",
       "105                               0           0             0   \n",
       "106                               0           0             0   \n",
       "107                               2           0             3   \n",
       "108                            0.16           3             0   \n",
       "109                            0.42           0             0   \n",
       "\n",
       "    STDs:condylomatosis  ... Dx:HPV_0 Dx:HPV_1 Dx_0 Dx_1 Hinselmann_0  \\\n",
       "0              0.136364  ...        0        0    0    0            1   \n",
       "1             0.0243902  ...        0        0    0    0            1   \n",
       "2                     0  ...        1        0    1    0            1   \n",
       "3                     0  ...        1        0    0    1            1   \n",
       "4             0.0714286  ...        1        0    1    0            0   \n",
       "..                  ...  ...      ...      ...  ...  ...          ...   \n",
       "105                   0  ...        1        0    1    0            1   \n",
       "106                   0  ...        1        0    1    0            0   \n",
       "107                   1  ...        1        0    1    0            1   \n",
       "108                   0  ...        0        1    0    1            0   \n",
       "109                   0  ...        1        0    1    0            1   \n",
       "\n",
       "    Hinselmann_1 Citology_0 Citology_1 Schiller_0 Schiller_1  \n",
       "0              0          0          0          1          0  \n",
       "1              0          0          0          0          0  \n",
       "2              0          1          0          1          0  \n",
       "3              0          1          0          1          0  \n",
       "4              0          0          0          0          0  \n",
       "..           ...        ...        ...        ...        ...  \n",
       "105            0          1          0          0          1  \n",
       "106            1          0          1          0          1  \n",
       "107            0          0          1          0          1  \n",
       "108            1          1          0          0          1  \n",
       "109            0          1          0          1          0  \n",
       "\n",
       "[110 rows x 50 columns]"
      ]
     },
     "execution_count": 88,
     "metadata": {},
     "output_type": "execute_result"
    }
   ],
   "source": [
    "from imblearn.under_sampling import ClusterCentroids\n",
    "cc = ClusterCentroids(random_state=42)\n",
    "x_cc, y_cc = cc.fit_resample(x, y)\n",
    "x_cc"
   ]
  },
  {
   "cell_type": "code",
   "execution_count": 89,
   "metadata": {},
   "outputs": [
    {
     "name": "stdout",
     "output_type": "stream",
     "text": [
      "Counter({0: 55, 1: 55})\n"
     ]
    },
    {
     "data": {
      "text/plain": [
       "<matplotlib.axes._subplots.AxesSubplot at 0x17b843fd408>"
      ]
     },
     "execution_count": 89,
     "metadata": {},
     "output_type": "execute_result"
    },
    {
     "data": {
      "image/png": "[encoded data removed]",
      "text/plain": [
       "<Figure size 1080x720 with 1 Axes>"
      ]
     },
     "metadata": {},
     "output_type": "display_data"
    }
   ],
   "source": [
    "counter=Counter(y_cc)\n",
    "print(counter)\n",
    "sns.countplot(y_cc)"
   ]
  },
  {
   "cell_type": "code",
   "execution_count": null,
   "metadata": {},
   "outputs": [],
   "source": []
  },
  {
   "cell_type": "code",
   "execution_count": 90,
   "metadata": {},
   "outputs": [],
   "source": [
    "SS = StandardScaler()\n",
    "df_scaled = pd.DataFrame(SS.fit_transform(x_cc), columns = x_cc.columns) # as scaling mandotory for KNN model "
   ]
  },
  {
   "cell_type": "code",
   "execution_count": 91,
   "metadata": {},
   "outputs": [],
   "source": [
    "x_train,x_test,y_train,y_test = train_test_split(x_cc,y_cc, test_size = 0.3, random_state = 1)\n",
    "x_train1,x_test1,y_train,y_test = train_test_split(df_scaled,y_cc, test_size = 0.3, random_state = 1)"
   ]
  },
  {
   "cell_type": "code",
   "execution_count": 92,
   "metadata": {},
   "outputs": [],
   "source": [
    "l= []  #List to store the various model metrics \n"
   ]
  },
  {
   "cell_type": "code",
   "execution_count": 93,
   "metadata": {},
   "outputs": [],
   "source": [
    "from sklearn.linear_model import LogisticRegression \n",
    "from sklearn.metrics import accuracy_score\n",
    "from sklearn.tree import DecisionTreeClassifier, DecisionTreeRegressor \n",
    "from sklearn.ensemble import RandomForestClassifier, RandomForestRegressor, BaggingClassifier,AdaBoostClassifier,GradientBoostingClassifier\n",
    "from sklearn.linear_model import LinearRegression,LogisticRegression\n",
    "from sklearn.neighbors import KNeighborsClassifier\n",
    "from sklearn.naive_bayes import GaussianNB\n",
    "from sklearn import metrics\n",
    "from sklearn.preprocessing import StandardScaler\n",
    "from sklearn.feature_selection import RFE\n",
    "from collections import Counter"
   ]
  },
  {
   "cell_type": "code",
   "execution_count": 94,
   "metadata": {},
   "outputs": [],
   "source": [
    "def models_lr(x,y):\n",
    "    mod = {}\n",
    "    model = LogisticRegression().fit(x,y)\n",
    "    ypred = model.predict(x_test)\n",
    "    mod['Model'] = 'LogisticRegression'\n",
    "    mod['Train_Score'] = model.score(x_train,y_train)\n",
    "    mod['Test_accuracy'] = metrics.accuracy_score(y_test,ypred)\n",
    "    mod['f1score'] = metrics.f1_score(y_test,ypred)\n",
    "    mod['recall'] = metrics.recall_score(y_test, ypred)\n",
    "    mod['precision'] = metrics.precision_score(y_test, ypred)\n",
    "    model.predict_proba(x_test)\n",
    "    mod['roc_auc'] = metrics.roc_auc_score(y_test,ypred)\n",
    "    return mod\n",
    "l.append(models_lr(x_train,y_train))\n",
    "\n",
    "def models_dt(x,y):\n",
    "    mod = {}\n",
    "    model = DecisionTreeClassifier().fit(x,y)\n",
    "    ypred = model.predict(x_test)\n",
    "    mod['Model'] = 'Decision Tree'\n",
    "    mod['Train_Score'] = model.score(x_train,y_train)\n",
    "    mod['Test_accuracy'] = metrics.accuracy_score(y_test,ypred)\n",
    "    mod['f1score'] = metrics.f1_score(y_test,ypred)\n",
    "    mod['recall'] = metrics.recall_score(y_test, ypred)\n",
    "    mod['precision'] = metrics.precision_score(y_test, ypred)\n",
    "    model.predict_proba(x_test)\n",
    "    mod['roc_auc'] = metrics.roc_auc_score(y_test,ypred)\n",
    "    return mod\n",
    "l.append(models_dt(x_train,y_train))\n",
    "\n",
    "def models_rf(x,y):\n",
    "    mod = {}\n",
    "    model = RandomForestClassifier().fit(x,y)\n",
    "    ypred = model.predict(x_test)\n",
    "    mod['Model'] = 'Random Forest'\n",
    "    mod['Train_Score'] = model.score(x_train,y_train)\n",
    "    mod['Test_accuracy'] = metrics.accuracy_score(y_test,ypred)\n",
    "    mod['f1score'] = metrics.f1_score(y_test,ypred)\n",
    "    mod['recall'] = metrics.recall_score(y_test, ypred)\n",
    "    mod['precision'] = metrics.precision_score(y_test, ypred)\n",
    "    model.predict_proba(x_test)\n",
    "    mod['roc_auc'] = metrics.roc_auc_score(y_test,ypred)\n",
    "    return mod\n",
    "l.append(models_rf(x_train,y_train))\n",
    "\n",
    "def models_nb(x,y):\n",
    "    mod = {}\n",
    "    model = GaussianNB().fit(x,y)\n",
    "    ypred = model.predict(x_test)\n",
    "    mod['Model'] = 'GaussianNB'\n",
    "    mod['Train_Score'] = model.score(x_train,y_train)\n",
    "    mod['Test_accuracy'] = metrics.accuracy_score(y_test,ypred)\n",
    "    mod['f1score'] = metrics.f1_score(y_test,ypred)\n",
    "    mod['recall'] = metrics.recall_score(y_test, ypred)\n",
    "    mod['precision'] = metrics.precision_score(y_test, ypred)\n",
    "    model.predict_proba(x_test)\n",
    "    mod['roc_auc'] = metrics.roc_auc_score(y_test,ypred)\n",
    "    return mod\n",
    "l.append(models_nb(x_train,y_train))\n",
    "\n",
    "def models_knn(x,y):\n",
    "    mod = {}\n",
    "    model = KNeighborsClassifier().fit(x,y)\n",
    "    ypred = model.predict(x_test1)\n",
    "    mod['Model'] = 'KNN'\n",
    "    mod['Train_Score'] = model.score(x_train1,y_train)\n",
    "    mod['Test_accuracy'] = metrics.accuracy_score(y_test,ypred)\n",
    "    mod['f1score'] = metrics.f1_score(y_test,ypred)\n",
    "    mod['recall'] = metrics.recall_score(y_test, ypred)\n",
    "    mod['precision'] = metrics.precision_score(y_test, ypred)\n",
    "    model.predict_proba(x_test)\n",
    "    mod['roc_auc'] = metrics.roc_auc_score(y_test,ypred)\n",
    "    return mod\n",
    "l.append(models_knn(x_train1,y_train))"
   ]
  },
  {
   "cell_type": "code",
   "execution_count": 95,
   "metadata": {},
   "outputs": [
    {
     "data": {
      "text/html": [
       "<div>\n",
       "<style scoped>\n",
       "    .dataframe tbody tr th:only-of-type {\n",
       "        vertical-align: middle;\n",
       "    }\n",
       "\n",
       "    .dataframe tbody tr th {\n",
       "        vertical-align: top;\n",
       "    }\n",
       "\n",
       "    .dataframe thead th {\n",
       "        text-align: right;\n",
       "    }\n",
       "</style>\n",
       "<table border=\"1\" class=\"dataframe\">\n",
       "  <thead>\n",
       "    <tr style=\"text-align: right;\">\n",
       "      <th></th>\n",
       "      <th>Model</th>\n",
       "      <th>Train_Score</th>\n",
       "      <th>Test_accuracy</th>\n",
       "      <th>f1score</th>\n",
       "      <th>recall</th>\n",
       "      <th>precision</th>\n",
       "      <th>roc_auc</th>\n",
       "    </tr>\n",
       "  </thead>\n",
       "  <tbody>\n",
       "    <tr>\n",
       "      <th>0</th>\n",
       "      <td>LogisticRegression</td>\n",
       "      <td>1.000000</td>\n",
       "      <td>0.878788</td>\n",
       "      <td>0.904762</td>\n",
       "      <td>0.904762</td>\n",
       "      <td>0.904762</td>\n",
       "      <td>0.869048</td>\n",
       "    </tr>\n",
       "    <tr>\n",
       "      <th>1</th>\n",
       "      <td>Decision Tree</td>\n",
       "      <td>1.000000</td>\n",
       "      <td>0.969697</td>\n",
       "      <td>0.975610</td>\n",
       "      <td>0.952381</td>\n",
       "      <td>1.000000</td>\n",
       "      <td>0.976190</td>\n",
       "    </tr>\n",
       "    <tr>\n",
       "      <th>2</th>\n",
       "      <td>Random Forest</td>\n",
       "      <td>1.000000</td>\n",
       "      <td>0.969697</td>\n",
       "      <td>0.976744</td>\n",
       "      <td>1.000000</td>\n",
       "      <td>0.954545</td>\n",
       "      <td>0.958333</td>\n",
       "    </tr>\n",
       "    <tr>\n",
       "      <th>3</th>\n",
       "      <td>GaussianNB</td>\n",
       "      <td>0.974026</td>\n",
       "      <td>0.878788</td>\n",
       "      <td>0.900000</td>\n",
       "      <td>0.857143</td>\n",
       "      <td>0.947368</td>\n",
       "      <td>0.886905</td>\n",
       "    </tr>\n",
       "    <tr>\n",
       "      <th>4</th>\n",
       "      <td>KNN</td>\n",
       "      <td>0.909091</td>\n",
       "      <td>0.818182</td>\n",
       "      <td>0.842105</td>\n",
       "      <td>0.761905</td>\n",
       "      <td>0.941176</td>\n",
       "      <td>0.839286</td>\n",
       "    </tr>\n",
       "  </tbody>\n",
       "</table>\n",
       "</div>"
      ],
      "text/plain": [
       "                Model  Train_Score  Test_accuracy   f1score    recall  \\\n",
       "0  LogisticRegression     1.000000       0.878788  0.904762  0.904762   \n",
       "1       Decision Tree     1.000000       0.969697  0.975610  0.952381   \n",
       "2       Random Forest     1.000000       0.969697  0.976744  1.000000   \n",
       "3          GaussianNB     0.974026       0.878788  0.900000  0.857143   \n",
       "4                 KNN     0.909091       0.818182  0.842105  0.761905   \n",
       "\n",
       "   precision   roc_auc  \n",
       "0   0.904762  0.869048  \n",
       "1   1.000000  0.976190  \n",
       "2   0.954545  0.958333  \n",
       "3   0.947368  0.886905  \n",
       "4   0.941176  0.839286  "
      ]
     },
     "execution_count": 95,
     "metadata": {},
     "output_type": "execute_result"
    }
   ],
   "source": [
    "base_df = pd.DataFrame(l)\n",
    "base_df"
   ]
  },
  {
   "cell_type": "markdown",
   "metadata": {},
   "source": [
    "## GRID SEARCH on CLUSTER CENTROID"
   ]
  },
  {
   "cell_type": "code",
   "execution_count": 96,
   "metadata": {},
   "outputs": [
    {
     "name": "stdout",
     "output_type": "stream",
     "text": [
      "Start Fitting Training Data\n"
     ]
    },
    {
     "data": {
      "application/vnd.jupyter.widget-view+json": {
       "model_id": "9843a4d731a548cbbffce49bfde5fb0d",
       "version_major": 2,
       "version_minor": 0
      },
      "text/plain": [
       "HBox(children=(FloatProgress(value=0.0, max=6.0), HTML(value='')))"
      ]
     },
     "metadata": {},
     "output_type": "display_data"
    },
    {
     "name": "stdout",
     "output_type": "stream",
     "text": [
      "Score for 5 fold CV = 1.00\n",
      "!!!!!!!! Best-Fit Parameters From Training Data !!!!!!!!!!!!!!\n",
      "{'SupVM__C': 30, 'SupVM__gamma': 0.005}\n",
      " \n",
      " \n",
      "Score for 6 fold CV = 1.00\n",
      "!!!!!!!! Best-Fit Parameters From Training Data !!!!!!!!!!!!!!\n",
      "{'SupVM__C': 30, 'SupVM__gamma': 0.01}\n",
      " \n",
      " \n",
      "Score for 7 fold CV = 1.00\n",
      "!!!!!!!! Best-Fit Parameters From Training Data !!!!!!!!!!!!!!\n",
      "{'SupVM__C': 30, 'SupVM__gamma': 0.01}\n",
      " \n",
      " \n",
      "Score for 8 fold CV = 1.00\n",
      "!!!!!!!! Best-Fit Parameters From Training Data !!!!!!!!!!!!!!\n",
      "{'SupVM__C': 30, 'SupVM__gamma': 0.01}\n",
      " \n",
      " \n",
      "Score for 9 fold CV = 1.00\n",
      "!!!!!!!! Best-Fit Parameters From Training Data !!!!!!!!!!!!!!\n",
      "{'SupVM__C': 30, 'SupVM__gamma': 0.005}\n",
      " \n",
      " \n",
      "Score for 10 fold CV = 0.97\n",
      "!!!!!!!! Best-Fit Parameters From Training Data !!!!!!!!!!!!!!\n",
      "{'SupVM__C': 0.5, 'SupVM__gamma': 0.01}\n",
      " \n",
      " \n",
      "\n",
      "Out of Loop\n"
     ]
    }
   ],
   "source": [
    "from sklearn.svm import SVC\n",
    "\n",
    "from sklearn.model_selection import GridSearchCV\n",
    "\n",
    "from sklearn import preprocessing \n",
    "from sklearn.preprocessing import StandardScaler\n",
    "\n",
    "\n",
    "pipe_steps = [('scaler', StandardScaler()), ('SupVM', SVC(kernel='rbf'))]\n",
    "\n",
    "\n",
    "check_params= { \n",
    "    'SupVM__C': [0.001,0.005,0.1, 0.5, 1, 10,30,40,41,42,43], \n",
    "    'SupVM__gamma' : [0.001, 0.005, 0.01, 0.05, 0.07, 0.1, 0.5, 1, 5, 10, 50]\n",
    "}\n",
    "\n",
    "\n",
    "\n",
    "\n",
    "from sklearn.pipeline import Pipeline\n",
    "\n",
    "pipeline = Pipeline(pipe_steps)\n",
    "# I love You So Much \n",
    "from tqdm import tqdm_notebook as tqdm\n",
    "from sklearn.model_selection import GridSearchCV\n",
    "import warnings\n",
    "warnings.filterwarnings(\"ignore\")\n",
    "\n",
    "print(\"Start Fitting Training Data\")\n",
    "for cvx in tqdm(range(5,11)):\n",
    "    newgrid=GridSearchCV(pipeline,param_grid=check_params,cv=cvx)\n",
    "   \n",
    "    newgrid.fit(x_cc,y_cc)\n",
    "    \n",
    "    print(\"Score for %d fold CV = %3.2f\"%(cvx,newgrid.score(x_cc,y_cc)))\n",
    "    print (\"!!!!!!!! Best-Fit Parameters From Training Data !!!!!!!!!!!!!!\")\n",
    "    print (newgrid.best_params_)\n",
    "    print(\" \")\n",
    "    print(\" \")\n",
    "    \n",
    "print(\"Out of Loop\")"
   ]
  },
  {
   "cell_type": "code",
   "execution_count": 97,
   "metadata": {},
   "outputs": [
    {
     "name": "stdout",
     "output_type": "stream",
     "text": [
      "Accuracy: 93.94%\n",
      "Precision : 100.00%\n",
      "Recall: 90.48%\n",
      "F1 : 95.00%\n"
     ]
    }
   ],
   "source": [
    "classifier = AdaBoostClassifier(\n",
    "    DecisionTreeClassifier(max_depth=1),\n",
    "    n_estimators=200\n",
    ")\n",
    "classifier.fit(x_train1, y_train)\n",
    "predictions = classifier.predict(x_test1)\n",
    "\n",
    "\n",
    "from sklearn.metrics import accuracy_score\n",
    "from sklearn.metrics import f1_score\n",
    "from sklearn.metrics import recall_score\n",
    "from sklearn.metrics import precision_score\n",
    "\n",
    "\n",
    "accuracy = accuracy_score(y_test, predictions)\n",
    "\n",
    "f1 = f1_score(y_test, predictions)\n",
    "re = recall_score(y_test, predictions)\n",
    "pre = precision_score(y_test, predictions)\n",
    "\n",
    "print(\"Accuracy: %.2f%%\" % (accuracy * 100.0))\n",
    "print(\"Precision : %.2f%%\" % (pre * 100.0))\n",
    "print(\"Recall: %.2f%%\" % (re * 100.0))\n",
    "print(\"F1 : %.2f%%\" % (f1 * 100.0))"
   ]
  },
  {
   "cell_type": "code",
   "execution_count": 98,
   "metadata": {},
   "outputs": [
    {
     "name": "stdout",
     "output_type": "stream",
     "text": [
      "Accuracy: 96.97%\n"
     ]
    }
   ],
   "source": [
    "# XG Boost\n",
    " \n",
    "from numpy import loadtxt\n",
    "from xgboost import XGBClassifier\n",
    "from sklearn.model_selection import train_test_split\n",
    "from sklearn.metrics import accuracy_score\n",
    " \n",
    "seed = 7\n",
    "test_size = 0.33\n",
    "\n",
    "model = XGBClassifier()\n",
    "model.fit(x_train1, y_train)\n",
    "# make predictions for test data\n",
    "y_pred = model.predict(x_test1)\n",
    "predictions = [round(value) for value in y_pred]\n",
    "# evaluate predictions\n",
    "accuracy = accuracy_score(y_test, predictions)\n",
    "print(\"Accuracy: %.2f%%\" % (accuracy * 100.0))"
   ]
  },
  {
   "cell_type": "code",
   "execution_count": null,
   "metadata": {},
   "outputs": [],
   "source": []
  },
  {
   "cell_type": "markdown",
   "metadata": {},
   "source": [
    "# FINAL DATA SET and the END"
   ]
  },
  {
   "cell_type": "code",
   "execution_count": null,
   "metadata": {},
   "outputs": [],
   "source": []
  },
  {
   "cell_type": "code",
   "execution_count": 99,
   "metadata": {},
   "outputs": [],
   "source": [
    "from imblearn.under_sampling import (RandomUnderSampler, ClusterCentroids, TomekLinks, NeighbourhoodCleaningRule, NearMiss)\n",
    "from collections import Counter"
   ]
  },
  {
   "cell_type": "code",
   "execution_count": 100,
   "metadata": {},
   "outputs": [
    {
     "data": {
      "text/plain": [
       "<matplotlib.axes._subplots.AxesSubplot at 0x17b8426e848>"
      ]
     },
     "execution_count": 100,
     "metadata": {},
     "output_type": "execute_result"
    },
    {
     "data": {
      "image/png": "[encoded data removed]",
      "text/plain": [
       "<Figure size 1080x720 with 1 Axes>"
      ]
     },
     "metadata": {},
     "output_type": "display_data"
    }
   ],
   "source": [
    "# NM_3\n",
    "\n",
    "x2=x\n",
    "y2=y\n",
    "nearmisssampler3 = NearMiss(version=3)\n",
    "x_nm3, y_nm3 = nearmisssampler3.fit_sample(x2, y2)\n",
    "nm3df=pd.concat([x_nm3,y_nm3],axis=1)\n",
    "sns.countplot(y_nm3)"
   ]
  },
  {
   "cell_type": "code",
   "execution_count": 101,
   "metadata": {},
   "outputs": [
    {
     "data": {
      "text/plain": [
       "<matplotlib.axes._subplots.AxesSubplot at 0x17b843d2d48>"
      ]
     },
     "execution_count": 101,
     "metadata": {},
     "output_type": "execute_result"
    },
    {
     "data": {
      "image/png": "[encoded data removed]",
      "text/plain": [
       "<Figure size 1080x720 with 1 Axes>"
      ]
     },
     "metadata": {},
     "output_type": "display_data"
    }
   ],
   "source": [
    "# CNN\n",
    "xcc=x\n",
    "ycc=y\n",
    "from imblearn.under_sampling import CondensedNearestNeighbour\n",
    "cnn = CondensedNearestNeighbour(n_neighbors=1)\n",
    "\n",
    "x_cnn,y_cnn= cnn.fit_resample(xcc, ycc)\n",
    "cnndf=pd.concat([x_cnn,y_cnn],axis=1)\n",
    "\n",
    "sns.countplot(y_cnn)"
   ]
  },
  {
   "cell_type": "code",
   "execution_count": 102,
   "metadata": {},
   "outputs": [
    {
     "data": {
      "text/plain": [
       "<matplotlib.axes._subplots.AxesSubplot at 0x17b844ee9c8>"
      ]
     },
     "execution_count": 102,
     "metadata": {},
     "output_type": "execute_result"
    },
    {
     "data": {
      "image/png": "[encoded data removed]",
      "text/plain": [
       "<Figure size 1080x720 with 1 Axes>"
      ]
     },
     "metadata": {},
     "output_type": "display_data"
    }
   ],
   "source": [
    "from imblearn.under_sampling import ClusterCentroids\n",
    "cc = ClusterCentroids(random_state=42)\n",
    "x_cc, y_cc = cc.fit_resample(x, y)\n",
    "ccdf=pd.concat([x_cc,y_cc],axis=1)\n",
    "\n",
    "sns.countplot(y_cc)"
   ]
  },
  {
   "cell_type": "markdown",
   "metadata": {},
   "source": [
    "# (NM ^ CNN) U (CNN ^ CC) U (CC ^ NM)"
   ]
  },
  {
   "cell_type": "code",
   "execution_count": 103,
   "metadata": {},
   "outputs": [
    {
     "name": "stdout",
     "output_type": "stream",
     "text": [
      "Original dataset shape Counter({0: 803, 1: 55})\n",
      "Resampled dataset shape Counter({1: 54, 0: 30})\n"
     ]
    },
    {
     "data": {
      "text/plain": [
       "<matplotlib.axes._subplots.AxesSubplot at 0x17b84576488>"
      ]
     },
     "execution_count": 103,
     "metadata": {},
     "output_type": "execute_result"
    },
    {
     "data": {
      "image/png": "[encoded data removed]",
      "text/plain": [
       "<Figure size 1080x720 with 1 Axes>"
      ]
     },
     "metadata": {},
     "output_type": "display_data"
    }
   ],
   "source": [
    "# (NM ^ ENN) U (ENN ^ NCR) U (NCR ^ NM)\n",
    "\n",
    "nmcnn=nm3df.merge(cnndf)\n",
    "cnncc=cnndf.merge(ccdf)\n",
    "ccnm=ccdf.merge(nm3df)\n",
    "\n",
    "\n",
    "holax = pd.concat([nmcnn,cnncc,ccnm], ignore_index = True)\n",
    "holax = holax.drop_duplicates()\n",
    "xxe=holax.drop('Biopsy',axis=1)\n",
    "yye=holax['Biopsy']\n",
    "\n",
    "print('Original dataset shape {}'.format(Counter(y)))\n",
    "print('Resampled dataset shape {}'.format(Counter(yye)))\n",
    "sns.countplot(yye)\n"
   ]
  },
  {
   "cell_type": "code",
   "execution_count": null,
   "metadata": {},
   "outputs": [],
   "source": [
    "\n"
   ]
  },
  {
   "cell_type": "code",
   "execution_count": 104,
   "metadata": {},
   "outputs": [
    {
     "data": {
      "text/html": [
       "<div>\n",
       "<style scoped>\n",
       "    .dataframe tbody tr th:only-of-type {\n",
       "        vertical-align: middle;\n",
       "    }\n",
       "\n",
       "    .dataframe tbody tr th {\n",
       "        vertical-align: top;\n",
       "    }\n",
       "\n",
       "    .dataframe thead th {\n",
       "        text-align: right;\n",
       "    }\n",
       "</style>\n",
       "<table border=\"1\" class=\"dataframe\">\n",
       "  <thead>\n",
       "    <tr style=\"text-align: right;\">\n",
       "      <th></th>\n",
       "      <th>Age</th>\n",
       "      <th>Number of sexual partners</th>\n",
       "      <th>First sexual intercourse</th>\n",
       "      <th>Num of pregnancies</th>\n",
       "      <th>Smokes (years)</th>\n",
       "      <th>Smokes (packs/year)</th>\n",
       "      <th>Hormonal Contraceptives (years)</th>\n",
       "      <th>IUD (years)</th>\n",
       "      <th>STDs (number)</th>\n",
       "      <th>STDs:condylomatosis</th>\n",
       "      <th>...</th>\n",
       "      <th>Dx:HPV_0</th>\n",
       "      <th>Dx:HPV_1</th>\n",
       "      <th>Dx_0</th>\n",
       "      <th>Dx_1</th>\n",
       "      <th>Hinselmann_0</th>\n",
       "      <th>Hinselmann_1</th>\n",
       "      <th>Citology_0</th>\n",
       "      <th>Citology_1</th>\n",
       "      <th>Schiller_0</th>\n",
       "      <th>Schiller_1</th>\n",
       "    </tr>\n",
       "  </thead>\n",
       "  <tbody>\n",
       "    <tr>\n",
       "      <th>0</th>\n",
       "      <td>48</td>\n",
       "      <td>2</td>\n",
       "      <td>16</td>\n",
       "      <td>7</td>\n",
       "      <td>32</td>\n",
       "      <td>8</td>\n",
       "      <td>7</td>\n",
       "      <td>0</td>\n",
       "      <td>0</td>\n",
       "      <td>0</td>\n",
       "      <td>...</td>\n",
       "      <td>1</td>\n",
       "      <td>0</td>\n",
       "      <td>1</td>\n",
       "      <td>0</td>\n",
       "      <td>1</td>\n",
       "      <td>0</td>\n",
       "      <td>1</td>\n",
       "      <td>0</td>\n",
       "      <td>1</td>\n",
       "      <td>0</td>\n",
       "    </tr>\n",
       "    <tr>\n",
       "      <th>1</th>\n",
       "      <td>42</td>\n",
       "      <td>3</td>\n",
       "      <td>18</td>\n",
       "      <td>4</td>\n",
       "      <td>0</td>\n",
       "      <td>0</td>\n",
       "      <td>1</td>\n",
       "      <td>0</td>\n",
       "      <td>2</td>\n",
       "      <td>1</td>\n",
       "      <td>...</td>\n",
       "      <td>1</td>\n",
       "      <td>0</td>\n",
       "      <td>1</td>\n",
       "      <td>0</td>\n",
       "      <td>1</td>\n",
       "      <td>0</td>\n",
       "      <td>1</td>\n",
       "      <td>0</td>\n",
       "      <td>1</td>\n",
       "      <td>0</td>\n",
       "    </tr>\n",
       "    <tr>\n",
       "      <th>2</th>\n",
       "      <td>31</td>\n",
       "      <td>2</td>\n",
       "      <td>20</td>\n",
       "      <td>2</td>\n",
       "      <td>9</td>\n",
       "      <td>4.5</td>\n",
       "      <td>6</td>\n",
       "      <td>0</td>\n",
       "      <td>2</td>\n",
       "      <td>1</td>\n",
       "      <td>...</td>\n",
       "      <td>1</td>\n",
       "      <td>0</td>\n",
       "      <td>1</td>\n",
       "      <td>0</td>\n",
       "      <td>1</td>\n",
       "      <td>0</td>\n",
       "      <td>1</td>\n",
       "      <td>0</td>\n",
       "      <td>1</td>\n",
       "      <td>0</td>\n",
       "    </tr>\n",
       "    <tr>\n",
       "      <th>3</th>\n",
       "      <td>36</td>\n",
       "      <td>3</td>\n",
       "      <td>20</td>\n",
       "      <td>2</td>\n",
       "      <td>0</td>\n",
       "      <td>0</td>\n",
       "      <td>6</td>\n",
       "      <td>0</td>\n",
       "      <td>1</td>\n",
       "      <td>0</td>\n",
       "      <td>...</td>\n",
       "      <td>0</td>\n",
       "      <td>1</td>\n",
       "      <td>0</td>\n",
       "      <td>1</td>\n",
       "      <td>1</td>\n",
       "      <td>0</td>\n",
       "      <td>1</td>\n",
       "      <td>0</td>\n",
       "      <td>1</td>\n",
       "      <td>0</td>\n",
       "    </tr>\n",
       "    <tr>\n",
       "      <th>4</th>\n",
       "      <td>32</td>\n",
       "      <td>7</td>\n",
       "      <td>12</td>\n",
       "      <td>2</td>\n",
       "      <td>19</td>\n",
       "      <td>5.7</td>\n",
       "      <td>0.5</td>\n",
       "      <td>0</td>\n",
       "      <td>0</td>\n",
       "      <td>0</td>\n",
       "      <td>...</td>\n",
       "      <td>1</td>\n",
       "      <td>0</td>\n",
       "      <td>1</td>\n",
       "      <td>0</td>\n",
       "      <td>1</td>\n",
       "      <td>0</td>\n",
       "      <td>1</td>\n",
       "      <td>0</td>\n",
       "      <td>1</td>\n",
       "      <td>0</td>\n",
       "    </tr>\n",
       "    <tr>\n",
       "      <th>...</th>\n",
       "      <td>...</td>\n",
       "      <td>...</td>\n",
       "      <td>...</td>\n",
       "      <td>...</td>\n",
       "      <td>...</td>\n",
       "      <td>...</td>\n",
       "      <td>...</td>\n",
       "      <td>...</td>\n",
       "      <td>...</td>\n",
       "      <td>...</td>\n",
       "      <td>...</td>\n",
       "      <td>...</td>\n",
       "      <td>...</td>\n",
       "      <td>...</td>\n",
       "      <td>...</td>\n",
       "      <td>...</td>\n",
       "      <td>...</td>\n",
       "      <td>...</td>\n",
       "      <td>...</td>\n",
       "      <td>...</td>\n",
       "      <td>...</td>\n",
       "    </tr>\n",
       "    <tr>\n",
       "      <th>82</th>\n",
       "      <td>16</td>\n",
       "      <td>1</td>\n",
       "      <td>12</td>\n",
       "      <td>2</td>\n",
       "      <td>0</td>\n",
       "      <td>0</td>\n",
       "      <td>0.42</td>\n",
       "      <td>0</td>\n",
       "      <td>0</td>\n",
       "      <td>0</td>\n",
       "      <td>...</td>\n",
       "      <td>1</td>\n",
       "      <td>0</td>\n",
       "      <td>1</td>\n",
       "      <td>0</td>\n",
       "      <td>1</td>\n",
       "      <td>0</td>\n",
       "      <td>1</td>\n",
       "      <td>0</td>\n",
       "      <td>1</td>\n",
       "      <td>0</td>\n",
       "    </tr>\n",
       "    <tr>\n",
       "      <th>83</th>\n",
       "      <td>52</td>\n",
       "      <td>5</td>\n",
       "      <td>16</td>\n",
       "      <td>4</td>\n",
       "      <td>37</td>\n",
       "      <td>37</td>\n",
       "      <td>3</td>\n",
       "      <td>0</td>\n",
       "      <td>0</td>\n",
       "      <td>0</td>\n",
       "      <td>...</td>\n",
       "      <td>0</td>\n",
       "      <td>1</td>\n",
       "      <td>1</td>\n",
       "      <td>0</td>\n",
       "      <td>1</td>\n",
       "      <td>0</td>\n",
       "      <td>1</td>\n",
       "      <td>0</td>\n",
       "      <td>1</td>\n",
       "      <td>0</td>\n",
       "    </tr>\n",
       "    <tr>\n",
       "      <th>84</th>\n",
       "      <td>20</td>\n",
       "      <td>2</td>\n",
       "      <td>18</td>\n",
       "      <td>1</td>\n",
       "      <td>13</td>\n",
       "      <td>7</td>\n",
       "      <td>0</td>\n",
       "      <td>0</td>\n",
       "      <td>2</td>\n",
       "      <td>0</td>\n",
       "      <td>...</td>\n",
       "      <td>1</td>\n",
       "      <td>0</td>\n",
       "      <td>1</td>\n",
       "      <td>0</td>\n",
       "      <td>1</td>\n",
       "      <td>0</td>\n",
       "      <td>1</td>\n",
       "      <td>0</td>\n",
       "      <td>1</td>\n",
       "      <td>0</td>\n",
       "    </tr>\n",
       "    <tr>\n",
       "      <th>86</th>\n",
       "      <td>59</td>\n",
       "      <td>2</td>\n",
       "      <td>13</td>\n",
       "      <td>2</td>\n",
       "      <td>0</td>\n",
       "      <td>0</td>\n",
       "      <td>0</td>\n",
       "      <td>0.41</td>\n",
       "      <td>0</td>\n",
       "      <td>0</td>\n",
       "      <td>...</td>\n",
       "      <td>1</td>\n",
       "      <td>0</td>\n",
       "      <td>0</td>\n",
       "      <td>1</td>\n",
       "      <td>1</td>\n",
       "      <td>0</td>\n",
       "      <td>1</td>\n",
       "      <td>0</td>\n",
       "      <td>1</td>\n",
       "      <td>0</td>\n",
       "    </tr>\n",
       "    <tr>\n",
       "      <th>87</th>\n",
       "      <td>84</td>\n",
       "      <td>3</td>\n",
       "      <td>20</td>\n",
       "      <td>11</td>\n",
       "      <td>24</td>\n",
       "      <td>0.513202</td>\n",
       "      <td>0</td>\n",
       "      <td>0</td>\n",
       "      <td>0</td>\n",
       "      <td>0</td>\n",
       "      <td>...</td>\n",
       "      <td>1</td>\n",
       "      <td>0</td>\n",
       "      <td>1</td>\n",
       "      <td>0</td>\n",
       "      <td>1</td>\n",
       "      <td>0</td>\n",
       "      <td>1</td>\n",
       "      <td>0</td>\n",
       "      <td>0</td>\n",
       "      <td>1</td>\n",
       "    </tr>\n",
       "  </tbody>\n",
       "</table>\n",
       "<p>84 rows × 50 columns</p>\n",
       "</div>"
      ],
      "text/plain": [
       "    Age Number of sexual partners First sexual intercourse Num of pregnancies  \\\n",
       "0    48                         2                       16                  7   \n",
       "1    42                         3                       18                  4   \n",
       "2    31                         2                       20                  2   \n",
       "3    36                         3                       20                  2   \n",
       "4    32                         7                       12                  2   \n",
       "..  ...                       ...                      ...                ...   \n",
       "82   16                         1                       12                  2   \n",
       "83   52                         5                       16                  4   \n",
       "84   20                         2                       18                  1   \n",
       "86   59                         2                       13                  2   \n",
       "87   84                         3                       20                 11   \n",
       "\n",
       "   Smokes (years) Smokes (packs/year) Hormonal Contraceptives (years)  \\\n",
       "0              32                   8                               7   \n",
       "1               0                   0                               1   \n",
       "2               9                 4.5                               6   \n",
       "3               0                   0                               6   \n",
       "4              19                 5.7                             0.5   \n",
       "..            ...                 ...                             ...   \n",
       "82              0                   0                            0.42   \n",
       "83             37                  37                               3   \n",
       "84             13                   7                               0   \n",
       "86              0                   0                               0   \n",
       "87             24            0.513202                               0   \n",
       "\n",
       "   IUD (years) STDs (number) STDs:condylomatosis  ... Dx:HPV_0 Dx:HPV_1 Dx_0  \\\n",
       "0            0             0                   0  ...        1        0    1   \n",
       "1            0             2                   1  ...        1        0    1   \n",
       "2            0             2                   1  ...        1        0    1   \n",
       "3            0             1                   0  ...        0        1    0   \n",
       "4            0             0                   0  ...        1        0    1   \n",
       "..         ...           ...                 ...  ...      ...      ...  ...   \n",
       "82           0             0                   0  ...        1        0    1   \n",
       "83           0             0                   0  ...        0        1    1   \n",
       "84           0             2                   0  ...        1        0    1   \n",
       "86        0.41             0                   0  ...        1        0    0   \n",
       "87           0             0                   0  ...        1        0    1   \n",
       "\n",
       "   Dx_1 Hinselmann_0 Hinselmann_1 Citology_0 Citology_1 Schiller_0 Schiller_1  \n",
       "0     0            1            0          1          0          1          0  \n",
       "1     0            1            0          1          0          1          0  \n",
       "2     0            1            0          1          0          1          0  \n",
       "3     1            1            0          1          0          1          0  \n",
       "4     0            1            0          1          0          1          0  \n",
       "..  ...          ...          ...        ...        ...        ...        ...  \n",
       "82    0            1            0          1          0          1          0  \n",
       "83    0            1            0          1          0          1          0  \n",
       "84    0            1            0          1          0          1          0  \n",
       "86    1            1            0          1          0          1          0  \n",
       "87    0            1            0          1          0          0          1  \n",
       "\n",
       "[84 rows x 50 columns]"
      ]
     },
     "execution_count": 104,
     "metadata": {},
     "output_type": "execute_result"
    }
   ],
   "source": [
    "xxe"
   ]
  },
  {
   "cell_type": "code",
   "execution_count": null,
   "metadata": {},
   "outputs": [],
   "source": []
  }
 ],
 "metadata": {
  "kernelspec": {
   "display_name": "Python 3",
   "language": "python",
   "name": "python3"
  },
  "language_info": {
   "codemirror_mode": {
    "name": "ipython",
    "version": 3
   },
   "file_extension": ".py",
   "mimetype": "text/x-python",
   "name": "python",
   "nbconvert_exporter": "python",
   "pygments_lexer": "ipython3",
   "version": "3.7.6"
  }
 },
 "nbformat": 4,
 "nbformat_minor": 4
}
